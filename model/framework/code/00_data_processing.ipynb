{
 "cells": [
  {
   "cell_type": "code",
   "execution_count": 1,
   "metadata": {},
   "outputs": [],
   "source": [
    "import os\n",
    "import pandas as pd\n",
    "from rdkit import Chem\n",
    "\n",
    "DATAPATH = \"../data\""
   ]
  },
  {
   "cell_type": "code",
   "execution_count": 4,
   "metadata": {},
   "outputs": [
    {
     "name": "stdout",
     "output_type": "stream",
     "text": [
      "(591, 4)\n",
      "(591, 3)\n",
      "(589, 3)\n"
     ]
    }
   ],
   "source": [
    "##compare that the molecule length is the same based on smiles \n",
    "import pandas as pd\n",
    "\n",
    "# Load DrugBank_DDI_interactions.xls file\n",
    "df = pd.read_excel('../data/DrugBank_DDI_interactions.xls', sheet_name = '003 - final')\n",
    "df = df[[\"Smiles\", \"Outcome\"]]\n",
    "\n",
    "mols = [Chem.MolFromSmiles(s) for s in df[\"Smiles\"].tolist()]\n",
    "st_smiles = [Chem.MolToSmiles(mol) if mol is not None else None for mol in mols]\n",
    "inchikey = [Chem.MolToInchiKey(mol) if mol is not None else None for mol in mols]\n",
    "\n",
    "df[\"smiles\"]= st_smiles\n",
    "df[\"inchikey\"] = inchikey\n",
    "print(df.shape)\n",
    "df.dropna(subset=\"smiles\", inplace=True)\n",
    "df.rename(columns={\"Outcome\":\"outcome\"}, inplace=True)\n",
    "df = df[[\"smiles\", \"inchikey\", \"outcome\"]]\n",
    "print(df.shape)\n",
    "df = df.drop_duplicates(keep='first')\n",
    "print(df.shape)\n",
    "\n",
    "df.to_csv(\"../data/training_set.csv\", index=False)"
   ]
  },
  {
   "cell_type": "markdown",
   "metadata": {},
   "source": [
    "# Data Analysis"
   ]
  },
  {
   "cell_type": "code",
   "execution_count": 5,
   "metadata": {},
   "outputs": [
    {
     "name": "stdout",
     "output_type": "stream",
     "text": [
      "(475, 5)\n",
      "(475, 3)\n"
     ]
    }
   ],
   "source": [
    "#TDC dataset\n",
    "df1 = pd.read_csv('../data/dili_tdc_dataset.csv')\n",
    "#Our dataset\n",
    "df2 = pd.read_csv('../data/training_set.csv')\n",
    "\n",
    "mols = [Chem.MolFromSmiles(s) for s in df1[\"Drug\"].tolist()]\n",
    "st_smiles = [Chem.MolToSmiles(mol) if mol is not None else None for mol in mols]\n",
    "inchikey = [Chem.MolToInchiKey(mol) if mol is not None else None for mol in mols]\n",
    "df1[\"smiles\"]= st_smiles\n",
    "df1[\"inchikey\"] = inchikey\n",
    "print(df1.shape)\n",
    "df1.dropna(subset=\"smiles\", inplace=True)\n",
    "df1.rename(columns={\"Y\":\"outcome\"}, inplace=True)\n",
    "df1 = df1[[\"smiles\", \"inchikey\", \"outcome\"]]\n",
    "print(df1.shape)\n",
    "\n",
    "# Merge df1 and df2 on 'InChIKey' column with 'left' join\n",
    "merged_df = pd.merge(df1, df2[['inchikey']], on='inchikey', how='left', indicator=True)\n",
    "\n",
    "# Filter out rows present in df2\n",
    "filtered_df = merged_df[merged_df['_merge'] == 'left_only']\n",
    "\n",
    "# Drop the indicator column '_merge'\n",
    "filtered_df = filtered_df.drop(columns='_merge')\n",
    "# remove duplicates\n",
    "filtered_df = filtered_df.drop_duplicates(keep='first')\n",
    "filtered_df.to_csv(os.path.join(DATAPATH, \"tdc_test_set.csv\"), index=False)"
   ]
  },
  {
   "cell_type": "code",
   "execution_count": 6,
   "metadata": {},
   "outputs": [
    {
     "data": {
      "text/plain": [
       "191"
      ]
     },
     "execution_count": 6,
     "metadata": {},
     "output_type": "execute_result"
    }
   ],
   "source": [
    "overlap_smiles = set(df1['inchikey']).intersection(set(df2['inchikey']))\n",
    "len(overlap_smiles)"
   ]
  },
  {
   "cell_type": "code",
   "execution_count": 7,
   "metadata": {},
   "outputs": [
    {
     "name": "stdout",
     "output_type": "stream",
     "text": [
      "Number of Negative (0) outcomes: 194\n",
      "Number of Positive (1) outcomes: 395\n",
      "Total number of samples: 589\n",
      "\n",
      "Ratio of Negative (0) outcomes: 0.3293718166383701\n",
      "Ratio of Positive (1) outcomes: 0.6706281833616299\n"
     ]
    }
   ],
   "source": [
    "# Count the occurrences of positive (1) and negative (0) outcomes in the 'outcome' column\n",
    "outcome_counts = df2['outcome'].value_counts()\n",
    "\n",
    "# Print the result\n",
    "total_samples = len(df2)\n",
    "print(\"Number of Negative (0) outcomes:\", outcome_counts[0])\n",
    "print(\"Number of Positive (1) outcomes:\", outcome_counts[1])\n",
    "print(\"Total number of samples:\", total_samples)\n",
    "\n",
    "# Calculate and print the ratio of negative (0) and positive (1) outcomes\n",
    "outcome_ratio = df2['outcome'].value_counts(normalize=True)\n",
    "print(\"\\nRatio of Negative (0) outcomes:\", outcome_ratio[0])\n",
    "print(\"Ratio of Positive (1) outcomes:\", outcome_ratio[1])\n"
   ]
  },
  {
   "cell_type": "code",
   "execution_count": 2,
   "metadata": {},
   "outputs": [],
   "source": [
    "df3 = pd.read_csv('../data/training_set_padel.csv')"
   ]
  },
  {
   "cell_type": "code",
   "execution_count": 3,
   "metadata": {},
   "outputs": [
    {
     "data": {
      "text/html": [
       "<div>\n",
       "<style scoped>\n",
       "    .dataframe tbody tr th:only-of-type {\n",
       "        vertical-align: middle;\n",
       "    }\n",
       "\n",
       "    .dataframe tbody tr th {\n",
       "        vertical-align: top;\n",
       "    }\n",
       "\n",
       "    .dataframe thead th {\n",
       "        text-align: right;\n",
       "    }\n",
       "</style>\n",
       "<table border=\"1\" class=\"dataframe\">\n",
       "  <thead>\n",
       "    <tr style=\"text-align: right;\">\n",
       "      <th></th>\n",
       "      <th>smiles</th>\n",
       "      <th>inchikey</th>\n",
       "      <th>outcome</th>\n",
       "      <th>nAcid</th>\n",
       "      <th>ALogP</th>\n",
       "      <th>ALogp2</th>\n",
       "      <th>AMR</th>\n",
       "      <th>apol</th>\n",
       "      <th>naAromAtom</th>\n",
       "      <th>nAromBond</th>\n",
       "      <th>...</th>\n",
       "      <th>P1s</th>\n",
       "      <th>P2s</th>\n",
       "      <th>E1s</th>\n",
       "      <th>E2s</th>\n",
       "      <th>E3s</th>\n",
       "      <th>Ts</th>\n",
       "      <th>As</th>\n",
       "      <th>Vs</th>\n",
       "      <th>Ks</th>\n",
       "      <th>Ds</th>\n",
       "    </tr>\n",
       "  </thead>\n",
       "  <tbody>\n",
       "    <tr>\n",
       "      <th>0</th>\n",
       "      <td>OC[C@H]1O[C@H]([S-])[C@H](O)[C@@H](O)[C@@H]1O</td>\n",
       "      <td>JUSMHIGDXPKSID-VFUOTHLCSA-M</td>\n",
       "      <td>1</td>\n",
       "      <td>0</td>\n",
       "      <td>-2.0531</td>\n",
       "      <td>4.215220</td>\n",
       "      <td>33.3588</td>\n",
       "      <td>24.804723</td>\n",
       "      <td>0</td>\n",
       "      <td>0</td>\n",
       "      <td>...</td>\n",
       "      <td>0.590976</td>\n",
       "      <td>0.228891</td>\n",
       "      <td>0.445635</td>\n",
       "      <td>0.341268</td>\n",
       "      <td>0.289659</td>\n",
       "      <td>5.498269</td>\n",
       "      <td>8.553981</td>\n",
       "      <td>18.102394</td>\n",
       "      <td>0.386464</td>\n",
       "      <td>1.076562</td>\n",
       "    </tr>\n",
       "    <tr>\n",
       "      <th>1</th>\n",
       "      <td>CN(CCCCCCCCCCN(C)C(=O)Oc1cccc([N+](C)(C)C)c1)C...</td>\n",
       "      <td>RWZVPVOZTJJMNU-UHFFFAOYSA-N</td>\n",
       "      <td>1</td>\n",
       "      <td>0</td>\n",
       "      <td>-4.5182</td>\n",
       "      <td>20.414131</td>\n",
       "      <td>95.8764</td>\n",
       "      <td>98.601236</td>\n",
       "      <td>12</td>\n",
       "      <td>12</td>\n",
       "      <td>...</td>\n",
       "      <td>0.946411</td>\n",
       "      <td>0.031266</td>\n",
       "      <td>0.637683</td>\n",
       "      <td>0.441185</td>\n",
       "      <td>0.404666</td>\n",
       "      <td>90.892754</td>\n",
       "      <td>424.767115</td>\n",
       "      <td>1011.673374</td>\n",
       "      <td>0.919616</td>\n",
       "      <td>1.483534</td>\n",
       "    </tr>\n",
       "    <tr>\n",
       "      <th>2</th>\n",
       "      <td>[C-]#N</td>\n",
       "      <td>XFXPMWWXUTWYJX-UHFFFAOYSA-N</td>\n",
       "      <td>1</td>\n",
       "      <td>0</td>\n",
       "      <td>0.1349</td>\n",
       "      <td>0.018198</td>\n",
       "      <td>2.7000</td>\n",
       "      <td>2.860000</td>\n",
       "      <td>0</td>\n",
       "      <td>0</td>\n",
       "      <td>...</td>\n",
       "      <td>0.333333</td>\n",
       "      <td>0.333333</td>\n",
       "      <td>1.000000</td>\n",
       "      <td>1.000000</td>\n",
       "      <td>1.000000</td>\n",
       "      <td>1.687500</td>\n",
       "      <td>0.949219</td>\n",
       "      <td>2.814697</td>\n",
       "      <td>0.000000</td>\n",
       "      <td>3.000000</td>\n",
       "    </tr>\n",
       "    <tr>\n",
       "      <th>3</th>\n",
       "      <td>COc1ccc2c(c1)[C@]13CCCC[C@@H]1[C@H](C2)N(C)CC3</td>\n",
       "      <td>MKXZASYAUGDDCJ-NJAFHUGGSA-N</td>\n",
       "      <td>0</td>\n",
       "      <td>0</td>\n",
       "      <td>-0.5910</td>\n",
       "      <td>0.349281</td>\n",
       "      <td>53.9015</td>\n",
       "      <td>50.251825</td>\n",
       "      <td>6</td>\n",
       "      <td>6</td>\n",
       "      <td>...</td>\n",
       "      <td>0.540630</td>\n",
       "      <td>0.340646</td>\n",
       "      <td>0.411617</td>\n",
       "      <td>0.487538</td>\n",
       "      <td>0.463245</td>\n",
       "      <td>11.505295</td>\n",
       "      <td>38.227934</td>\n",
       "      <td>83.032541</td>\n",
       "      <td>0.321914</td>\n",
       "      <td>1.362399</td>\n",
       "    </tr>\n",
       "    <tr>\n",
       "      <th>4</th>\n",
       "      <td>CN1C[C@H](C(=O)N[C@]2(C)O[C@@]3(O)[C@@H]4CCCN4...</td>\n",
       "      <td>XCGSFFUVFURLIX-VFGNJEKYSA-N</td>\n",
       "      <td>0</td>\n",
       "      <td>0</td>\n",
       "      <td>-2.5214</td>\n",
       "      <td>6.357458</td>\n",
       "      <td>97.3820</td>\n",
       "      <td>90.927755</td>\n",
       "      <td>15</td>\n",
       "      <td>16</td>\n",
       "      <td>...</td>\n",
       "      <td>NaN</td>\n",
       "      <td>NaN</td>\n",
       "      <td>NaN</td>\n",
       "      <td>NaN</td>\n",
       "      <td>NaN</td>\n",
       "      <td>NaN</td>\n",
       "      <td>NaN</td>\n",
       "      <td>NaN</td>\n",
       "      <td>NaN</td>\n",
       "      <td>NaN</td>\n",
       "    </tr>\n",
       "  </tbody>\n",
       "</table>\n",
       "<p>5 rows × 1878 columns</p>\n",
       "</div>"
      ],
      "text/plain": [
       "                                              smiles  \\\n",
       "0      OC[C@H]1O[C@H]([S-])[C@H](O)[C@@H](O)[C@@H]1O   \n",
       "1  CN(CCCCCCCCCCN(C)C(=O)Oc1cccc([N+](C)(C)C)c1)C...   \n",
       "2                                             [C-]#N   \n",
       "3     COc1ccc2c(c1)[C@]13CCCC[C@@H]1[C@H](C2)N(C)CC3   \n",
       "4  CN1C[C@H](C(=O)N[C@]2(C)O[C@@]3(O)[C@@H]4CCCN4...   \n",
       "\n",
       "                      inchikey  outcome  nAcid   ALogP     ALogp2      AMR  \\\n",
       "0  JUSMHIGDXPKSID-VFUOTHLCSA-M        1      0 -2.0531   4.215220  33.3588   \n",
       "1  RWZVPVOZTJJMNU-UHFFFAOYSA-N        1      0 -4.5182  20.414131  95.8764   \n",
       "2  XFXPMWWXUTWYJX-UHFFFAOYSA-N        1      0  0.1349   0.018198   2.7000   \n",
       "3  MKXZASYAUGDDCJ-NJAFHUGGSA-N        0      0 -0.5910   0.349281  53.9015   \n",
       "4  XCGSFFUVFURLIX-VFGNJEKYSA-N        0      0 -2.5214   6.357458  97.3820   \n",
       "\n",
       "        apol  naAromAtom  nAromBond  ...       P1s       P2s       E1s  \\\n",
       "0  24.804723           0          0  ...  0.590976  0.228891  0.445635   \n",
       "1  98.601236          12         12  ...  0.946411  0.031266  0.637683   \n",
       "2   2.860000           0          0  ...  0.333333  0.333333  1.000000   \n",
       "3  50.251825           6          6  ...  0.540630  0.340646  0.411617   \n",
       "4  90.927755          15         16  ...       NaN       NaN       NaN   \n",
       "\n",
       "        E2s       E3s         Ts          As           Vs        Ks        Ds  \n",
       "0  0.341268  0.289659   5.498269    8.553981    18.102394  0.386464  1.076562  \n",
       "1  0.441185  0.404666  90.892754  424.767115  1011.673374  0.919616  1.483534  \n",
       "2  1.000000  1.000000   1.687500    0.949219     2.814697  0.000000  3.000000  \n",
       "3  0.487538  0.463245  11.505295   38.227934    83.032541  0.321914  1.362399  \n",
       "4       NaN       NaN        NaN         NaN          NaN       NaN       NaN  \n",
       "\n",
       "[5 rows x 1878 columns]"
      ]
     },
     "execution_count": 3,
     "metadata": {},
     "output_type": "execute_result"
    }
   ],
   "source": [
    "df3.head()"
   ]
  }
 ],
 "metadata": {
  "kernelspec": {
   "display_name": "Python 3 (ipykernel)",
   "language": "python",
   "name": "python3"
  },
  "language_info": {
   "codemirror_mode": {
    "name": "ipython",
    "version": 3
   },
   "file_extension": ".py",
   "mimetype": "text/x-python",
   "name": "python",
   "nbconvert_exporter": "python",
   "pygments_lexer": "ipython3",
   "version": "3.8.18"
  }
 },
 "nbformat": 4,
 "nbformat_minor": 4
}
