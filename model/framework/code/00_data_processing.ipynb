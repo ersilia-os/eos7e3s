{
 "cells": [
  {
   "cell_type": "code",
   "execution_count": 11,
   "metadata": {},
   "outputs": [],
   "source": [
    "import os\n",
    "import pandas as pd\n",
    "\n",
    "DATAPATH = \"../data\""
   ]
  },
  {
   "cell_type": "code",
   "execution_count": 12,
   "metadata": {},
   "outputs": [
    {
     "name": "stderr",
     "output_type": "stream",
     "text": [
      "/tmp/ipykernel_2731979/1034768844.py:2: DtypeWarning: Columns (423,424,425,426,427,428,429,430,431,477,478,479,480,481,482,483,484,485,540,541,542,543,544,545,546,547,548,603,604,605,606,607,608,609,610,611,1012,1013,1050,1052,1074,1083,1084,1121,1123,1145,1217,1218,1219,1220,1222,1223,1224,1226,1227,1229) have mixed types. Specify dtype option on import or set low_memory=False.\n",
      "  padel = pd.read_csv(os.path.join(DATAPATH, \"dili_padel_2d.csv\"))\n"
     ]
    }
   ],
   "source": [
    "smi = pd.read_csv(os.path.join(DATAPATH, \"dilismiles.csv\"))\n",
    "padel = pd.read_csv(os.path.join(DATAPATH, \"dili_padel_2d.csv\"))"
   ]
  },
  {
   "cell_type": "code",
   "execution_count": 13,
   "metadata": {},
   "outputs": [
    {
     "name": "stdout",
     "output_type": "stream",
     "text": [
      "Molecule order is the same in both files.\n"
     ]
    }
   ],
   "source": [
    "#compare that the order of molecules remains the same between both files\n",
    "# Extract the 'molecule' column from each DataFrame\n",
    "dilismiles_molecules = smi['col_smiles'].tolist()\n",
    "dilipadel_molecules = padel['CommonName'].tolist()\n",
    "\n",
    "\n",
    "# Compare molecule order\n",
    "def compare_molecule_order(dilismiles_molecules, dilipadel_molecules):\n",
    "    # Check if the number of molecules is the same in both files\n",
    "    if len(dilismiles_molecules) != len(dilipadel_molecules):\n",
    "        print(\"Error: The number of molecules is not the same in both files.\")\n",
    "        return\n",
    "\n",
    "    print(\"Molecule order is the same in both files.\")\n",
    "\n",
    "# Call the function with your molecule lists\n",
    "compare_molecule_order(dilismiles_molecules, dilipadel_molecules)"
   ]
  },
  {
   "cell_type": "code",
   "execution_count": 14,
   "metadata": {},
   "outputs": [],
   "source": [
    "smi[\"outcome\"] = padel[\"Outcome\"]\n",
    "smi[\"CommonName\"]= padel[\"CommonName\"]\n",
    "smi.rename(columns={\"col_smiles\":\"smiles\"}, inplace=True)"
   ]
  },
  {
   "cell_type": "code",
   "execution_count": 15,
   "metadata": {},
   "outputs": [],
   "source": [
    "from rdkit import Chem\n",
    "st_dmi = []\n",
    "smi.to_csv(os.path.join(DATAPATH,\"dilismiles_with_outcome.csv\"), index=False)"
   ]
  },
  {
   "cell_type": "code",
   "execution_count": 16,
   "metadata": {},
   "outputs": [
    {
     "name": "stdout",
     "output_type": "stream",
     "text": [
      "              Compound         CommonName\n",
      "0      Aurothioglucose    Aurothioglucose\n",
      "1    DemecariumBromide  DemecariumBromide\n",
      "2     Dextromethorphan   Dextromethorphan\n",
      "3           Ergotamine         Ergotamine\n",
      "4       Beclomethasone     Beclomethasone\n",
      "..                 ...                ...\n",
      "583        Myoinositol        Myoinositol\n",
      "584        Dimercaprol        Dimercaprol\n",
      "585       Mitoxantrone       Mitoxantrone\n",
      "586         Disulfiram         Disulfiram\n",
      "587       Deferoxamine       Deferoxamine\n",
      "\n",
      "[588 rows x 2 columns]\n"
     ]
    }
   ],
   "source": [
    "##compare that the molecule order is the same based on smiles \n",
    "import pandas as pd\n",
    "from rdkit import Chem\n",
    "\n",
    "# Load DrugBank_DDI_interactions.xls file\n",
    "xls_file = pd.ExcelFile('../data/DrugBank_DDI_interactions.xls')\n",
    "sheet_name = '003 - final'  # Replace with the actual sheet name\n",
    "ddi_df = xls_file.parse(sheet_name)\n",
    "\n",
    "# Load CSV files\n",
    "common_names_df = pd.read_csv('../data/dilismiles_with_outcome.csv')\n",
    "\n",
    "\n",
    "# Check correlation based on both CommonName and col_smiles\n",
    "merged_df = pd.merge(ddi_df, common_names_df, left_on=['Compound', 'Smiles'], right_on=['CommonName', 'smiles'], how='inner')\n",
    "\n",
    "# Print the relevant columns\n",
    "print(merged_df[['Compound', 'CommonName']])"
   ]
  },
  {
   "cell_type": "markdown",
   "metadata": {},
   "source": [
    "# Data Analysis"
   ]
  },
  {
   "cell_type": "code",
   "execution_count": 17,
   "metadata": {
    "scrolled": true
   },
   "outputs": [
    {
     "name": "stdout",
     "output_type": "stream",
     "text": [
      "Number of drugs in paper's dataset: 587\n",
      "Number of drugs in TDC's dataset: 475\n",
      "Number of common drugs: 67\n",
      "Percentage of common drugs relative to paper's dataset: 11.41%\n"
     ]
    },
    {
     "data": {
      "text/html": [
       "<div>\n",
       "<style scoped>\n",
       "    .dataframe tbody tr th:only-of-type {\n",
       "        vertical-align: middle;\n",
       "    }\n",
       "\n",
       "    .dataframe tbody tr th {\n",
       "        vertical-align: top;\n",
       "    }\n",
       "\n",
       "    .dataframe thead th {\n",
       "        text-align: right;\n",
       "    }\n",
       "</style>\n",
       "<table border=\"1\" class=\"dataframe\">\n",
       "  <thead>\n",
       "    <tr style=\"text-align: right;\">\n",
       "      <th></th>\n",
       "      <th>Overlapping SMILES</th>\n",
       "    </tr>\n",
       "  </thead>\n",
       "  <tbody>\n",
       "    <tr>\n",
       "      <th>0</th>\n",
       "      <td>CCCOc1ccc2nc(NC(=O)OC)[nH]c2c1</td>\n",
       "    </tr>\n",
       "    <tr>\n",
       "      <th>1</th>\n",
       "      <td>NC(CO)(CO)CO</td>\n",
       "    </tr>\n",
       "    <tr>\n",
       "      <th>2</th>\n",
       "      <td>CCOc1ccc(NC(C)=O)cc1</td>\n",
       "    </tr>\n",
       "    <tr>\n",
       "      <th>3</th>\n",
       "      <td>S=c1nc[nH]c2nc[nH]c12</td>\n",
       "    </tr>\n",
       "    <tr>\n",
       "      <th>4</th>\n",
       "      <td>Cc1ccnc2c1NC(=O)c1cccnc1N2C1CC1</td>\n",
       "    </tr>\n",
       "  </tbody>\n",
       "</table>\n",
       "</div>"
      ],
      "text/plain": [
       "                Overlapping SMILES\n",
       "0   CCCOc1ccc2nc(NC(=O)OC)[nH]c2c1\n",
       "1                     NC(CO)(CO)CO\n",
       "2             CCOc1ccc(NC(C)=O)cc1\n",
       "3            S=c1nc[nH]c2nc[nH]c12\n",
       "4  Cc1ccnc2c1NC(=O)c1cccnc1N2C1CC1"
      ]
     },
     "execution_count": 17,
     "metadata": {},
     "output_type": "execute_result"
    }
   ],
   "source": [
    "##compare our dataset with TDC dili dataset\n",
    "import pandas as pd\n",
    "from rdkit import Chem\n",
    "from rdkit.Chem import PandasTools\n",
    "\n",
    "##TDC dataset\n",
    "dataset1 = pd.read_csv('../data/dili_tdc_dataset.csv')\n",
    "##Our dataset\n",
    "dataset2 = pd.read_csv('../data/dilismiles.csv')\n",
    "\n",
    "# Convert SMILES strings to RDKit molecule objects\n",
    "PandasTools.AddMoleculeColumnToFrame(dataset1, 'Drug', 'Molecule1')\n",
    "PandasTools.AddMoleculeColumnToFrame(dataset2, 'col_smiles', 'Molecule2')\n",
    "\n",
    "# Find the intersection of SMILES\n",
    "overlap_smiles = set(dataset1['Drug']).intersection(set(dataset2['col_smiles']))\n",
    "\n",
    "# Calculate the number of drugs in each dataset\n",
    "num_drugs_paper = len(set(dataset2['col_smiles']))\n",
    "num_drugs_tdc = len(set(dataset1['Drug']))\n",
    "\n",
    "# Calculate the number of common drugs and the percentage of overlap\n",
    "num_common_drugs = len(overlap_smiles)\n",
    "percent_overlap = (num_common_drugs / num_drugs_paper) * 100\n",
    "\n",
    "print(f\"Number of drugs in paper's dataset: {num_drugs_paper}\")\n",
    "print(f\"Number of drugs in TDC's dataset: {num_drugs_tdc}\")\n",
    "print(f\"Number of common drugs: {num_common_drugs}\")\n",
    "print(f\"Percentage of common drugs relative to paper's dataset: {percent_overlap:.2f}%\")\n",
    "\n",
    "# Convert the set of overlapping SMILES to a DataFrame\n",
    "overlap_df = pd.DataFrame(list(overlap_smiles), columns=['Overlapping SMILES'])\n",
    "\n",
    "overlap_df.head()"
   ]
  },
  {
   "cell_type": "code",
   "execution_count": 18,
   "metadata": {},
   "outputs": [],
   "source": [
    "## Delete repeded smiles from the TDC's dataset\n",
    "\n",
    "import pandas as pd\n",
    "\n",
    "# Read the TDC dataset\n",
    "tdc_dataset = pd.read_csv('../data/dili_tdc_dataset.csv')\n",
    "\n",
    "# Read paper dataset\n",
    "paper_dataset = pd.read_csv('../data/dilismiles.csv')\n",
    "\n",
    "# Extract the common smiles between the two datasets\n",
    "common_smiles = set(tdc_dataset['Drug']).intersection(set(paper_dataset['col_smiles']))\n",
    "\n",
    "# Remove rows with common smiles from the TDC dataset\n",
    "filtered_tdc_dataset = tdc_dataset[~tdc_dataset['Drug'].isin(common_smiles)]\n",
    "\n",
    "# Save the result to a new file\n",
    "filtered_tdc_dataset.to_csv('../data/filtered_tdc_dataset.csv', index=False)\n",
    "\n",
    "\n"
   ]
  },
  {
   "cell_type": "code",
   "execution_count": 19,
   "metadata": {},
   "outputs": [
    {
     "name": "stdout",
     "output_type": "stream",
     "text": [
      "Number of Negative (0) outcomes: 194\n",
      "Number of Positive (1) outcomes: 394\n",
      "Total number of samples: 588\n",
      "\n",
      "Ratio of Negative (0) outcomes: 0.3299319727891156\n",
      "Ratio of Positive (1) outcomes: 0.6700680272108843\n"
     ]
    },
    {
     "name": "stderr",
     "output_type": "stream",
     "text": [
      "/tmp/ipykernel_2731979/1141917293.py:5: DtypeWarning: Columns (423,424,425,426,427,428,429,430,431,477,478,479,480,481,482,483,484,485,540,541,542,543,544,545,546,547,548,603,604,605,606,607,608,609,610,611,1012,1013,1050,1052,1074,1083,1084,1121,1123,1145,1217,1218,1219,1220,1222,1223,1224,1226,1227,1229) have mixed types. Specify dtype option on import or set low_memory=False.\n",
      "  df = pd.read_csv('../data/dili_padel_2d.csv')\n"
     ]
    }
   ],
   "source": [
    "##get the ratio of positive and negative outcomes\n",
    "import pandas as pd\n",
    "\n",
    "# Read the CSV file into a DataFrame\n",
    "df = pd.read_csv('../data/dili_padel_2d.csv')\n",
    "\n",
    "# Count the occurrences of positive (1) and negative (0) outcomes in the 'outcome' column\n",
    "outcome_counts = df['Outcome'].value_counts()\n",
    "\n",
    "# Print the result\n",
    "total_samples = len(df)\n",
    "print(\"Number of Negative (0) outcomes:\", outcome_counts[0])\n",
    "print(\"Number of Positive (1) outcomes:\", outcome_counts[1])\n",
    "print(\"Total number of samples:\", total_samples)\n",
    "\n",
    "# Calculate and print the ratio of negative (0) and positive (1) outcomes\n",
    "outcome_ratio = df['Outcome'].value_counts(normalize=True)\n",
    "print(\"\\nRatio of Negative (0) outcomes:\", outcome_ratio[0])\n",
    "print(\"Ratio of Positive (1) outcomes:\", outcome_ratio[1])\n"
   ]
  },
  {
   "cell_type": "code",
   "execution_count": null,
   "metadata": {},
   "outputs": [],
   "source": []
  }
 ],
 "metadata": {
  "kernelspec": {
   "display_name": "Python 3 (ipykernel)",
   "language": "python",
   "name": "python3"
  },
  "language_info": {
   "codemirror_mode": {
    "name": "ipython",
    "version": 3
   },
   "file_extension": ".py",
   "mimetype": "text/x-python",
   "name": "python",
   "nbconvert_exporter": "python",
   "pygments_lexer": "ipython3",
   "version": "3.8.18"
  }
 },
 "nbformat": 4,
 "nbformat_minor": 4
}
