{
 "cells": [
  {
   "cell_type": "code",
   "execution_count": 22,
   "metadata": {},
   "outputs": [],
   "source": [
    "import os\n",
    "import pandas as pd\n",
    "from rdkit import Chem\n",
    "\n",
    "DATAPATH = \"../data\""
   ]
  },
  {
   "cell_type": "code",
   "execution_count": 13,
   "metadata": {},
   "outputs": [
    {
     "name": "stdout",
     "output_type": "stream",
     "text": [
      "(591, 4)\n",
      "(591, 3)\n"
     ]
    }
   ],
   "source": [
    "##compare that the molecule order is the same based on smiles \n",
    "import pandas as pd\n",
    "\n",
    "# Load DrugBank_DDI_interactions.xls file\n",
    "df = pd.read_excel('../data/DrugBank_DDI_interactions.xls', sheet_name = '003 - final')\n",
    "df = df[[\"Smiles\", \"Outcome\"]]\n",
    "\n",
    "mols = [Chem.MolFromSmiles(s) for s in df[\"Smiles\"].tolist()]\n",
    "st_smiles = [Chem.MolToSmiles(mol) if mol is not None else None for mol in mols]\n",
    "inchikey = [Chem.MolToInchiKey(mol) if mol is not None else None for mol in mols]\n",
    "\n",
    "df[\"smiles\"]= st_smiles\n",
    "df[\"inchikey\"] = inchikey\n",
    "print(df.shape)\n",
    "df.dropna(subset=\"smiles\", inplace=True)\n",
    "df.rename(columns={\"Outcome\":\"outcome\"}, inplace=True)\n",
    "df = df[[\"smiles\", \"inchikey\", \"outcome\"]]\n",
    "print(df.shape)\n",
    "\n",
    "df.to_csv(\"../data/training_set.csv\", index=False)"
   ]
  },
  {
   "cell_type": "markdown",
   "metadata": {},
   "source": [
    "# Data Analysis"
   ]
  },
  {
   "cell_type": "code",
   "execution_count": 23,
   "metadata": {},
   "outputs": [
    {
     "name": "stdout",
     "output_type": "stream",
     "text": [
      "(475, 5)\n",
      "(475, 3)\n"
     ]
    }
   ],
   "source": [
    "#TDC dataset\n",
    "df1 = pd.read_csv('../data/dili_tdc_dataset.csv')\n",
    "#Our dataset\n",
    "df2 = pd.read_csv('../data/training_set.csv')\n",
    "\n",
    "mols = [Chem.MolFromSmiles(s) for s in df1[\"Drug\"].tolist()]\n",
    "st_smiles = [Chem.MolToSmiles(mol) if mol is not None else None for mol in mols]\n",
    "inchikey = [Chem.MolToInchiKey(mol) if mol is not None else None for mol in mols]\n",
    "df1[\"smiles\"]= st_smiles\n",
    "df1[\"inchikey\"] = inchikey\n",
    "print(df1.shape)\n",
    "df1.dropna(subset=\"smiles\", inplace=True)\n",
    "df1.rename(columns={\"Y\":\"outcome\"}, inplace=True)\n",
    "df1 = df1[[\"smiles\", \"inchikey\", \"outcome\"]]\n",
    "print(df1.shape)\n",
    "\n",
    "# Merge df1 and df2 on 'InChIKey' column with 'left' join\n",
    "merged_df = pd.merge(df1, df2[['inchikey']], on='inchikey', how='left', indicator=True)\n",
    "\n",
    "# Filter out rows present in df2\n",
    "filtered_df = merged_df[merged_df['_merge'] == 'left_only']\n",
    "\n",
    "# Drop the indicator column '_merge'\n",
    "filtered_df = filtered_df.drop(columns='_merge')\n",
    "filtered_df.to_csv(os.path.join(DATAPATH, \"tdc_test_set.csv\"), index=False)"
   ]
  },
  {
   "cell_type": "code",
   "execution_count": 21,
   "metadata": {},
   "outputs": [
    {
     "data": {
      "text/plain": [
       "191"
      ]
     },
     "execution_count": 21,
     "metadata": {},
     "output_type": "execute_result"
    }
   ],
   "source": [
    "overlap_smiles = set(df1['inchikey']).intersection(set(df2['inchikey']))\n",
    "len(overlap_smiles)"
   ]
  },
  {
   "cell_type": "code",
   "execution_count": 25,
   "metadata": {},
   "outputs": [
    {
     "name": "stdout",
     "output_type": "stream",
     "text": [
      "Number of Negative (0) outcomes: 194\n",
      "Number of Positive (1) outcomes: 397\n",
      "Total number of samples: 591\n",
      "\n",
      "Ratio of Negative (0) outcomes: 0.32825719120135366\n",
      "Ratio of Positive (1) outcomes: 0.6717428087986463\n"
     ]
    }
   ],
   "source": [
    "# Count the occurrences of positive (1) and negative (0) outcomes in the 'outcome' column\n",
    "outcome_counts = df2['outcome'].value_counts()\n",
    "\n",
    "# Print the result\n",
    "total_samples = len(df2)\n",
    "print(\"Number of Negative (0) outcomes:\", outcome_counts[0])\n",
    "print(\"Number of Positive (1) outcomes:\", outcome_counts[1])\n",
    "print(\"Total number of samples:\", total_samples)\n",
    "\n",
    "# Calculate and print the ratio of negative (0) and positive (1) outcomes\n",
    "outcome_ratio = df2['outcome'].value_counts(normalize=True)\n",
    "print(\"\\nRatio of Negative (0) outcomes:\", outcome_ratio[0])\n",
    "print(\"Ratio of Positive (1) outcomes:\", outcome_ratio[1])\n"
   ]
  }
 ],
 "metadata": {
  "kernelspec": {
   "display_name": "Python 3 (ipykernel)",
   "language": "python",
   "name": "python3"
  },
  "language_info": {
   "codemirror_mode": {
    "name": "ipython",
    "version": 3
   },
   "file_extension": ".py",
   "mimetype": "text/x-python",
   "name": "python",
   "nbconvert_exporter": "python",
   "pygments_lexer": "ipython3",
   "version": "3.11.5"
  }
 },
 "nbformat": 4,
 "nbformat_minor": 4
}
