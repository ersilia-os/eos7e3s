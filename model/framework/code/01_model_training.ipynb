{
 "cells": [
  {
   "cell_type": "markdown",
   "metadata": {
    "id": "NSGHAyXwPsQV"
   },
   "source": [
    "# Basic AutoML Example"
   ]
  },
  {
   "cell_type": "code",
   "execution_count": 1,
   "metadata": {
    "executionInfo": {
     "elapsed": 4167,
     "status": "ok",
     "timestamp": 1705005923471,
     "user": {
      "displayName": "leila yesufu",
      "userId": "04090599876914949365"
     },
     "user_tz": -60
    },
    "id": "Weq9bxmL6NCh"
   },
   "outputs": [],
   "source": [
    "## Import packages\n",
    "\n",
    "import pandas as pd\n",
    "from rdkit import Chem\n",
    "from flaml import AutoML\n",
    "import xgboost\n",
    "from rdkit.Chem import rdMolDescriptors as rd\n",
    "from sklearn.model_selection import train_test_split\n",
    "import numpy as np"
   ]
  },
  {
   "cell_type": "code",
   "execution_count": 3,
   "metadata": {
    "id": "P3M0sGbo6Z9q"
   },
   "outputs": [],
   "source": [
    "## upload the smiles csv file\n",
    "smilescsv = pd.read_csv('../data/dilismiles.csv', names = ['smiles'])\n",
    "smileslist = smilescsv['smiles'].tolist()"
   ]
  },
  {
   "cell_type": "code",
   "execution_count": 4,
   "metadata": {
    "id": "_4YcVROj6dlB"
   },
   "outputs": [
    {
     "name": "stderr",
     "output_type": "stream",
     "text": [
      "/tmp/ipykernel_1655420/1031618563.py:1: DtypeWarning: Columns (423,424,425,426,427,428,429,430,431,477,478,479,480,481,482,483,484,485,540,541,542,543,544,545,546,547,548,603,604,605,606,607,608,609,610,611,1012,1013,1050,1052,1074,1083,1084,1121,1123,1145,1217,1218,1219,1220,1222,1223,1224,1226,1227,1229) have mixed types. Specify dtype option on import or set low_memory=False.\n",
      "  data = pd.read_csv('../data/dili_padel_2d.csv')\n"
     ]
    }
   ],
   "source": [
    "data = pd.read_csv('../data/dili_padel_2d.csv')\n",
    "dataframe = pd.DataFrame(data)\n",
    "desc = pd.DataFrame(dataframe.iloc[:, 3:])"
   ]
  },
  {
   "cell_type": "code",
   "execution_count": 88,
   "metadata": {
    "id": "XXBdSMCV6i9h",
    "scrolled": true
   },
   "outputs": [],
   "source": [
    "## Outcome is the activity column\n",
    "y = dataframe['Outcome']\n",
    "y = np.array(y)"
   ]
  },
  {
   "cell_type": "code",
   "execution_count": 7,
   "metadata": {},
   "outputs": [
    {
     "name": "stdout",
     "output_type": "stream",
     "text": [
      "AUROC 0.5802631578947368\n"
     ]
    },
    {
     "name": "stderr",
     "output_type": "stream",
     "text": [
      "/home/leila/miniconda3/envs/chemprop/lib/python3.8/site-packages/sklearn/linear_model/_sag.py:350: ConvergenceWarning: The max_iter was reached which means the coef_ did not converge\n",
      "  warnings.warn(\n"
     ]
    },
    {
     "name": "stdout",
     "output_type": "stream",
     "text": [
      "AUROC 0.6131578947368421\n",
      "AUROC 0.6065789473684211\n",
      "AUROC 0.5802631578947368\n",
      "AUROC 0.5737179487179487\n"
     ]
    },
    {
     "name": "stderr",
     "output_type": "stream",
     "text": [
      "/home/leila/miniconda3/envs/chemprop/lib/python3.8/site-packages/sklearn/linear_model/_sag.py:350: ConvergenceWarning: The max_iter was reached which means the coef_ did not converge\n",
      "  warnings.warn(\n",
      "/home/leila/miniconda3/envs/chemprop/lib/python3.8/site-packages/sklearn/linear_model/_sag.py:350: ConvergenceWarning: The max_iter was reached which means the coef_ did not converge\n",
      "  warnings.warn(\n",
      "/home/leila/miniconda3/envs/chemprop/lib/python3.8/site-packages/sklearn/linear_model/_sag.py:350: ConvergenceWarning: The max_iter was reached which means the coef_ did not converge\n",
      "  warnings.warn(\n",
      "/home/leila/miniconda3/envs/chemprop/lib/python3.8/site-packages/sklearn/linear_model/_sag.py:350: ConvergenceWarning: The max_iter was reached which means the coef_ did not converge\n",
      "  warnings.warn(\n"
     ]
    },
    {
     "name": "stdout",
     "output_type": "stream",
     "text": [
      "AUROC 0.6102564102564103\n",
      "AUROC 0.575\n",
      "AUROC 0.5987179487179488\n",
      "AUROC 0.5\n",
      "AUROC 0.6187584345479082\n"
     ]
    }
   ],
   "source": [
    "import xgboost\n",
    "from sklearn.metrics import roc_curve, auc\n",
    "from sklearn.model_selection import KFold\n",
    "from sklearn.model_selection import StratifiedKFold\n",
    "\n",
    "modelAutoML = AutoML(task=\"classification\",time_budget=600)\n",
    "cv = StratifiedKFold(n_splits=10,shuffle=True, random_state=42)\n",
    "for i, (train, test) in enumerate(cv.split(desc, y)):\n",
    "  modelAutoML.fit(desc.iloc[train], y[train], time_budget=600, verbose=-1)\n",
    "  y_hat = modelAutoML.predict(desc.iloc[test])\n",
    "  fpr, tpr, _ = roc_curve(y[test], y_hat)\n",
    "  print(\"AUROC\", auc(fpr, tpr))"
   ]
  },
  {
   "cell_type": "markdown",
   "metadata": {
    "id": "XkV_8xajbyRf"
   },
   "source": [
    "#Using Ersilia"
   ]
  },
  {
   "cell_type": "code",
   "execution_count": 98,
   "metadata": {
    "id": "o_yq0sPr48JW"
   },
   "outputs": [],
   "source": [
    "# Load your CSV file\n",
    "df = pd.read_csv('../data/dilismiles.csv')"
   ]
  },
  {
   "cell_type": "code",
   "execution_count": 100,
   "metadata": {
    "colab": {
     "base_uri": "https://localhost:8080/"
    },
    "executionInfo": {
     "elapsed": 8396,
     "status": "ok",
     "timestamp": 1704899322873,
     "user": {
      "displayName": "leila yesufu",
      "userId": "04090599876914949365"
     },
     "user_tz": -60
    },
    "id": "RgptHjZheWyY",
    "outputId": "d421debe-f02a-4119-e2d3-52f69c08e90e"
   },
   "outputs": [
    {
     "name": "stdout",
     "output_type": "stream",
     "text": [
      "                                                                                                                  col_smiles  \\\n",
      "0                                                          [H][C@]1([S-])O[C@]([H])(CO)[C@@]([H])(O)[C@]([H])(O)[C@@]1([H])O   \n",
      "1                                                   CN(CCCCCCCCCCN(C)C(=O)Oc1cccc(c1)[N+](C)(C)C)C(=O)Oc1cccc(c1)[N+](C)(C)C   \n",
      "2                                                                           [H][C@]12Cc3ccc(OC)cc3[C@@]3(CCCC[C@]13[H])CCN2C   \n",
      "3  [H][C@@]12CCCN1C(=O)[C@]([H])(Cc1ccccc1)N1C(=O)[C@](C)(NC(=O)[C@@]3([H])CN(C)[C@]4([H])Cc5c[nH]c6cccc(C4=C3)c56)O[C@@]21O   \n",
      "4                    [H][C@]1(C)C[C@@]2([H])[C@]3([H])CCC4=CC(=O)C=C[C@]4(C)[C@@]3(Cl)[C@@]([H])(O)C[C@]2(C)[C@@]1(O)C(=O)CO   \n",
      "\n",
      "                                                                                                                                                                                                                                                                                                                                                                                                                                                                                                                                                                                                                embeddings  \n",
      "0  [-0.098519824, 0.12393576, 0.13180989, 0.052796252, -0.16528669, 0.02233435, 0.06133277, 0.090901, 0.002945602, -0.018872563, 0.10199344, -0.052591506, 0.13587633, 0.11819101, -0.081192374, -0.20456222, 0.23571768, 0.03234081, -0.15917799, 0.21534397, -0.0997881, 0.04551863, -0.19784474, 0.19456175, 0.09888876, 0.1867179, -0.041851114, 0.22754748, 0.13166358, -0.041963052, -0.06424926, 0.23462224, -0.10452803, -0.12550333, -0.10502174, 0.10292239, 0.06918638, 0.029730953, 0.15097617, 0.15672718, -0.109196715, -0.11889743, -0.06566361, -0.14406323, -0.11478028, 0.06269527, -0.00932554, -0.0...  \n",
      "1  [0.015572911, 0.025008846, 0.015938658, 0.043796808, -0.021177184, 0.121811524, -0.0109705385, 0.0134619875, 0.021831144, 0.1321786, -0.19518837, -0.07322574, -0.02979756, -0.03152871, 0.09740195, 0.11833549, 0.023286859, -0.014969777, 0.07591487, -0.033827916, 0.027428906, -0.043235026, 0.08424768, -0.07108246, 0.05283757, -0.031432092, 0.06587265, 0.07927236, -0.06987324, 0.15578169, -0.073443115, -0.018870218, 0.018071868, -0.12928584, -0.06350704, 0.004390859, 0.036441516, -0.123011366, 0.064647794, 0.057572715, -0.06574333, 0.058813747, -0.0006350875, 0.11341539, 0.03615077, -0.052688...  \n",
      "2  [0.0857603, 0.07983373, -0.014359435, -0.21451733, 0.021246983, -0.059015863, -0.052207876, 0.1276202, -0.0065834355, 0.11646449, -0.11914917, 0.18871012, -0.06116061, -0.060574315, -0.17541806, 0.10675748, -0.047743708, -0.11609647, -0.1951835, -0.07104744, 0.1388433, 0.016532082, -0.08012393, 0.052367657, 0.053337894, -0.04951486, 0.10115935, 0.12293374, -0.14474078, 0.017450117, 0.019515958, -0.06430724, -0.05823008, -0.03213644, -0.005704033, 0.0057907067, -0.041733813, 0.03877051, 0.008198378, -0.072910264, 0.065857925, -0.102890395, -0.028117044, -0.1072018, -0.111642845, -0.02267339...  \n",
      "3  [0.13486916, 0.07353798, -0.14174657, -0.23422055, -0.12561452, 0.09499045, -0.08870827, 0.13762389, 0.09396192, 0.07414771, -0.056620568, -0.15019421, -0.11035473, -0.01113007, 0.07798587, 0.11861455, -0.0030157529, -0.02871688, 0.00792915, 0.00048801303, 0.14628384, 0.13405254, 0.04870812, -0.0331095, 0.117102444, 0.02256713, -0.005612137, 0.0062619895, -0.03696821, 0.007619451, 0.019997735, -0.10901129, 0.17754292, -0.048646256, -0.009220656, 0.02077859, 0.020739347, -0.008659317, -0.021224469, 0.079335354, 0.16600391, 0.0503324, -0.06758116, -0.0590722, -0.06812519, -0.08502221, -0.009...  \n",
      "4  [0.100365646, 0.038999967, -0.020612031, -0.03948655, -0.11588541, 0.011942744, -0.11611749, -0.00044945208, 0.04008852, 0.11474208, -0.17900816, 0.081752405, -0.043877628, 0.10079597, -0.079900354, 0.041852366, 0.10394746, -0.048501827, -0.027504303, 0.103651464, 0.07478227, -0.046313863, -0.08482969, 0.069774486, -0.001264371, -0.030673396, -0.020348247, 0.013287383, -0.105603695, -0.009823255, 0.023288961, 0.0042570736, -0.023141794, -0.1365547, -0.06683892, 0.065666154, -0.05633419, -0.051164687, -0.051125586, 0.06694887, -0.103149615, 0.008924667, 0.13311972, 0.10520088, 0.11546589, -...  \n"
     ]
    }
   ],
   "source": [
    "## using ersilia to change smiles to embeddings\n",
    "import pandas as pd\n",
    "from eosce.models import ErsiliaCompoundEmbeddings\n",
    "\n",
    "# Assuming 'SMILES' is the column containing chemical compounds\n",
    "compounds = df['col_smiles'].tolist()\n",
    "\n",
    "# Initialize the ErsiliaCompoundEmbeddings model\n",
    "model = ErsiliaCompoundEmbeddings()\n",
    "\n",
    "# Create a new column for embeddings\n",
    "df['embeddings'] = df['col_smiles'].apply(lambda x: model.transform([x])[0])\n",
    "\n",
    "# Display the DataFrame with the new embeddings\n",
    "print(df.head())"
   ]
  },
  {
   "cell_type": "code",
   "execution_count": 101,
   "metadata": {
    "colab": {
     "base_uri": "https://localhost:8080/"
    },
    "executionInfo": {
     "elapsed": 399,
     "status": "ok",
     "timestamp": 1704836268744,
     "user": {
      "displayName": "leila yesufu",
      "userId": "04090599876914949365"
     },
     "user_tz": -60
    },
    "id": "_5SOK8DJga5v",
    "outputId": "e0b80bbd-a75c-46d6-ae86-32b04042b0d3"
   },
   "outputs": [
    {
     "data": {
      "text/plain": [
       "(588, 1024)"
      ]
     },
     "execution_count": 101,
     "metadata": {},
     "output_type": "execute_result"
    }
   ],
   "source": [
    "from sklearn.metrics import roc_curve, auc\n",
    "from sklearn.model_selection import KFold\n",
    "import numpy as np\n",
    "\n",
    "# Assuming 'ID' column contains embedding vectors\n",
    "X = np.array(df['embeddings'].values.tolist())\n",
    "X.shape"
   ]
  },
  {
   "cell_type": "code",
   "execution_count": 102,
   "metadata": {
    "colab": {
     "base_uri": "https://localhost:8080/"
    },
    "executionInfo": {
     "elapsed": 390,
     "status": "ok",
     "timestamp": 1704836273984,
     "user": {
      "displayName": "leila yesufu",
      "userId": "04090599876914949365"
     },
     "user_tz": -60
    },
    "id": "jctHSbn31JS4",
    "outputId": "f8a90465-6180-494d-f1b1-d5569ea7b4de"
   },
   "outputs": [
    {
     "data": {
      "text/plain": [
       "(588,)"
      ]
     },
     "execution_count": 102,
     "metadata": {},
     "output_type": "execute_result"
    }
   ],
   "source": [
    "y.shape"
   ]
  },
  {
   "cell_type": "code",
   "execution_count": 13,
   "metadata": {
    "colab": {
     "base_uri": "https://localhost:8080/",
     "height": 976
    },
    "executionInfo": {
     "elapsed": 302368,
     "status": "ok",
     "timestamp": 1704838101983,
     "user": {
      "displayName": "leila yesufu",
      "userId": "04090599876914949365"
     },
     "user_tz": -60
    },
    "id": "nBB53IN6rIHb",
    "outputId": "c1635087-1db0-4d3a-9d96-905ea7c7ce09"
   },
   "outputs": [
    {
     "name": "stderr",
     "output_type": "stream",
     "text": [
      "INFO:flaml.tune.searcher.blendsearch:No low-cost partial config given to the search algorithm. For cost-frugal search, consider providing low-cost values for cost-related hps via 'low_cost_partial_config'. More info can be found at https://microsoft.github.io/FLAML/docs/FAQ#about-low_cost_partial_config-in-tune\n"
     ]
    },
    {
     "name": "stdout",
     "output_type": "stream",
     "text": [
      "\n",
      "Classification Report for Fold 0:\n",
      "\n",
      "              precision    recall  f1-score   support\n",
      "\n",
      "           0       0.47      0.18      0.26        39\n",
      "           1       0.69      0.90      0.78        79\n",
      "\n",
      "    accuracy                           0.66       118\n",
      "   macro avg       0.58      0.54      0.52       118\n",
      "weighted avg       0.62      0.66      0.61       118\n",
      "\n"
     ]
    },
    {
     "name": "stderr",
     "output_type": "stream",
     "text": [
      "INFO:flaml.tune.searcher.blendsearch:No low-cost partial config given to the search algorithm. For cost-frugal search, consider providing low-cost values for cost-related hps via 'low_cost_partial_config'. More info can be found at https://microsoft.github.io/FLAML/docs/FAQ#about-low_cost_partial_config-in-tune\n"
     ]
    },
    {
     "name": "stdout",
     "output_type": "stream",
     "text": [
      "\n",
      "Classification Report for Fold 1:\n",
      "\n",
      "              precision    recall  f1-score   support\n",
      "\n",
      "           0       0.80      0.10      0.18        39\n",
      "           1       0.69      0.99      0.81        79\n",
      "\n",
      "    accuracy                           0.69       118\n",
      "   macro avg       0.75      0.54      0.50       118\n",
      "weighted avg       0.73      0.69      0.60       118\n",
      "\n"
     ]
    },
    {
     "name": "stderr",
     "output_type": "stream",
     "text": [
      "INFO:flaml.tune.searcher.blendsearch:No low-cost partial config given to the search algorithm. For cost-frugal search, consider providing low-cost values for cost-related hps via 'low_cost_partial_config'. More info can be found at https://microsoft.github.io/FLAML/docs/FAQ#about-low_cost_partial_config-in-tune\n"
     ]
    },
    {
     "name": "stdout",
     "output_type": "stream",
     "text": [
      "\n",
      "Classification Report for Fold 2:\n",
      "\n",
      "              precision    recall  f1-score   support\n",
      "\n",
      "           0       0.78      0.18      0.29        39\n",
      "           1       0.71      0.97      0.82        79\n",
      "\n",
      "    accuracy                           0.71       118\n",
      "   macro avg       0.74      0.58      0.56       118\n",
      "weighted avg       0.73      0.71      0.64       118\n",
      "\n"
     ]
    },
    {
     "name": "stderr",
     "output_type": "stream",
     "text": [
      "INFO:flaml.tune.searcher.blendsearch:No low-cost partial config given to the search algorithm. For cost-frugal search, consider providing low-cost values for cost-related hps via 'low_cost_partial_config'. More info can be found at https://microsoft.github.io/FLAML/docs/FAQ#about-low_cost_partial_config-in-tune\n"
     ]
    },
    {
     "name": "stdout",
     "output_type": "stream",
     "text": [
      "\n",
      "Classification Report for Fold 3:\n",
      "\n",
      "              precision    recall  f1-score   support\n",
      "\n",
      "           0       0.00      0.00      0.00        38\n",
      "           1       0.68      1.00      0.81        79\n",
      "\n",
      "    accuracy                           0.68       117\n",
      "   macro avg       0.34      0.50      0.40       117\n",
      "weighted avg       0.46      0.68      0.54       117\n",
      "\n"
     ]
    },
    {
     "name": "stderr",
     "output_type": "stream",
     "text": [
      "/home/leila/miniconda3/envs/chemprop/lib/python3.8/site-packages/sklearn/metrics/_classification.py:1471: UndefinedMetricWarning: Precision and F-score are ill-defined and being set to 0.0 in labels with no predicted samples. Use `zero_division` parameter to control this behavior.\n",
      "  _warn_prf(average, modifier, msg_start, len(result))\n",
      "/home/leila/miniconda3/envs/chemprop/lib/python3.8/site-packages/sklearn/metrics/_classification.py:1471: UndefinedMetricWarning: Precision and F-score are ill-defined and being set to 0.0 in labels with no predicted samples. Use `zero_division` parameter to control this behavior.\n",
      "  _warn_prf(average, modifier, msg_start, len(result))\n",
      "/home/leila/miniconda3/envs/chemprop/lib/python3.8/site-packages/sklearn/metrics/_classification.py:1471: UndefinedMetricWarning: Precision and F-score are ill-defined and being set to 0.0 in labels with no predicted samples. Use `zero_division` parameter to control this behavior.\n",
      "  _warn_prf(average, modifier, msg_start, len(result))\n",
      "INFO:flaml.tune.searcher.blendsearch:No low-cost partial config given to the search algorithm. For cost-frugal search, consider providing low-cost values for cost-related hps via 'low_cost_partial_config'. More info can be found at https://microsoft.github.io/FLAML/docs/FAQ#about-low_cost_partial_config-in-tune\n"
     ]
    },
    {
     "name": "stdout",
     "output_type": "stream",
     "text": [
      "\n",
      "Classification Report for Fold 4:\n",
      "\n",
      "              precision    recall  f1-score   support\n",
      "\n",
      "           0       1.00      0.10      0.19        39\n",
      "           1       0.69      1.00      0.82        78\n",
      "\n",
      "    accuracy                           0.70       117\n",
      "   macro avg       0.85      0.55      0.50       117\n",
      "weighted avg       0.79      0.70      0.61       117\n",
      "\n",
      "\n",
      "Average Classification Report Across All Folds:\n",
      "\n",
      "              precision    recall  f1-score   support\n",
      "\n",
      "           0       0.67      0.11      0.19       194\n",
      "           1       0.69      0.97      0.81       394\n",
      "\n",
      "    accuracy                           0.69       588\n",
      "   macro avg       0.68      0.54      0.50       588\n",
      "weighted avg       0.68      0.69      0.60       588\n",
      "\n"
     ]
    },
    {
     "data": {
      "image/png": "[encoded data removed]",
      "text/plain": [
       "<Figure size 1000x1000 with 1 Axes>"
      ]
     },
     "metadata": {},
     "output_type": "display_data"
    }
   ],
   "source": [
    "import warnings\n",
    "import xgboost\n",
    "from sklearn.exceptions import ConvergenceWarning\n",
    "from sklearn.model_selection import StratifiedKFold\n",
    "from sklearn.metrics import roc_curve, auc, classification_report\n",
    "import numpy as np\n",
    "import matplotlib.pyplot as plt\n",
    "\n",
    "warnings.filterwarnings(\"ignore\", category=ConvergenceWarning)\n",
    "\n",
    "# Initialize AutoML for classification task\n",
    "modelAutoML = AutoML(task=\"classification\", time_budget=600, logistic_max_iter=40000)\n",
    "cv = StratifiedKFold(n_splits=5, shuffle=True, random_state=42)\n",
    "\n",
    "tprs = []\n",
    "aucs = []\n",
    "mean_fpr = np.linspace(0, 1, 100)\n",
    "plt.figure(figsize=(10, 10))\n",
    "i = 0\n",
    "\n",
    "all_true_labels = []\n",
    "all_predictions = []\n",
    "\n",
    "for train, test in cv.split(X, y):\n",
    "    modelAutoML.fit(X[train], y[train], verbose=1)\n",
    "    probas_ = modelAutoML.predict_proba(X[test])[:, 1]\n",
    "\n",
    "    # Compute ROC curve and area under the curve\n",
    "    fpr, tpr, thresholds = roc_curve(y[test], probas_)\n",
    "    tprs.append(np.interp(mean_fpr, fpr, tpr))\n",
    "    tprs[-1][0] = 0.0\n",
    "\n",
    "    roc_auc = auc(fpr, tpr)\n",
    "    aucs.append(roc_auc)\n",
    "    plt.plot(fpr, tpr, lw=1, alpha=0.3, label='ROC fold %d (AUC = %0.2f)' % (i, roc_auc))\n",
    "\n",
    "    # Classification report\n",
    "    y_pred = modelAutoML.predict(X[test])\n",
    "    print(f\"\\nClassification Report for Fold {i}:\\n\")\n",
    "    print(classification_report(y[test], y_pred))\n",
    "\n",
    "    # Accumulate true labels and predictions\n",
    "    all_true_labels.extend(y[test])\n",
    "    all_predictions.extend(y_pred)\n",
    "\n",
    "    i += 1\n",
    "\n",
    "# Calculate and print the average classification report\n",
    "print(\"\\nAverage Classification Report Across All Folds:\\n\")\n",
    "print(classification_report(all_true_labels, all_predictions))\n",
    "\n",
    "# Calculate mean ROC curve and AUC\n",
    "mean_tpr = np.mean(tprs, axis=0)\n",
    "mean_tpr[-1] = 1.0\n",
    "mean_auc = auc(mean_fpr, mean_tpr)\n",
    "std_auc = np.std(aucs)\n",
    "\n",
    "# Plot mean ROC curve with boundaries\n",
    "plt.plot(mean_fpr, mean_tpr, color='b', label=r'Mean ROC (AUC = %0.2f $\\pm$ %0.2f)' % (mean_auc, std_auc), lw=2, alpha=.8)\n",
    "\n",
    "std_tpr = np.std(tprs, axis=0)\n",
    "tprs_upper = np.minimum(mean_tpr + std_tpr, 1)\n",
    "tprs_lower = np.maximum(mean_tpr - std_tpr, 0)\n",
    "\n",
    "plt.fill_between(mean_fpr, tprs_lower, tprs_upper, color='grey', alpha=.2, label=r'$\\pm$ 1 std. dev.')\n",
    "\n",
    "plt.xlim([-0.01, 1.01])\n",
    "plt.ylim([-0.01, 1.01])\n",
    "plt.xlabel('False Positive Rate', fontsize=18)\n",
    "plt.ylabel('True Positive Rate', fontsize=18)\n",
    "plt.title('Cross-Validation ROC of AutoML', fontsize=18)\n",
    "plt.legend(loc=\"lower right\", prop={'size': 15})\n",
    "plt.show()\n"
   ]
  },
  {
   "cell_type": "code",
   "execution_count": 15,
   "metadata": {
    "colab": {
     "base_uri": "https://localhost:8080/",
     "height": 903
    },
    "executionInfo": {
     "elapsed": 24,
     "status": "ok",
     "timestamp": 1704838402452,
     "user": {
      "displayName": "leila yesufu",
      "userId": "04090599876914949365"
     },
     "user_tz": -60
    },
    "id": "bYDiMDaXR6Ru",
    "outputId": "bd7197a0-32c0-4e2e-f091-2106f194345c"
   },
   "outputs": [
    {
     "data": {
      "image/png": "[encoded data removed]",
      "text/plain": [
       "<Figure size 800x800 with 1 Axes>"
      ]
     },
     "metadata": {},
     "output_type": "display_data"
    }
   ],
   "source": [
    "## confusion matrix\n",
    "\n",
    "from sklearn.metrics import confusion_matrix\n",
    "import seaborn as sns\n",
    "from sklearn.metrics import classification_report\n",
    "\n",
    "# Assuming modelAutoML is your trained AutoML model\n",
    "predictions = modelAutoML.predict(X[test])\n",
    "\n",
    "# Get the confusion matrix\n",
    "cm = confusion_matrix(y[test], predictions)\n",
    "\n",
    "# Plot the confusion matrix\n",
    "plt.figure(figsize=(8, 8))\n",
    "sns.heatmap(cm, annot=True, fmt=\"d\", cmap=\"Blues\", cbar=False,\n",
    "            xticklabels=[\"Negative\", \"Positive\"], yticklabels=[\"Negative\", \"Positive\"])\n",
    "plt.xlabel(\"Predicted\", fontsize=16)\n",
    "plt.ylabel(\"True\", fontsize=16)\n",
    "plt.title(\"Confusion Matrix\", fontsize=18)\n",
    "\n",
    "plt.show()"
   ]
  },
  {
   "cell_type": "code",
   "execution_count": 17,
   "metadata": {},
   "outputs": [
    {
     "data": {
      "text/plain": [
       "['../../checkpoints/AutoML_ersilia.joblib']"
      ]
     },
     "execution_count": 17,
     "metadata": {},
     "output_type": "execute_result"
    }
   ],
   "source": [
    "##save the model with AutoML_ersilia\n",
    "import joblib\n",
    "joblib.dump(modelAutoML, '../../checkpoints/AutoML_ersilia.joblib')"
   ]
  },
  {
   "cell_type": "markdown",
   "metadata": {
    "id": "5JHPytsO5Jez"
   },
   "source": [
    "# With Morgan Fingerprints"
   ]
  },
  {
   "cell_type": "code",
   "execution_count": 31,
   "metadata": {
    "id": "973_TzxO5rGe"
   },
   "outputs": [],
   "source": [
    "##import dependecies\n",
    "import pandas as pd\n",
    "from rdkit import Chem\n",
    "from rdkit.Chem import AllChem\n",
    "import numpy as np"
   ]
  },
  {
   "cell_type": "code",
   "execution_count": 32,
   "metadata": {
    "id": "4HXaRzwu6ozl"
   },
   "outputs": [],
   "source": [
    "import pandas as pd\n",
    "smilescsv = pd.read_csv('../data/dilismiles.csv', names=['col_smiles'])"
   ]
  },
  {
   "cell_type": "code",
   "execution_count": 33,
   "metadata": {
    "colab": {
     "base_uri": "https://localhost:8080/"
    },
    "executionInfo": {
     "elapsed": 7,
     "status": "ok",
     "timestamp": 1704838430408,
     "user": {
      "displayName": "leila yesufu",
      "userId": "04090599876914949365"
     },
     "user_tz": -60
    },
    "id": "r1kyDRES7Fvf",
    "outputId": "1b90489e-a935-4496-8d27-aed5826ac5fb"
   },
   "outputs": [
    {
     "name": "stderr",
     "output_type": "stream",
     "text": [
      "[10:23:59] SMILES Parse Error: syntax error while parsing: col_smiles\n",
      "[10:23:59] SMILES Parse Error: Failed parsing SMILES 'col_smiles' for input: 'col_smiles'\n"
     ]
    }
   ],
   "source": [
    "# Add RDKit molecules column and filter out invalid molecules\n",
    "smilescsv['mol'] = smilescsv['col_smiles'].apply(lambda x: Chem.MolFromSmiles(x) if x is not None else None)\n",
    "smilescsv = smilescsv.dropna(subset=['mol'])\n",
    "\n",
    "# Generate Morgan Fingerprints\n",
    "smilescsv['morgan_fps'] = smilescsv['mol'].apply(lambda x: AllChem.GetMorganFingerprintAsBitVect(x, 2, nBits=1024))"
   ]
  },
  {
   "cell_type": "code",
   "execution_count": 34,
   "metadata": {},
   "outputs": [],
   "source": [
    "max_length = max(len(fp.GetOnBits()) for fp in smilescsv['morgan_fps'])\n",
    "X = np.array([list(fp.GetOnBits()) + [0] * (max_length - len(fp.GetOnBits())) for fp in smilescsv['morgan_fps']])"
   ]
  },
  {
   "cell_type": "code",
   "execution_count": 35,
   "metadata": {},
   "outputs": [
    {
     "name": "stdout",
     "output_type": "stream",
     "text": [
      "[[  3  13  34 ...   0   0   0]\n",
      " [ 15  24  33 ...   0   0   0]\n",
      " [  4  33  34 ...   0   0   0]\n",
      " ...\n",
      " [ 80  94 128 ...   0   0   0]\n",
      " [ 33  80  97 ...   0   0   0]\n",
      " [ 33  41  58 ...   0   0   0]]\n"
     ]
    }
   ],
   "source": [
    "print(X)"
   ]
  },
  {
   "cell_type": "code",
   "execution_count": 36,
   "metadata": {
    "colab": {
     "base_uri": "https://localhost:8080/"
    },
    "executionInfo": {
     "elapsed": 16,
     "status": "ok",
     "timestamp": 1704838447989,
     "user": {
      "displayName": "leila yesufu",
      "userId": "04090599876914949365"
     },
     "user_tz": -60
    },
    "id": "XuEvzu66vf0S",
    "outputId": "96415352-da99-4992-8c40-0faa8a0eeb1e"
   },
   "outputs": [
    {
     "data": {
      "text/plain": [
       "(588, 123)"
      ]
     },
     "execution_count": 36,
     "metadata": {},
     "output_type": "execute_result"
    }
   ],
   "source": [
    "X.shape"
   ]
  },
  {
   "cell_type": "code",
   "execution_count": 37,
   "metadata": {
    "colab": {
     "base_uri": "https://localhost:8080/"
    },
    "executionInfo": {
     "elapsed": 6,
     "status": "ok",
     "timestamp": 1704838468048,
     "user": {
      "displayName": "leila yesufu",
      "userId": "04090599876914949365"
     },
     "user_tz": -60
    },
    "id": "wb0Be-_G1M_u",
    "outputId": "6a7a53fb-8bd7-45cb-e4cb-6049cb64f7ee"
   },
   "outputs": [
    {
     "data": {
      "text/plain": [
       "(588,)"
      ]
     },
     "execution_count": 37,
     "metadata": {},
     "output_type": "execute_result"
    }
   ],
   "source": [
    "y.shape"
   ]
  },
  {
   "cell_type": "code",
   "execution_count": 38,
   "metadata": {
    "colab": {
     "base_uri": "https://localhost:8080/",
     "height": 959
    },
    "executionInfo": {
     "elapsed": 301839,
     "status": "ok",
     "timestamp": 1704839557215,
     "user": {
      "displayName": "leila yesufu",
      "userId": "04090599876914949365"
     },
     "user_tz": -60
    },
    "id": "uDC2MWpAy6Qn",
    "outputId": "3add4785-e9bb-47d5-a4a2-834e36e23801"
   },
   "outputs": [
    {
     "name": "stderr",
     "output_type": "stream",
     "text": [
      "2024-01-13 10:24:22,304\tINFO worker.py:1715 -- Started a local Ray instance. View the dashboard at \u001b[1m\u001b[32mhttp://127.0.0.1:8265 \u001b[39m\u001b[22m\n",
      "INFO:flaml.tune.searcher.blendsearch:No low-cost partial config given to the search algorithm. For cost-frugal search, consider providing low-cost values for cost-related hps via 'low_cost_partial_config'. More info can be found at https://microsoft.github.io/FLAML/docs/FAQ#about-low_cost_partial_config-in-tune\n"
     ]
    },
    {
     "name": "stdout",
     "output_type": "stream",
     "text": [
      "\n",
      "Classification Report for Fold 0:\n",
      "\n",
      "              precision    recall  f1-score   support\n",
      "\n",
      "           0       0.00      0.00      0.00        39\n",
      "           1       0.67      1.00      0.80        79\n",
      "\n",
      "    accuracy                           0.67       118\n",
      "   macro avg       0.33      0.50      0.40       118\n",
      "weighted avg       0.45      0.67      0.54       118\n",
      "\n"
     ]
    },
    {
     "name": "stderr",
     "output_type": "stream",
     "text": [
      "/home/leila/miniconda3/envs/chemprop/lib/python3.8/site-packages/sklearn/metrics/_classification.py:1471: UndefinedMetricWarning: Precision and F-score are ill-defined and being set to 0.0 in labels with no predicted samples. Use `zero_division` parameter to control this behavior.\n",
      "  _warn_prf(average, modifier, msg_start, len(result))\n",
      "/home/leila/miniconda3/envs/chemprop/lib/python3.8/site-packages/sklearn/metrics/_classification.py:1471: UndefinedMetricWarning: Precision and F-score are ill-defined and being set to 0.0 in labels with no predicted samples. Use `zero_division` parameter to control this behavior.\n",
      "  _warn_prf(average, modifier, msg_start, len(result))\n",
      "/home/leila/miniconda3/envs/chemprop/lib/python3.8/site-packages/sklearn/metrics/_classification.py:1471: UndefinedMetricWarning: Precision and F-score are ill-defined and being set to 0.0 in labels with no predicted samples. Use `zero_division` parameter to control this behavior.\n",
      "  _warn_prf(average, modifier, msg_start, len(result))\n",
      "INFO:flaml.tune.searcher.blendsearch:No low-cost partial config given to the search algorithm. For cost-frugal search, consider providing low-cost values for cost-related hps via 'low_cost_partial_config'. More info can be found at https://microsoft.github.io/FLAML/docs/FAQ#about-low_cost_partial_config-in-tune\n"
     ]
    },
    {
     "name": "stdout",
     "output_type": "stream",
     "text": [
      "\n",
      "Classification Report for Fold 1:\n",
      "\n",
      "              precision    recall  f1-score   support\n",
      "\n",
      "           0       0.00      0.00      0.00        39\n",
      "           1       0.67      1.00      0.80        79\n",
      "\n",
      "    accuracy                           0.67       118\n",
      "   macro avg       0.33      0.50      0.40       118\n",
      "weighted avg       0.45      0.67      0.54       118\n",
      "\n"
     ]
    },
    {
     "name": "stderr",
     "output_type": "stream",
     "text": [
      "/home/leila/miniconda3/envs/chemprop/lib/python3.8/site-packages/sklearn/metrics/_classification.py:1471: UndefinedMetricWarning: Precision and F-score are ill-defined and being set to 0.0 in labels with no predicted samples. Use `zero_division` parameter to control this behavior.\n",
      "  _warn_prf(average, modifier, msg_start, len(result))\n",
      "/home/leila/miniconda3/envs/chemprop/lib/python3.8/site-packages/sklearn/metrics/_classification.py:1471: UndefinedMetricWarning: Precision and F-score are ill-defined and being set to 0.0 in labels with no predicted samples. Use `zero_division` parameter to control this behavior.\n",
      "  _warn_prf(average, modifier, msg_start, len(result))\n",
      "/home/leila/miniconda3/envs/chemprop/lib/python3.8/site-packages/sklearn/metrics/_classification.py:1471: UndefinedMetricWarning: Precision and F-score are ill-defined and being set to 0.0 in labels with no predicted samples. Use `zero_division` parameter to control this behavior.\n",
      "  _warn_prf(average, modifier, msg_start, len(result))\n",
      "INFO:flaml.tune.searcher.blendsearch:No low-cost partial config given to the search algorithm. For cost-frugal search, consider providing low-cost values for cost-related hps via 'low_cost_partial_config'. More info can be found at https://microsoft.github.io/FLAML/docs/FAQ#about-low_cost_partial_config-in-tune\n"
     ]
    },
    {
     "name": "stdout",
     "output_type": "stream",
     "text": [
      "\n",
      "Classification Report for Fold 2:\n",
      "\n",
      "              precision    recall  f1-score   support\n",
      "\n",
      "           0       0.25      0.18      0.21        39\n",
      "           1       0.64      0.73      0.69        79\n",
      "\n",
      "    accuracy                           0.55       118\n",
      "   macro avg       0.45      0.46      0.45       118\n",
      "weighted avg       0.51      0.55      0.53       118\n",
      "\n"
     ]
    },
    {
     "name": "stderr",
     "output_type": "stream",
     "text": [
      "INFO:flaml.tune.searcher.blendsearch:No low-cost partial config given to the search algorithm. For cost-frugal search, consider providing low-cost values for cost-related hps via 'low_cost_partial_config'. More info can be found at https://microsoft.github.io/FLAML/docs/FAQ#about-low_cost_partial_config-in-tune\n"
     ]
    },
    {
     "name": "stdout",
     "output_type": "stream",
     "text": [
      "\n",
      "Classification Report for Fold 3:\n",
      "\n",
      "              precision    recall  f1-score   support\n",
      "\n",
      "           0       0.00      0.00      0.00        38\n",
      "           1       0.68      1.00      0.81        79\n",
      "\n",
      "    accuracy                           0.68       117\n",
      "   macro avg       0.34      0.50      0.40       117\n",
      "weighted avg       0.46      0.68      0.54       117\n",
      "\n"
     ]
    },
    {
     "name": "stderr",
     "output_type": "stream",
     "text": [
      "/home/leila/miniconda3/envs/chemprop/lib/python3.8/site-packages/sklearn/metrics/_classification.py:1471: UndefinedMetricWarning: Precision and F-score are ill-defined and being set to 0.0 in labels with no predicted samples. Use `zero_division` parameter to control this behavior.\n",
      "  _warn_prf(average, modifier, msg_start, len(result))\n",
      "/home/leila/miniconda3/envs/chemprop/lib/python3.8/site-packages/sklearn/metrics/_classification.py:1471: UndefinedMetricWarning: Precision and F-score are ill-defined and being set to 0.0 in labels with no predicted samples. Use `zero_division` parameter to control this behavior.\n",
      "  _warn_prf(average, modifier, msg_start, len(result))\n",
      "/home/leila/miniconda3/envs/chemprop/lib/python3.8/site-packages/sklearn/metrics/_classification.py:1471: UndefinedMetricWarning: Precision and F-score are ill-defined and being set to 0.0 in labels with no predicted samples. Use `zero_division` parameter to control this behavior.\n",
      "  _warn_prf(average, modifier, msg_start, len(result))\n",
      "INFO:flaml.tune.searcher.blendsearch:No low-cost partial config given to the search algorithm. For cost-frugal search, consider providing low-cost values for cost-related hps via 'low_cost_partial_config'. More info can be found at https://microsoft.github.io/FLAML/docs/FAQ#about-low_cost_partial_config-in-tune\n"
     ]
    },
    {
     "name": "stdout",
     "output_type": "stream",
     "text": [
      "\n",
      "Classification Report for Fold 4:\n",
      "\n",
      "              precision    recall  f1-score   support\n",
      "\n",
      "           0       0.00      0.00      0.00        39\n",
      "           1       0.67      1.00      0.80        78\n",
      "\n",
      "    accuracy                           0.67       117\n",
      "   macro avg       0.33      0.50      0.40       117\n",
      "weighted avg       0.44      0.67      0.53       117\n",
      "\n",
      "\n",
      "Average Classification Report Across All Folds:\n",
      "\n",
      "              precision    recall  f1-score   support\n",
      "\n",
      "           0       0.25      0.04      0.06       194\n",
      "           1       0.67      0.95      0.78       394\n",
      "\n",
      "    accuracy                           0.65       588\n",
      "   macro avg       0.46      0.49      0.42       588\n",
      "weighted avg       0.53      0.65      0.54       588\n",
      "\n"
     ]
    },
    {
     "name": "stderr",
     "output_type": "stream",
     "text": [
      "/home/leila/miniconda3/envs/chemprop/lib/python3.8/site-packages/sklearn/metrics/_classification.py:1471: UndefinedMetricWarning: Precision and F-score are ill-defined and being set to 0.0 in labels with no predicted samples. Use `zero_division` parameter to control this behavior.\n",
      "  _warn_prf(average, modifier, msg_start, len(result))\n",
      "/home/leila/miniconda3/envs/chemprop/lib/python3.8/site-packages/sklearn/metrics/_classification.py:1471: UndefinedMetricWarning: Precision and F-score are ill-defined and being set to 0.0 in labels with no predicted samples. Use `zero_division` parameter to control this behavior.\n",
      "  _warn_prf(average, modifier, msg_start, len(result))\n",
      "/home/leila/miniconda3/envs/chemprop/lib/python3.8/site-packages/sklearn/metrics/_classification.py:1471: UndefinedMetricWarning: Precision and F-score are ill-defined and being set to 0.0 in labels with no predicted samples. Use `zero_division` parameter to control this behavior.\n",
      "  _warn_prf(average, modifier, msg_start, len(result))\n"
     ]
    },
    {
     "data": {
      "image/png": "[encoded data removed]",
      "text/plain": [
       "<Figure size 1000x1000 with 1 Axes>"
      ]
     },
     "metadata": {},
     "output_type": "display_data"
    }
   ],
   "source": [
    "import warnings\n",
    "from sklearn.exceptions import ConvergenceWarning\n",
    "from sklearn.model_selection import StratifiedKFold\n",
    "from sklearn.metrics import roc_curve, auc, classification_report\n",
    "import numpy as np\n",
    "import matplotlib.pyplot as plt\n",
    "import ray\n",
    "\n",
    "ray.init(ignore_reinit_error=True)\n",
    "\n",
    "\n",
    "warnings.filterwarnings(\"ignore\", category=ConvergenceWarning)\n",
    "\n",
    "# Assuming you have X as a list of lists\n",
    "# No padding for non-sequential data\n",
    "X = np.array(X)  # Convert X to numpy array if it's not already\n",
    "y = np.array(y)  # Convert y to numpy array if it's not already\n",
    "\n",
    "# Initialize AutoML for classification task\n",
    "modelAutoML = AutoML(task=\"classification\", time_budget=600, logistic_max_iter=40000)\n",
    "cv = StratifiedKFold(n_splits=5, shuffle=True, random_state=42)\n",
    "\n",
    "tprs = []\n",
    "aucs = []\n",
    "mean_fpr = np.linspace(0, 1, 100)\n",
    "plt.figure(figsize=(10, 10))\n",
    "i = 0\n",
    "\n",
    "# Initialize lists for accumulating true labels and predictions\n",
    "all_true_labels = []\n",
    "all_predictions = []\n",
    "\n",
    "for train, test in cv.split(X, y):\n",
    "    modelAutoML.fit(X[train], y[train], verbose=-1)\n",
    "    probas_ = modelAutoML.predict_proba(X[test])[:, 1]\n",
    "\n",
    "    # Compute ROC curve and area under the curve\n",
    "    fpr, tpr, thresholds = roc_curve(y[test], probas_)\n",
    "    tprs.append(np.interp(mean_fpr, fpr, tpr))\n",
    "    tprs[-1][0] = 0.0\n",
    "\n",
    "    roc_auc = auc(fpr, tpr)\n",
    "    aucs.append(roc_auc)\n",
    "    plt.plot(fpr, tpr, lw=1, alpha=0.3, label='ROC fold %d (AUC = %0.2f)' % (i, roc_auc))\n",
    "\n",
    "    # Classification report\n",
    "    y_pred = modelAutoML.predict(X[test])\n",
    "    print(f\"\\nClassification Report for Fold {i}:\\n\")\n",
    "    print(classification_report(y[test], y_pred))\n",
    "\n",
    "    # Accumulate true labels and predictions\n",
    "    all_true_labels.extend(y[test])\n",
    "    all_predictions.extend(y_pred)\n",
    "\n",
    "    i += 1\n",
    "\n",
    "# Calculate and print the average classification report\n",
    "print(\"\\nAverage Classification Report Across All Folds:\\n\")\n",
    "print(classification_report(all_true_labels, all_predictions))\n",
    "\n",
    "plt.plot([0, 1], [0, 1], linestyle='--', lw=2, color='r', label='Chance', alpha=.8)\n",
    "\n",
    "# Calculate mean ROC curve and AUC\n",
    "mean_tpr = np.mean(tprs, axis=0)\n",
    "mean_tpr[-1] = 1.0\n",
    "mean_auc = auc(mean_fpr, mean_tpr)\n",
    "std_auc = np.std(aucs)\n",
    "\n",
    "# Plot mean ROC curve with boundaries\n",
    "plt.plot(mean_fpr, mean_tpr, color='b', label=r'Mean ROC (AUC = %0.2f $\\pm$ %0.2f)' % (mean_auc, std_auc), lw=2, alpha=.8)\n",
    "\n",
    "std_tpr = np.std(tprs, axis=0)\n",
    "tprs_upper = np.minimum(mean_tpr + std_tpr, 1)\n",
    "tprs_lower = np.maximum(mean_tpr - std_tpr, 0)\n",
    "\n",
    "plt.fill_between(mean_fpr, tprs_lower, tprs_upper, color='grey', alpha=.2, label=r'$\\pm$ 1 std. dev.')\n",
    "plt.xlim([-0.01, 1.01])\n",
    "plt.ylim([-0.01, 1.01])\n",
    "plt.xlabel('False Positive Rate', fontsize=18)\n",
    "plt.ylabel('True Positive Rate', fontsize=18)\n",
    "plt.title('Cross-Validation ROC of AutoML', fontsize=18)\n",
    "plt.legend(loc=\"lower right\", prop={'size': 15})\n",
    "plt.show()"
   ]
  },
  {
   "cell_type": "code",
   "execution_count": 40,
   "metadata": {
    "colab": {
     "base_uri": "https://localhost:8080/",
     "height": 1000
    },
    "executionInfo": {
     "elapsed": 12,
     "status": "ok",
     "timestamp": 1704839974855,
     "user": {
      "displayName": "leila yesufu",
      "userId": "04090599876914949365"
     },
     "user_tz": -60
    },
    "id": "n69aF2zXWXSa",
    "outputId": "4ead5cea-80b5-4ff6-cd8d-33c1675416a8"
   },
   "outputs": [
    {
     "data": {
      "image/png": "[encoded data removed]",
      "text/plain": [
       "<Figure size 800x800 with 1 Axes>"
      ]
     },
     "metadata": {},
     "output_type": "display_data"
    }
   ],
   "source": [
    "## confusion matrix\n",
    "\n",
    "from sklearn.metrics import confusion_matrix\n",
    "import seaborn as sns\n",
    "from sklearn.metrics import classification_report \n",
    "\n",
    "# Assuming modelAutoML is your trained AutoML model\n",
    "predictions = modelAutoML.predict(X[test])\n",
    "\n",
    "# Get the confusion matrix\n",
    "cm = confusion_matrix(y[test], predictions)\n",
    "\n",
    "# Plot the confusion matrix\n",
    "plt.figure(figsize=(8, 8))\n",
    "sns.heatmap(cm, annot=True, fmt=\"d\", cmap=\"Blues\", cbar=False,\n",
    "            xticklabels=[\"Negative\", \"Positive\"], yticklabels=[\"Negative\", \"Positive\"])\n",
    "plt.xlabel(\"Predicted\", fontsize=16)\n",
    "plt.ylabel(\"True\", fontsize=16)\n",
    "plt.title(\"Confusion Matrix\", fontsize=18)\n",
    "\n",
    "plt.show()"
   ]
  },
  {
   "cell_type": "code",
   "execution_count": 41,
   "metadata": {},
   "outputs": [
    {
     "data": {
      "text/plain": [
       "['../../checkpoints/AutoML_morgan_fp.joblib']"
      ]
     },
     "execution_count": 41,
     "metadata": {},
     "output_type": "execute_result"
    }
   ],
   "source": [
    "##save the model with AutoML_ersilia\n",
    "import joblib\n",
    "joblib.dump(modelAutoML, '../../checkpoints/AutoML_morgan_fp.joblib')"
   ]
  },
  {
   "cell_type": "markdown",
   "metadata": {
    "id": "15MxodbORiym"
   },
   "source": [
    "# AutoGluon Model\n",
    "Basic Autogluon Example"
   ]
  },
  {
   "cell_type": "code",
   "execution_count": 43,
   "metadata": {
    "executionInfo": {
     "elapsed": 3990,
     "status": "ok",
     "timestamp": 1705006944104,
     "user": {
      "displayName": "leila yesufu",
      "userId": "04090599876914949365"
     },
     "user_tz": -60
    },
    "id": "62gvwdyJRwYt"
   },
   "outputs": [],
   "source": [
    "import pandas as pd\n",
    "from rdkit import Chem\n",
    "from sklearn.model_selection import train_test_split\n",
    "import numpy as np"
   ]
  },
  {
   "cell_type": "code",
   "execution_count": 50,
   "metadata": {
    "executionInfo": {
     "elapsed": 13242,
     "status": "ok",
     "timestamp": 1705006959491,
     "user": {
      "displayName": "leila yesufu",
      "userId": "04090599876914949365"
     },
     "user_tz": -60
    },
    "id": "T5_WBBsaR4Ye"
   },
   "outputs": [],
   "source": [
    "smilescsv = pd.read_csv('../data/updated_dili_smiles.csv')"
   ]
  },
  {
   "cell_type": "code",
   "execution_count": 45,
   "metadata": {
    "executionInfo": {
     "elapsed": 4229,
     "status": "ok",
     "timestamp": 1705007012786,
     "user": {
      "displayName": "leila yesufu",
      "userId": "04090599876914949365"
     },
     "user_tz": -60
    },
    "id": "_C-3jUliR8hf"
   },
   "outputs": [
    {
     "name": "stderr",
     "output_type": "stream",
     "text": [
      "/tmp/ipykernel_1113355/3359931318.py:1: DtypeWarning: Columns (724,725,726,727,728,729,730,731,732,733,734,735,736,737,738,739,740,741,742,743,744,745,746,747,748,749,750,751,752,753,754,755,756,757,758,759,760,761,762,763,764,765,766,767,768,769,770,771,772,773,774,775,776,777,778,779,780,781,782,783,784,785,786,787,788,789,790,791,792,793,794,795,796,797,798,799,800,801,802,803,804,805,806,807,808,809,810,811,812,813,814,828,829,830,831,832,833,834,835,836,837,838,839,840,841,842,843,844,845,846,847,848,849,850,851,852,853,854,855,856,857,858,859,860,861,862,863,864,865,866,867,868,869,870,871,872,873,874,875,876,877,878,879,880,881,882,883,884,885,886,887,888,889,890,891,892,893,894,895,896,897,898,899,900,901,902,903,904,905,906,907,908,909,910,911,912,913,914,915,916,917,918,919,920,921,922,923,1277,1322) have mixed types. Specify dtype option on import or set low_memory=False.\n",
      "  data = pd.read_csv('../data/updated_dili_padel.csv')\n"
     ]
    }
   ],
   "source": [
    "data = pd.read_csv('../data/updated_dili_padel.csv')\n",
    "dataframe = pd.DataFrame(data)\n",
    "desc = pd.DataFrame(dataframe.iloc[:, 3:])"
   ]
  },
  {
   "cell_type": "markdown",
   "metadata": {
    "id": "n5rPWLM1SD8f"
   },
   "source": [
    "# Install Autogluon"
   ]
  },
  {
   "cell_type": "code",
   "execution_count": 57,
   "metadata": {
    "executionInfo": {
     "elapsed": 6,
     "status": "ok",
     "timestamp": 1705007039728,
     "user": {
      "displayName": "leila yesufu",
      "userId": "04090599876914949365"
     },
     "user_tz": -60
    },
    "id": "1xCfvGqLT1Sa"
   },
   "outputs": [],
   "source": [
    "from autogluon.tabular import TabularDataset, TabularPredictor"
   ]
  },
  {
   "cell_type": "code",
   "execution_count": 110,
   "metadata": {
    "colab": {
     "base_uri": "https://localhost:8080/"
    },
    "executionInfo": {
     "elapsed": 7,
     "status": "ok",
     "timestamp": 1705007100672,
     "user": {
      "displayName": "leila yesufu",
      "userId": "04090599876914949365"
     },
     "user_tz": -60
    },
    "id": "uo1n7F70SVlz",
    "outputId": "ecfa6639-8742-455f-a5ff-2bbaf3a01a8a"
   },
   "outputs": [
    {
     "name": "stderr",
     "output_type": "stream",
     "text": [
      "Loaded data from: ../data/updated_dili_padel.csv | Columns = 1429 / 1429 | Rows = 576 -> 576\n"
     ]
    },
    {
     "name": "stdout",
     "output_type": "stream",
     "text": [
      "               ID         CommonName  Outcome  nAcid  naAromAtom  nAromBond  \\\n",
      "0  AUTOGEN_dili_1    Aurothioglucose        1      0           0          0   \n",
      "1  AUTOGEN_dili_2  DemecariumBromide        1      0          12         12   \n",
      "2  AUTOGEN_dili_3   Dextromethorphan        0      0           6          6   \n",
      "3  AUTOGEN_dili_4         Ergotamine        0      0          15         16   \n",
      "4  AUTOGEN_dili_5     Beclomethasone        0      0           0          0   \n",
      "\n",
      "   nB  nN  nO  nS  ...      WTPT1     WTPT2      WTPT3      WTPT4      WTPT5  \\\n",
      "0   0   0   5   1  ...  23.078977  1.923248  15.422349  12.919448   0.000000   \n",
      "1   0   4   4   0  ...  78.841924  1.971048  24.051089  11.127775  12.923314   \n",
      "2   0   1   1   0  ...  42.041518  2.102076   6.134966   2.806398   3.328569   \n",
      "3   0   5   5   0  ...  90.264234  2.099168  30.004012  13.475249  16.528762   \n",
      "4   0   0   5   0  ...  56.562478  2.020089  15.115392  12.515759   0.000000   \n",
      "\n",
      "   WPATH  WPOL  XLogP  Zagreb  \\\n",
      "0    182    19 -1.807      58   \n",
      "1   8054    55  7.024     194   \n",
      "2    682    41  4.207     116   \n",
      "3   6191    88  3.848     258   \n",
      "4   1670    70  1.275     168   \n",
      "\n",
      "                                                                                                                      smiles  \n",
      "0                                                          [H][C@]1([S-])O[C@]([H])(CO)[C@@]([H])(O)[C@]([H])(O)[C@@]1([H])O  \n",
      "1                                                   CN(CCCCCCCCCCN(C)C(=O)Oc1cccc(c1)[N+](C)(C)C)C(=O)Oc1cccc(c1)[N+](C)(C)C  \n",
      "2                                                                           [H][C@]12Cc3ccc(OC)cc3[C@@]3(CCCC[C@]13[H])CCN2C  \n",
      "3  [H][C@@]12CCCN1C(=O)[C@]([H])(Cc1ccccc1)N1C(=O)[C@](C)(NC(=O)[C@@]3([H])CN(C)[C@]4([H])Cc5c[nH]c6cccc(C4=C3)c56)O[C@@]21O  \n",
      "4                    [H][C@]1(C)C[C@@]2([H])[C@]3([H])CCC4=CC(=O)C=C[C@]4(C)[C@@]3(Cl)[C@@]([H])(O)C[C@]2(C)[C@@]1(O)C(=O)CO  \n",
      "\n",
      "[5 rows x 1429 columns] (576, 1429)\n"
     ]
    }
   ],
   "source": [
    "X = TabularDataset('../data/updated_dili_padel.csv')\n",
    "print(X.head(), X.shape)"
   ]
  },
  {
   "cell_type": "code",
   "execution_count": 59,
   "metadata": {
    "colab": {
     "base_uri": "https://localhost:8080/"
    },
    "executionInfo": {
     "elapsed": 1085,
     "status": "ok",
     "timestamp": 1705007116683,
     "user": {
      "displayName": "leila yesufu",
      "userId": "04090599876914949365"
     },
     "user_tz": -60
    },
    "id": "GN6KEqcxSf9b",
    "outputId": "6569b6f8-cce9-4511-ffdf-7db0ebeba6ca"
   },
   "outputs": [
    {
     "name": "stdout",
     "output_type": "stream",
     "text": [
      "<class 'pandas.core.series.Series'> (576,)\n"
     ]
    }
   ],
   "source": [
    "y = X['Outcome']\n",
    "print(type(y),y.shape)"
   ]
  },
  {
   "cell_type": "code",
   "execution_count": 61,
   "metadata": {
    "colab": {
     "base_uri": "https://localhost:8080/"
    },
    "executionInfo": {
     "elapsed": 602,
     "status": "ok",
     "timestamp": 1705007146705,
     "user": {
      "displayName": "leila yesufu",
      "userId": "04090599876914949365"
     },
     "user_tz": -60
    },
    "id": "6ZNNjYnUTO0x",
    "outputId": "cc2584a8-b37a-4da5-b1d3-22163430ff32"
   },
   "outputs": [],
   "source": [
    "from sklearn.model_selection import train_test_split\n",
    "x_train, x_test, y_train, y_test = train_test_split(X,y,test_size=0.20)"
   ]
  },
  {
   "cell_type": "code",
   "execution_count": 62,
   "metadata": {},
   "outputs": [
    {
     "data": {
      "text/plain": [
       "(576, 1428)"
      ]
     },
     "execution_count": 62,
     "metadata": {},
     "output_type": "execute_result"
    }
   ],
   "source": [
    "X.shape"
   ]
  },
  {
   "cell_type": "code",
   "execution_count": 63,
   "metadata": {
    "executionInfo": {
     "elapsed": 413,
     "status": "ok",
     "timestamp": 1705007162727,
     "user": {
      "displayName": "leila yesufu",
      "userId": "04090599876914949365"
     },
     "user_tz": -60
    },
    "id": "gTCwHl7pTR6s"
   },
   "outputs": [],
   "source": [
    "label = 'Outcome'"
   ]
  },
  {
   "cell_type": "code",
   "execution_count": 64,
   "metadata": {
    "colab": {
     "base_uri": "https://localhost:8080/"
    },
    "executionInfo": {
     "elapsed": 570210,
     "status": "ok",
     "timestamp": 1705008370357,
     "user": {
      "displayName": "leila yesufu",
      "userId": "04090599876914949365"
     },
     "user_tz": -60
    },
    "id": "-w-BXqU5TUlr",
    "outputId": "a0c8c6ab-2f46-4259-b335-28f4086e0b28"
   },
   "outputs": [
    {
     "name": "stderr",
     "output_type": "stream",
     "text": [
      "No path specified. Models will be saved in: \"AutogluonModels/ag-20240113_105649\"\n",
      "Presets specified: ['best_quality']\n",
      "Stack configuration (auto_stack=True): num_stack_levels=1, num_bag_folds=8, num_bag_sets=1\n",
      "Dynamic stacking is enabled (dynamic_stacking=True). AutoGluon will try to determine whether the input data is affected by stacked overfitting and enable or disable stacking as a consequence.\n",
      "Detecting stacked overfitting by sub-fitting AutoGluon on the input data. That is, copies of AutoGluon will be sub-fit on subset(s) of the data. Then, the holdout validation data is used to detect stacked overfitting.\n",
      "Sub-fit(s) time limit is: 1200 seconds.\n",
      "Starting holdout-based sub-fit for dynamic stacking. Context path is: AutogluonModels/ag-20240113_105649/ds_sub_fit/sub_fit_ho.\n",
      "Beginning AutoGluon training ... Time limit = 300s\n",
      "AutoGluon will save models to \"AutogluonModels/ag-20240113_105649/ds_sub_fit/sub_fit_ho\"\n",
      "=================== System Info ===================\n",
      "AutoGluon Version:  1.0.0\n",
      "Python Version:     3.8.18\n",
      "Operating System:   Linux\n",
      "Platform Machine:   x86_64\n",
      "Platform Version:   #1 SMP Thu Oct 5 21:02:42 UTC 2023\n",
      "CPU Count:          8\n",
      "Memory Avail:       4.02 GB / 7.61 GB (52.8%)\n",
      "Disk Space Avail:   819.78 GB / 1006.85 GB (81.4%)\n",
      "===================================================\n",
      "Train Data Rows:    408\n",
      "Train Data Columns: 1427\n",
      "Label Column:       Outcome\n",
      "Problem Type:       binary\n",
      "Preprocessing data ...\n",
      "Selected class <--> label mapping:  class 1 = 1, class 0 = 0\n",
      "Using Feature Generators to preprocess the data ...\n",
      "Fitting AutoMLPipelineFeatureGenerator...\n",
      "\tAvailable Memory:                    4122.14 MB\n",
      "\tTrain Data (Original)  Memory Usage: 10.17 MB (0.2% of available memory)\n",
      "\tInferring data type of each feature based on column values. Set feature_metadata_in to manually specify special dtypes of the features.\n",
      "\tStage 1 Generators:\n",
      "\t\tFitting AsTypeFeatureGenerator...\n",
      "\t\t\tNote: Converting 53 features to boolean dtype as they only contain 2 unique values.\n",
      "\tStage 2 Generators:\n",
      "\t\tFitting FillNaFeatureGenerator...\n",
      "\tStage 3 Generators:\n",
      "\t\tFitting IdentityFeatureGenerator...\n",
      "\t\tFitting CategoryFeatureGenerator...\n",
      "\t\t\tFitting CategoryMemoryMinimizeFeatureGenerator...\n",
      "\tStage 4 Generators:\n",
      "\t\tFitting DropUniqueFeatureGenerator...\n",
      "\tStage 5 Generators:\n",
      "\t\tFitting DropDuplicatesFeatureGenerator...\n",
      "\tUseless Original Features (Count: 217): ['nB', 'nBondsQ', 'nHsNH3p', 'nHsssNHp', 'nHmisc', 'nsLi', 'nssBe', 'nssssBem', 'nsBH2', 'nssBH', 'nsssB', 'nssssBm', 'nsNH3p', 'nsssNHp', 'nddsN', 'naOm', 'nsSiH3', 'nssSiH2', 'nsssSiH', 'nssssSi', 'nsPH2', 'nssPH', 'nsssP', 'nddsP', 'nsssssP', 'nssssssS', 'nSm', 'nsGeH3', 'nssGeH2', 'nsssGeH', 'nssssGe', 'nsAsH2', 'nssAsH', 'nsssAs', 'ndsssAs', 'nddsAs', 'nsssssAs', 'nsSeH', 'ndSe', 'nssSe', 'naaSe', 'ndssSe', 'nssssssSe', 'nddssSe', 'nsSnH3', 'nssSnH2', 'nsssSnH', 'nssssSn', 'nsPbH3', 'nssPbH2', 'nsssPbH', 'nssssPb', 'SHsssNHp', 'SHmisc', 'SsLi', 'SssBe', 'SssssBem', 'SsBH2', 'SssBH', 'SsssB', 'SssssBm', 'SsssNHp', 'SddsN', 'SaOm', 'SsSiH3', 'SssSiH2', 'SsssSiH', 'SssssSi', 'SsPH2', 'SssPH', 'SsssP', 'SddsP', 'SsssssP', 'SssssssS', 'SSm', 'SsGeH3', 'SssGeH2', 'SsssGeH', 'SssssGe', 'SsAsH2', 'SssAsH', 'SsssAs', 'SdsssAs', 'SddsAs', 'SsssssAs', 'SsSeH', 'SdSe', 'SssSe', 'SaaSe', 'SdssSe', 'SssssssSe', 'SddssSe', 'SsSnH3', 'SssSnH2', 'SsssSnH', 'SssssSn', 'SsPbH3', 'SssPbH2', 'SsssPbH', 'SssssPb', 'minHsssNHp', 'minHmisc', 'minsLi', 'minssBe', 'minssssBem', 'minsBH2', 'minssBH', 'minsssB', 'minssssBm', 'minsssNHp', 'minddsN', 'minaOm', 'minsSiH3', 'minssSiH2', 'minsssSiH', 'minssssSi', 'minsPH2', 'minssPH', 'minsssP', 'minddsP', 'minsssssP', 'minssssssS', 'minSm', 'minsGeH3', 'minssGeH2', 'minsssGeH', 'minssssGe', 'minsAsH2', 'minssAsH', 'minsssAs', 'mindsssAs', 'minddsAs', 'minsssssAs', 'minsSeH', 'mindSe', 'minssSe', 'minaaSe', 'mindssSe', 'minssssssSe', 'minddssSe', 'minsSnH3', 'minssSnH2', 'minsssSnH', 'minssssSn', 'minsPbH3', 'minssPbH2', 'minsssPbH', 'minssssPb', 'maxHsssNHp', 'maxHmisc', 'maxsLi', 'maxssBe', 'maxssssBem', 'maxsBH2', 'maxssBH', 'maxsssB', 'maxssssBm', 'maxsssNHp', 'maxddsN', 'maxaOm', 'maxsSiH3', 'maxssSiH2', 'maxsssSiH', 'maxssssSi', 'maxsPH2', 'maxssPH', 'maxsssP', 'maxdsssP', 'maxddsP', 'maxsssssP', 'maxssS', 'maxaaS', 'maxdssS', 'maxddssS', 'maxssssssS', 'maxSm', 'maxsGeH3', 'maxssGeH2', 'maxsssGeH', 'maxssssGe', 'maxsAsH2', 'maxssAsH', 'maxsssAs', 'maxdsssAs', 'maxddsAs', 'maxsssssAs', 'maxsSeH', 'maxdSe', 'maxssSe', 'maxaaSe', 'maxdssSe', 'maxssssssSe', 'maxddssSe', 'maxsSnH3', 'maxssSnH2', 'maxsssSnH', 'maxssssSn', 'maxsI', 'maxsPbH3', 'maxssPbH2', 'maxsssPbH', 'maxssssPb', 'n10Ring', 'nF4Ring', 'nF5Ring', 'n8HeteroRing', 'n10HeteroRing', 'nFHeteroRing', 'nF4HeteroRing', 'nF5HeteroRing', 'nTHeteroRing', 'SHsNH3p', 'SsNH3p', 'minHsNH3p', 'minsNH3p', 'maxHsNH3p', 'maxsNH3p']\n",
      "\t\tThese features carry no predictive signal and should be manually investigated.\n",
      "\t\tThis is typically a feature which has the same value for all rows.\n",
      "\t\tThese features do not need to be present at inference time.\n",
      "\tUnused Original Features (Count: 168): ['ID', 'CommonName', 'nBondsD2', 'nHCHnX', 'ndCH2', 'ntCH', 'naaCH', 'nsNH2', 'nssNH2p', 'ndNH', 'nssNH', 'naaNH', 'nsOH', 'nsF', 'ndsssP', 'nsSH', 'nsCl', 'nsBr', 'nsI', 'nT4Ring', 'nT5Ring', 'nT10Ring', 'n4HeteroRing', 'n9HeteroRing', 'n11HeteroRing', 'n12HeteroRing', 'nG12HeteroRing', 'nT4HeteroRing', 'nT5HeteroRing', 'nT8HeteroRing', 'nT10HeteroRing', 'SpMax_DzZ', 'SpDiam_DzZ', 'SpAD_DzZ', 'SpMAD_DzZ', 'VR1_DzZ', 'VR2_DzZ', 'VR3_DzZ', 'SpAbs_Dzm', 'SpMax_Dzm', 'SpDiam_Dzm', 'SpAD_Dzm', 'SpMAD_Dzm', 'EE_Dzm', 'VR1_Dzm', 'VR2_Dzm', 'VR3_Dzm', 'SpAbs_Dzv', 'SpMax_Dzv', 'SpDiam_Dzv', 'SpAD_Dzv', 'SpMAD_Dzv', 'EE_Dzv', 'VE2_Dzv', 'VE3_Dzv', 'VR2_Dzv', 'VR3_Dzv', 'SpAbs_Dze', 'SpMax_Dze', 'SpDiam_Dze', 'SpAD_Dze', 'SpMAD_Dze', 'EE_Dze', 'SM1_Dze', 'VR1_Dze', 'VR2_Dze', 'VR3_Dze', 'SpAbs_Dzp', 'SpMax_Dzp', 'SpDiam_Dzp', 'SpAD_Dzp', 'SpMAD_Dzp', 'SM1_Dzp', 'VR1_Dzp', 'VR2_Dzp', 'VR3_Dzp', 'SpAbs_Dzi', 'SpMax_Dzi', 'SpDiam_Dzi', 'SpAD_Dzi', 'SpMAD_Dzi', 'EE_Dzi', 'SM1_Dzi', 'VR1_Dzi', 'VR2_Dzi', 'VR3_Dzi', 'SpAbs_Dzs', 'SpMax_Dzs', 'SpDiam_Dzs', 'SpAD_Dzs', 'SpMAD_Dzs', 'EE_Dzs', 'VR1_Dzs', 'VR2_Dzs', 'VR3_Dzs', 'SpMax1_Bhm', 'SpMax1_Bhv', 'SpMin1_Bhv', 'SpMax1_Bhe', 'SpMax2_Bhe', 'SpMin1_Bhe', 'SpMax1_Bhp', 'SpMin1_Bhp', 'SpMax1_Bhi', 'SpMin1_Bhi', 'SpMin2_Bhi', 'SpMax1_Bhs', 'SpMax2_Bhs', 'SpMin1_Bhs', 'SpMin2_Bhs', 'VPC4', 'ASP2', 'ASP3', 'ASP4', 'ASP5', 'VP2', 'AVP1', 'AVP2', 'AVP3', 'AVP4', 'AVP5', 'AVP6', 'AVP7', 'SHdNH', 'SHssNH2p', 'SHCHnX', 'SddC', 'SssNH2p', 'SdNH', 'minHdNH', 'minHsSH', 'minHaaNH', 'minHssNH2p', 'minHtCH', 'minHdCH2', 'minHCHnX', 'mindCH2', 'mintCH', 'minddC', 'minssNH2p', 'mindNH', 'minaaNH', 'minaaO', 'minsSH', 'minaaS', 'mindssS', 'maxwHBd', 'maxHdNH', 'maxHsSH', 'maxHaaNH', 'maxHssNH2p', 'maxHtCH', 'maxHdCH2', 'maxHCHnX', 'maxHAvin', 'maxdCH2', 'maxtCH', 'maxddC', 'maxssNH2p', 'maxdNH', 'maxaaNH', 'maxtN', 'maxaasN', 'maxssssNp', 'maxaaO', 'maxsSH', 'maxdS', 'SRW3']\n",
      "\t\tThese features were not used to generate any of the output features. Add a feature generator compatible with these features to utilize them.\n",
      "\t\tFeatures can also be unused if they carry very little information, such as being categorical but having almost entirely unique values or being duplicates of other features.\n",
      "\t\tThese features do not need to be present at inference time.\n",
      "\t\t('float', [])  : 45 | ['SHdNH', 'SHssNH2p', 'SHCHnX', 'SddC', 'SssNH2p', ...]\n",
      "\t\t('int', [])    : 29 | ['nBondsD2', 'nHCHnX', 'ndCH2', 'ntCH', 'naaCH', ...]\n",
      "\t\t('object', []) : 94 | ['ID', 'CommonName', 'SpMax_DzZ', 'SpDiam_DzZ', 'SpAD_DzZ', ...]\n",
      "\tTypes of features in original data (raw dtype, special dtypes):\n",
      "\t\t('float', [])  : 731 | ['ALogP', 'ALogp2', 'AMR', 'apol', 'ATS0m', ...]\n",
      "\t\t('int', [])    : 157 | ['nAcid', 'naAromAtom', 'nAromBond', 'nN', 'nO', ...]\n",
      "\t\t('object', []) : 154 | ['SpAbs_DzZ', 'EE_DzZ', 'SM1_DzZ', 'VE1_DzZ', 'VE2_DzZ', ...]\n",
      "\tTypes of features in processed data (raw dtype, special dtypes):\n",
      "\t\t('category', [])  : 154 | ['SpAbs_DzZ', 'EE_DzZ', 'SM1_DzZ', 'VE1_DzZ', 'VE2_DzZ', ...]\n",
      "\t\t('float', [])     : 731 | ['ALogP', 'ALogp2', 'AMR', 'apol', 'ATS0m', ...]\n",
      "\t\t('int', [])       : 133 | ['nAcid', 'naAromAtom', 'nAromBond', 'nN', 'nO', ...]\n",
      "\t\t('int', ['bool']) :  24 | ['nHdNH', 'nHsSH', 'nHaaNH', 'nHssNH2p', 'nHtCH', ...]\n",
      "\t4.2s = Fit runtime\n",
      "\t1042 features in original data used to generate 1042 features in processed data.\n",
      "\tTrain Data (Processed) Memory Usage: 2.83 MB (0.1% of available memory)\n",
      "Data preprocessing and feature engineering runtime = 4.33s ...\n",
      "AutoGluon will gauge predictive performance using evaluation metric: 'accuracy'\n",
      "\tTo change this, specify the eval_metric parameter of Predictor()\n",
      "Large model count detected (112 configs) ... Only displaying the first 3 models of each family. To see all, set `verbosity=3`.\n",
      "User-specified model hyperparameters to be fit:\n",
      "{\n",
      "\t'NN_TORCH': [{}, {'activation': 'elu', 'dropout_prob': 0.10077639529843717, 'hidden_size': 108, 'learning_rate': 0.002735937344002146, 'num_layers': 4, 'use_batchnorm': True, 'weight_decay': 1.356433327634438e-12, 'ag_args': {'name_suffix': '_r79', 'priority': -2}}, {'activation': 'elu', 'dropout_prob': 0.11897478034205347, 'hidden_size': 213, 'learning_rate': 0.0010474382260641949, 'num_layers': 4, 'use_batchnorm': False, 'weight_decay': 5.594471067786272e-10, 'ag_args': {'name_suffix': '_r22', 'priority': -7}}],\n",
      "\t'GBM': [{'extra_trees': True, 'ag_args': {'name_suffix': 'XT'}}, {}, 'GBMLarge'],\n",
      "\t'CAT': [{}, {'depth': 6, 'grow_policy': 'SymmetricTree', 'l2_leaf_reg': 2.1542798306067823, 'learning_rate': 0.06864209415792857, 'max_ctr_complexity': 4, 'one_hot_max_size': 10, 'ag_args': {'name_suffix': '_r177', 'priority': -1}}, {'depth': 8, 'grow_policy': 'Depthwise', 'l2_leaf_reg': 2.7997999596449104, 'learning_rate': 0.031375015734637225, 'max_ctr_complexity': 2, 'one_hot_max_size': 3, 'ag_args': {'name_suffix': '_r9', 'priority': -5}}],\n",
      "\t'XGB': [{}, {'colsample_bytree': 0.6917311125174739, 'enable_categorical': False, 'learning_rate': 0.018063876087523967, 'max_depth': 10, 'min_child_weight': 0.6028633586934382, 'ag_args': {'name_suffix': '_r33', 'priority': -8}}, {'colsample_bytree': 0.6628423832084077, 'enable_categorical': False, 'learning_rate': 0.08775715546881824, 'max_depth': 5, 'min_child_weight': 0.6294123374222513, 'ag_args': {'name_suffix': '_r89', 'priority': -16}}],\n",
      "\t'FASTAI': [{}, {'bs': 256, 'emb_drop': 0.5411770367537934, 'epochs': 43, 'layers': [800, 400], 'lr': 0.01519848858318159, 'ps': 0.23782946566604385, 'ag_args': {'name_suffix': '_r191', 'priority': -4}}, {'bs': 2048, 'emb_drop': 0.05070411322605811, 'epochs': 29, 'layers': [200, 100], 'lr': 0.08974235041576624, 'ps': 0.10393466140748028, 'ag_args': {'name_suffix': '_r102', 'priority': -11}}],\n",
      "\t'RF': [{'criterion': 'gini', 'ag_args': {'name_suffix': 'Gini', 'problem_types': ['binary', 'multiclass']}}, {'criterion': 'entropy', 'ag_args': {'name_suffix': 'Entr', 'problem_types': ['binary', 'multiclass']}}, {'criterion': 'squared_error', 'ag_args': {'name_suffix': 'MSE', 'problem_types': ['regression', 'quantile']}}],\n",
      "\t'XT': [{'criterion': 'gini', 'ag_args': {'name_suffix': 'Gini', 'problem_types': ['binary', 'multiclass']}}, {'criterion': 'entropy', 'ag_args': {'name_suffix': 'Entr', 'problem_types': ['binary', 'multiclass']}}, {'criterion': 'squared_error', 'ag_args': {'name_suffix': 'MSE', 'problem_types': ['regression', 'quantile']}}],\n",
      "\t'KNN': [{'weights': 'uniform', 'ag_args': {'name_suffix': 'Unif'}}, {'weights': 'distance', 'ag_args': {'name_suffix': 'Dist'}}],\n",
      "}\n",
      "AutoGluon will fit 2 stack levels (L1 to L2) ...\n",
      "Fitting 110 L1 models ...\n",
      "Fitting model: KNeighborsUnif_BAG_L1 ... Training model for up to 197.06s of the 295.65s of remaining time.\n",
      "\t0.6618\t = Validation score   (accuracy)\n",
      "\t0.17s\t = Training   runtime\n",
      "\t0.45s\t = Validation runtime\n",
      "Fitting model: KNeighborsDist_BAG_L1 ... Training model for up to 189.45s of the 288.03s of remaining time.\n",
      "\t0.6618\t = Validation score   (accuracy)\n",
      "\t0.07s\t = Training   runtime\n",
      "\t0.01s\t = Validation runtime\n",
      "Fitting model: LightGBMXT_BAG_L1 ... Training model for up to 189.2s of the 287.78s of remaining time.\n",
      "Will use sequential fold fitting strategy because import of ray failed. Reason: ray==2.9.0 detected. 2.6.3 <= ray < 2.7.0 is required. You can use pip to install certain version of ray `pip install ray==2.6.3` \n",
      "\tFitting 8 child models (S1F1 - S1F8) | Fitting with SequentialLocalFoldFittingStrategy\n",
      "\t0.7475\t = Validation score   (accuracy)\n",
      "\t8.55s\t = Training   runtime\n",
      "\t0.32s\t = Validation runtime\n",
      "Fitting model: LightGBM_BAG_L1 ... Training model for up to 180.04s of the 278.62s of remaining time.\n",
      "\tFitting 8 child models (S1F1 - S1F8) | Fitting with SequentialLocalFoldFittingStrategy\n",
      "\t0.7475\t = Validation score   (accuracy)\n",
      "\t13.94s\t = Training   runtime\n",
      "\t0.41s\t = Validation runtime\n",
      "Fitting model: RandomForestGini_BAG_L1 ... Training model for up to 165.42s of the 264.0s of remaining time.\n",
      "\t0.7279\t = Validation score   (accuracy)\n",
      "\t1.26s\t = Training   runtime\n",
      "\t0.19s\t = Validation runtime\n",
      "Fitting model: RandomForestEntr_BAG_L1 ... Training model for up to 163.79s of the 262.37s of remaining time.\n",
      "\t0.701\t = Validation score   (accuracy)\n",
      "\t2.29s\t = Training   runtime\n",
      "\t0.17s\t = Validation runtime\n",
      "Fitting model: CatBoost_BAG_L1 ... Training model for up to 161.14s of the 259.73s of remaining time.\n",
      "\tFitting 8 child models (S1F1 - S1F8) | Fitting with SequentialLocalFoldFittingStrategy\n",
      "\tRan out of time, early stopping on iteration 107.\n",
      "\tRan out of time, early stopping on iteration 134.\n",
      "\tRan out of time, early stopping on iteration 129.\n",
      "\tRan out of time, early stopping on iteration 128.\n",
      "\tRan out of time, early stopping on iteration 130.\n",
      "\tRan out of time, early stopping on iteration 144.\n",
      "\tRan out of time, early stopping on iteration 143.\n",
      "\tRan out of time, early stopping on iteration 167.\n",
      "\t0.7525\t = Validation score   (accuracy)\n",
      "\t153.51s\t = Training   runtime\n",
      "\t1.03s\t = Validation runtime\n",
      "Fitting model: ExtraTreesGini_BAG_L1 ... Training model for up to 6.3s of the 104.88s of remaining time.\n",
      "\t0.7157\t = Validation score   (accuracy)\n",
      "\t0.91s\t = Training   runtime\n",
      "\t0.15s\t = Validation runtime\n",
      "Fitting model: ExtraTreesEntr_BAG_L1 ... Training model for up to 5.1s of the 103.68s of remaining time.\n",
      "\t0.7206\t = Validation score   (accuracy)\n",
      "\t1.1s\t = Training   runtime\n",
      "\t0.14s\t = Validation runtime\n",
      "Fitting model: NeuralNetFastAI_BAG_L1 ... Training model for up to 3.7s of the 102.29s of remaining time.\n",
      "\tFitting 8 child models (S1F1 - S1F8) | Fitting with SequentialLocalFoldFittingStrategy\n",
      "\tTime limit exceeded... Skipping NeuralNetFastAI_BAG_L1.\n",
      "Fitting model: XGBoost_BAG_L1 ... Training model for up to 2.32s of the 100.91s of remaining time.\n",
      "\tFitting 8 child models (S1F1 - S1F8) | Fitting with SequentialLocalFoldFittingStrategy\n",
      "\tTime limit exceeded... Skipping XGBoost_BAG_L1.\n",
      "Fitting model: NeuralNetTorch_BAG_L1 ... Training model for up to 1.42s of the 100.01s of remaining time.\n",
      "\tFitting 8 child models (S1F1 - S1F8) | Fitting with SequentialLocalFoldFittingStrategy\n",
      "\tTime limit exceeded... Skipping NeuralNetTorch_BAG_L1.\n",
      "Fitting model: LightGBMLarge_BAG_L1 ... Training model for up to 0.06s of the 98.65s of remaining time.\n",
      "\tFitting 8 child models (S1F1 - S1F8) | Fitting with SequentialLocalFoldFittingStrategy\n",
      "\tTime limit exceeded... Skipping LightGBMLarge_BAG_L1.\n",
      "Fitting model: WeightedEnsemble_L2 ... Training model for up to 295.67s of the 97.71s of remaining time.\n",
      "\tEnsemble Weights: {'CatBoost_BAG_L1': 1.0}\n",
      "\t0.7525\t = Validation score   (accuracy)\n",
      "\t0.37s\t = Training   runtime\n",
      "\t0.0s\t = Validation runtime\n",
      "Fitting 108 L2 models ...\n",
      "Fitting model: LightGBMXT_BAG_L2 ... Training model for up to 97.33s of the 97.27s of remaining time.\n",
      "\tFitting 8 child models (S1F1 - S1F8) | Fitting with SequentialLocalFoldFittingStrategy\n",
      "\t0.7598\t = Validation score   (accuracy)\n",
      "\t9.15s\t = Training   runtime\n",
      "\t0.44s\t = Validation runtime\n",
      "Fitting model: LightGBM_BAG_L2 ... Training model for up to 87.46s of the 87.4s of remaining time.\n",
      "\tFitting 8 child models (S1F1 - S1F8) | Fitting with SequentialLocalFoldFittingStrategy\n",
      "\t0.7549\t = Validation score   (accuracy)\n",
      "\t16.38s\t = Training   runtime\n",
      "\t0.44s\t = Validation runtime\n",
      "Fitting model: RandomForestGini_BAG_L2 ... Training model for up to 70.3s of the 70.23s of remaining time.\n",
      "\t0.723\t = Validation score   (accuracy)\n",
      "\t1.05s\t = Training   runtime\n",
      "\t0.15s\t = Validation runtime\n",
      "Fitting model: RandomForestEntr_BAG_L2 ... Training model for up to 68.91s of the 68.85s of remaining time.\n",
      "\t0.7157\t = Validation score   (accuracy)\n",
      "\t1.07s\t = Training   runtime\n",
      "\t0.15s\t = Validation runtime\n",
      "Fitting model: CatBoost_BAG_L2 ... Training model for up to 67.51s of the 67.45s of remaining time.\n",
      "\tFitting 8 child models (S1F1 - S1F8) | Fitting with SequentialLocalFoldFittingStrategy\n",
      "\tRan out of time, early stopping on iteration 40.\n",
      "\tRan out of time, early stopping on iteration 31.\n",
      "\tRan out of time, early stopping on iteration 46.\n",
      "\tRan out of time, early stopping on iteration 49.\n",
      "\tRan out of time, early stopping on iteration 51.\n",
      "\tRan out of time, early stopping on iteration 53.\n",
      "\tRan out of time, early stopping on iteration 61.\n",
      "\tRan out of time, early stopping on iteration 66.\n",
      "\t0.7402\t = Validation score   (accuracy)\n",
      "\t63.71s\t = Training   runtime\n",
      "\t0.97s\t = Validation runtime\n",
      "Fitting model: WeightedEnsemble_L3 ... Training model for up to 295.67s of the -0.27s of remaining time.\n",
      "\tEnsemble Weights: {'LightGBMXT_BAG_L2': 1.0}\n",
      "\t0.7598\t = Validation score   (accuracy)\n",
      "\t0.59s\t = Training   runtime\n",
      "\t0.0s\t = Validation runtime\n",
      "AutoGluon training complete, total runtime = 300.9s ... Best model: \"WeightedEnsemble_L3\"\n",
      "TabularPredictor saved. To load, use: predictor = TabularPredictor.load(\"AutogluonModels/ag-20240113_105649/ds_sub_fit/sub_fit_ho\")\n",
      "Leaderboard on holdout data from dynamic stacking:\n",
      "                      model  holdout_score  score_val eval_metric  pred_time_test  pred_time_val    fit_time  pred_time_test_marginal  pred_time_val_marginal  fit_time_marginal  stack_level  can_infer  fit_order\n",
      "0   RandomForestEntr_BAG_L1       0.750000   0.700980    accuracy        0.097108       0.169609    2.292449                 0.097108                0.169609           2.292449            1       True          6\n",
      "1           LightGBM_BAG_L1       0.750000   0.747549    accuracy        0.498117       0.412815   13.936104                 0.498117                0.412815          13.936104            1       True          4\n",
      "2   RandomForestEntr_BAG_L2       0.750000   0.715686    accuracy        1.609718       3.014312  182.885476                 0.091967                0.154670           1.073178            2       True         14\n",
      "3   RandomForestGini_BAG_L1       0.730769   0.727941    accuracy        0.093813       0.187718    1.264669                 0.093813                0.187718           1.264669            1       True          5\n",
      "4         LightGBMXT_BAG_L2       0.730769   0.759804    accuracy        1.844373       3.295579  190.960988                 0.326622                0.435937           9.148689            2       True         11\n",
      "5       WeightedEnsemble_L3       0.730769   0.759804    accuracy        1.845772       3.296699  191.552741                 0.001399                0.001120           0.591754            3       True         16\n",
      "6           LightGBM_BAG_L2       0.730769   0.754902    accuracy        1.882095       3.298989  198.187945                 0.364344                0.439347          16.375646            2       True         12\n",
      "7     KNeighborsDist_BAG_L1       0.711538   0.661765    accuracy        0.008291       0.010858    0.069672                 0.008291                0.010858           0.069672            1       True          2\n",
      "8     ExtraTreesGini_BAG_L1       0.711538   0.715686    accuracy        0.106405       0.145717    0.912527                 0.106405                0.145717           0.912527            1       True          8\n",
      "9         LightGBMXT_BAG_L1       0.711538   0.747549    accuracy        0.348150       0.317338    8.552067                 0.348150                0.317338           8.552067            1       True          3\n",
      "10  RandomForestGini_BAG_L2       0.711538   0.723039    accuracy        1.606460       3.013224  182.860768                 0.088708                0.153582           1.048469            2       True         13\n",
      "11    KNeighborsUnif_BAG_L1       0.692308   0.661765    accuracy        0.009259       0.449537    0.174943                 0.009259                0.449537           0.174943            1       True          1\n",
      "12    ExtraTreesEntr_BAG_L1       0.692308   0.720588    accuracy        0.094127       0.141004    1.099997                 0.094127                0.141004           1.099997            1       True          9\n",
      "13          CatBoost_BAG_L1       0.673077   0.752451    accuracy        0.262482       1.025046  153.509871                 0.262482                1.025046         153.509871            1       True          7\n",
      "14      WeightedEnsemble_L2       0.673077   0.752451    accuracy        0.264724       1.026289  153.881513                 0.002243                0.001243           0.371642            2       True         10\n",
      "15          CatBoost_BAG_L2       0.673077   0.740196    accuracy        1.922402       3.830906  245.521022                 0.404650                0.971264          63.708723            2       True         15\n",
      "Stacked overfitting occurred: False.\n",
      "Spend 303 seconds for the sub-fit(s) during dynamic stacking.\n",
      "Time left for full fit of AutoGluon: 897 seconds.\n",
      "Starting full fit now with num_stack_levels 1.\n",
      "Beginning AutoGluon training ... Time limit = 897s\n",
      "AutoGluon will save models to \"AutogluonModels/ag-20240113_105649\"\n",
      "=================== System Info ===================\n",
      "AutoGluon Version:  1.0.0\n",
      "Python Version:     3.8.18\n",
      "Operating System:   Linux\n",
      "Platform Machine:   x86_64\n",
      "Platform Version:   #1 SMP Thu Oct 5 21:02:42 UTC 2023\n",
      "CPU Count:          8\n",
      "Memory Avail:       3.72 GB / 7.61 GB (48.9%)\n",
      "Disk Space Avail:   819.78 GB / 1006.85 GB (81.4%)\n",
      "===================================================\n",
      "Train Data Rows:    460\n",
      "Train Data Columns: 1427\n",
      "Label Column:       Outcome\n",
      "Problem Type:       binary\n",
      "Preprocessing data ...\n",
      "Selected class <--> label mapping:  class 1 = 1, class 0 = 0\n",
      "Using Feature Generators to preprocess the data ...\n",
      "Fitting AutoMLPipelineFeatureGenerator...\n",
      "\tAvailable Memory:                    3822.25 MB\n",
      "\tTrain Data (Original)  Memory Usage: 11.47 MB (0.3% of available memory)\n",
      "\tInferring data type of each feature based on column values. Set feature_metadata_in to manually specify special dtypes of the features.\n",
      "\tStage 1 Generators:\n",
      "\t\tFitting AsTypeFeatureGenerator...\n",
      "\t\t\tNote: Converting 53 features to boolean dtype as they only contain 2 unique values.\n",
      "\tStage 2 Generators:\n",
      "\t\tFitting FillNaFeatureGenerator...\n",
      "\tStage 3 Generators:\n",
      "\t\tFitting IdentityFeatureGenerator...\n",
      "\t\tFitting CategoryFeatureGenerator...\n",
      "\t\t\tFitting CategoryMemoryMinimizeFeatureGenerator...\n",
      "\tStage 4 Generators:\n",
      "\t\tFitting DropUniqueFeatureGenerator...\n",
      "\tStage 5 Generators:\n",
      "\t\tFitting DropDuplicatesFeatureGenerator...\n",
      "\tUseless Original Features (Count: 217): ['nB', 'nBondsQ', 'nHsNH3p', 'nHsssNHp', 'nHmisc', 'nsLi', 'nssBe', 'nssssBem', 'nsBH2', 'nssBH', 'nsssB', 'nssssBm', 'nsNH3p', 'nsssNHp', 'nddsN', 'naOm', 'nsSiH3', 'nssSiH2', 'nsssSiH', 'nssssSi', 'nsPH2', 'nssPH', 'nsssP', 'nddsP', 'nsssssP', 'nssssssS', 'nSm', 'nsGeH3', 'nssGeH2', 'nsssGeH', 'nssssGe', 'nsAsH2', 'nssAsH', 'nsssAs', 'ndsssAs', 'nddsAs', 'nsssssAs', 'nsSeH', 'ndSe', 'nssSe', 'naaSe', 'ndssSe', 'nssssssSe', 'nddssSe', 'nsSnH3', 'nssSnH2', 'nsssSnH', 'nssssSn', 'nsPbH3', 'nssPbH2', 'nsssPbH', 'nssssPb', 'SHsssNHp', 'SHmisc', 'SsLi', 'SssBe', 'SssssBem', 'SsBH2', 'SssBH', 'SsssB', 'SssssBm', 'SsssNHp', 'SddsN', 'SaOm', 'SsSiH3', 'SssSiH2', 'SsssSiH', 'SssssSi', 'SsPH2', 'SssPH', 'SsssP', 'SddsP', 'SsssssP', 'SssssssS', 'SSm', 'SsGeH3', 'SssGeH2', 'SsssGeH', 'SssssGe', 'SsAsH2', 'SssAsH', 'SsssAs', 'SdsssAs', 'SddsAs', 'SsssssAs', 'SsSeH', 'SdSe', 'SssSe', 'SaaSe', 'SdssSe', 'SssssssSe', 'SddssSe', 'SsSnH3', 'SssSnH2', 'SsssSnH', 'SssssSn', 'SsPbH3', 'SssPbH2', 'SsssPbH', 'SssssPb', 'minHsssNHp', 'minHmisc', 'minsLi', 'minssBe', 'minssssBem', 'minsBH2', 'minssBH', 'minsssB', 'minssssBm', 'minsssNHp', 'minddsN', 'minaOm', 'minsSiH3', 'minssSiH2', 'minsssSiH', 'minssssSi', 'minsPH2', 'minssPH', 'minsssP', 'minddsP', 'minsssssP', 'minssssssS', 'minSm', 'minsGeH3', 'minssGeH2', 'minsssGeH', 'minssssGe', 'minsAsH2', 'minssAsH', 'minsssAs', 'mindsssAs', 'minddsAs', 'minsssssAs', 'minsSeH', 'mindSe', 'minssSe', 'minaaSe', 'mindssSe', 'minssssssSe', 'minddssSe', 'minsSnH3', 'minssSnH2', 'minsssSnH', 'minssssSn', 'minsPbH3', 'minssPbH2', 'minsssPbH', 'minssssPb', 'maxHsssNHp', 'maxHmisc', 'maxsLi', 'maxssBe', 'maxssssBem', 'maxsBH2', 'maxssBH', 'maxsssB', 'maxssssBm', 'maxsssNHp', 'maxddsN', 'maxaOm', 'maxsSiH3', 'maxssSiH2', 'maxsssSiH', 'maxssssSi', 'maxsPH2', 'maxssPH', 'maxsssP', 'maxdsssP', 'maxddsP', 'maxsssssP', 'maxssS', 'maxaaS', 'maxdssS', 'maxddssS', 'maxssssssS', 'maxSm', 'maxsGeH3', 'maxssGeH2', 'maxsssGeH', 'maxssssGe', 'maxsAsH2', 'maxssAsH', 'maxsssAs', 'maxdsssAs', 'maxddsAs', 'maxsssssAs', 'maxsSeH', 'maxdSe', 'maxssSe', 'maxaaSe', 'maxdssSe', 'maxssssssSe', 'maxddssSe', 'maxsSnH3', 'maxssSnH2', 'maxsssSnH', 'maxssssSn', 'maxsI', 'maxsPbH3', 'maxssPbH2', 'maxsssPbH', 'maxssssPb', 'n10Ring', 'nF4Ring', 'nF5Ring', 'n8HeteroRing', 'n10HeteroRing', 'nFHeteroRing', 'nF4HeteroRing', 'nF5HeteroRing', 'nTHeteroRing', 'SHsNH3p', 'SsNH3p', 'minHsNH3p', 'minsNH3p', 'maxHsNH3p', 'maxsNH3p']\n",
      "\t\tThese features carry no predictive signal and should be manually investigated.\n",
      "\t\tThis is typically a feature which has the same value for all rows.\n",
      "\t\tThese features do not need to be present at inference time.\n",
      "\tUnused Original Features (Count: 159): ['ID', 'CommonName', 'nHCHnX', 'ndCH2', 'ntCH', 'naaCH', 'nsNH2', 'nssNH2p', 'ndNH', 'nssNH', 'naaNH', 'nsOH', 'nsF', 'ndsssP', 'nsSH', 'nsCl', 'nsBr', 'nsI', 'nT4Ring', 'nT5Ring', 'nT10Ring', 'n4HeteroRing', 'n9HeteroRing', 'n11HeteroRing', 'n12HeteroRing', 'nG12HeteroRing', 'nT4HeteroRing', 'nT5HeteroRing', 'nT8HeteroRing', 'nT10HeteroRing', 'SpMax_DzZ', 'SpDiam_DzZ', 'SpAD_DzZ', 'SpMAD_DzZ', 'VR1_DzZ', 'VR2_DzZ', 'VR3_DzZ', 'SpAbs_Dzm', 'SpMax_Dzm', 'SpDiam_Dzm', 'SpAD_Dzm', 'SpMAD_Dzm', 'EE_Dzm', 'VR1_Dzm', 'VR2_Dzm', 'VR3_Dzm', 'SpAbs_Dzv', 'SpMax_Dzv', 'SpDiam_Dzv', 'SpAD_Dzv', 'SpMAD_Dzv', 'EE_Dzv', 'VE3_Dzv', 'VR2_Dzv', 'VR3_Dzv', 'SpAbs_Dze', 'SpMax_Dze', 'SpDiam_Dze', 'SpAD_Dze', 'SpMAD_Dze', 'EE_Dze', 'SM1_Dze', 'VR1_Dze', 'VR2_Dze', 'VR3_Dze', 'SpAbs_Dzp', 'SpMax_Dzp', 'SpDiam_Dzp', 'SpAD_Dzp', 'SpMAD_Dzp', 'SM1_Dzp', 'VR1_Dzp', 'VR2_Dzp', 'VR3_Dzp', 'SpAbs_Dzi', 'SpMax_Dzi', 'SpDiam_Dzi', 'SpAD_Dzi', 'SpMAD_Dzi', 'EE_Dzi', 'SM1_Dzi', 'VR1_Dzi', 'VR2_Dzi', 'VR3_Dzi', 'SpMax_Dzs', 'SpDiam_Dzs', 'SpAD_Dzs', 'SpMAD_Dzs', 'VR1_Dzs', 'VR2_Dzs', 'VR3_Dzs', 'SpMax1_Bhv', 'SpMin1_Bhv', 'SpMax1_Bhe', 'SpMax2_Bhe', 'SpMin1_Bhe', 'SpMax1_Bhp', 'SpMin1_Bhp', 'SpMax1_Bhi', 'SpMin1_Bhi', 'SpMax1_Bhs', 'SpMax2_Bhs', 'SpMin1_Bhs', 'VPC4', 'ASP2', 'ASP3', 'VP2', 'AVP1', 'AVP2', 'AVP3', 'AVP4', 'AVP5', 'AVP6', 'AVP7', 'SHdNH', 'SHssNH2p', 'SHCHnX', 'SddC', 'SssNH2p', 'SdNH', 'minHdNH', 'minHsSH', 'minHaaNH', 'minHssNH2p', 'minHtCH', 'minHdCH2', 'minHCHnX', 'mindCH2', 'mintCH', 'minddC', 'minssNH2p', 'mindNH', 'minaaNH', 'minaaO', 'minsSH', 'minaaS', 'mindssS', 'maxwHBd', 'maxHdNH', 'maxHsSH', 'maxHaaNH', 'maxHssNH2p', 'maxHtCH', 'maxHdCH2', 'maxHCHnX', 'maxHAvin', 'maxdCH2', 'maxtCH', 'maxddC', 'maxssNH2p', 'maxdNH', 'maxaaNH', 'maxtN', 'maxaasN', 'maxssssNp', 'maxaaO', 'maxsSH', 'maxdS', 'SRW3']\n",
      "\t\tThese features were not used to generate any of the output features. Add a feature generator compatible with these features to utilize them.\n",
      "\t\tFeatures can also be unused if they carry very little information, such as being categorical but having almost entirely unique values or being duplicates of other features.\n",
      "\t\tThese features do not need to be present at inference time.\n",
      "\t\t('float', [])  : 45 | ['SHdNH', 'SHssNH2p', 'SHCHnX', 'SddC', 'SssNH2p', ...]\n",
      "\t\t('int', [])    : 28 | ['nHCHnX', 'ndCH2', 'ntCH', 'naaCH', 'nsNH2', ...]\n",
      "\t\t('object', []) : 86 | ['ID', 'CommonName', 'SpMax_DzZ', 'SpDiam_DzZ', 'SpAD_DzZ', ...]\n",
      "\tTypes of features in original data (raw dtype, special dtypes):\n",
      "\t\t('float', [])  : 731 | ['ALogP', 'ALogp2', 'AMR', 'apol', 'ATS0m', ...]\n",
      "\t\t('int', [])    : 158 | ['nAcid', 'naAromAtom', 'nAromBond', 'nN', 'nO', ...]\n",
      "\t\t('object', []) : 162 | ['SpAbs_DzZ', 'EE_DzZ', 'SM1_DzZ', 'VE1_DzZ', 'VE2_DzZ', ...]\n",
      "\tTypes of features in processed data (raw dtype, special dtypes):\n",
      "\t\t('category', [])  : 162 | ['SpAbs_DzZ', 'EE_DzZ', 'SM1_DzZ', 'VE1_DzZ', 'VE2_DzZ', ...]\n",
      "\t\t('float', [])     : 731 | ['ALogP', 'ALogp2', 'AMR', 'apol', 'ATS0m', ...]\n",
      "\t\t('int', [])       : 134 | ['nAcid', 'naAromAtom', 'nAromBond', 'nN', 'nO', ...]\n",
      "\t\t('int', ['bool']) :  24 | ['nHdNH', 'nHsSH', 'nHaaNH', 'nHssNH2p', 'nHtCH', ...]\n",
      "\t4.3s = Fit runtime\n",
      "\t1051 features in original data used to generate 1051 features in processed data.\n",
      "\tTrain Data (Processed) Memory Usage: 3.20 MB (0.1% of available memory)\n",
      "Data preprocessing and feature engineering runtime = 4.45s ...\n",
      "AutoGluon will gauge predictive performance using evaluation metric: 'accuracy'\n",
      "\tTo change this, specify the eval_metric parameter of Predictor()\n",
      "Large model count detected (112 configs) ... Only displaying the first 3 models of each family. To see all, set `verbosity=3`.\n",
      "User-specified model hyperparameters to be fit:\n",
      "{\n",
      "\t'NN_TORCH': [{}, {'activation': 'elu', 'dropout_prob': 0.10077639529843717, 'hidden_size': 108, 'learning_rate': 0.002735937344002146, 'num_layers': 4, 'use_batchnorm': True, 'weight_decay': 1.356433327634438e-12, 'ag_args': {'name_suffix': '_r79', 'priority': -2}}, {'activation': 'elu', 'dropout_prob': 0.11897478034205347, 'hidden_size': 213, 'learning_rate': 0.0010474382260641949, 'num_layers': 4, 'use_batchnorm': False, 'weight_decay': 5.594471067786272e-10, 'ag_args': {'name_suffix': '_r22', 'priority': -7}}],\n",
      "\t'GBM': [{'extra_trees': True, 'ag_args': {'name_suffix': 'XT'}}, {}, 'GBMLarge'],\n",
      "\t'CAT': [{}, {'depth': 6, 'grow_policy': 'SymmetricTree', 'l2_leaf_reg': 2.1542798306067823, 'learning_rate': 0.06864209415792857, 'max_ctr_complexity': 4, 'one_hot_max_size': 10, 'ag_args': {'name_suffix': '_r177', 'priority': -1}}, {'depth': 8, 'grow_policy': 'Depthwise', 'l2_leaf_reg': 2.7997999596449104, 'learning_rate': 0.031375015734637225, 'max_ctr_complexity': 2, 'one_hot_max_size': 3, 'ag_args': {'name_suffix': '_r9', 'priority': -5}}],\n",
      "\t'XGB': [{}, {'colsample_bytree': 0.6917311125174739, 'enable_categorical': False, 'learning_rate': 0.018063876087523967, 'max_depth': 10, 'min_child_weight': 0.6028633586934382, 'ag_args': {'name_suffix': '_r33', 'priority': -8}}, {'colsample_bytree': 0.6628423832084077, 'enable_categorical': False, 'learning_rate': 0.08775715546881824, 'max_depth': 5, 'min_child_weight': 0.6294123374222513, 'ag_args': {'name_suffix': '_r89', 'priority': -16}}],\n",
      "\t'FASTAI': [{}, {'bs': 256, 'emb_drop': 0.5411770367537934, 'epochs': 43, 'layers': [800, 400], 'lr': 0.01519848858318159, 'ps': 0.23782946566604385, 'ag_args': {'name_suffix': '_r191', 'priority': -4}}, {'bs': 2048, 'emb_drop': 0.05070411322605811, 'epochs': 29, 'layers': [200, 100], 'lr': 0.08974235041576624, 'ps': 0.10393466140748028, 'ag_args': {'name_suffix': '_r102', 'priority': -11}}],\n",
      "\t'RF': [{'criterion': 'gini', 'ag_args': {'name_suffix': 'Gini', 'problem_types': ['binary', 'multiclass']}}, {'criterion': 'entropy', 'ag_args': {'name_suffix': 'Entr', 'problem_types': ['binary', 'multiclass']}}, {'criterion': 'squared_error', 'ag_args': {'name_suffix': 'MSE', 'problem_types': ['regression', 'quantile']}}],\n",
      "\t'XT': [{'criterion': 'gini', 'ag_args': {'name_suffix': 'Gini', 'problem_types': ['binary', 'multiclass']}}, {'criterion': 'entropy', 'ag_args': {'name_suffix': 'Entr', 'problem_types': ['binary', 'multiclass']}}, {'criterion': 'squared_error', 'ag_args': {'name_suffix': 'MSE', 'problem_types': ['regression', 'quantile']}}],\n",
      "\t'KNN': [{'weights': 'uniform', 'ag_args': {'name_suffix': 'Unif'}}, {'weights': 'distance', 'ag_args': {'name_suffix': 'Dist'}}],\n",
      "}\n",
      "AutoGluon will fit 2 stack levels (L1 to L2) ...\n",
      "Fitting 110 L1 models ...\n",
      "Fitting model: KNeighborsUnif_BAG_L1 ... Training model for up to 594.88s of the 892.53s of remaining time.\n",
      "\t0.6478\t = Validation score   (accuracy)\n",
      "\t0.08s\t = Training   runtime\n",
      "\t0.01s\t = Validation runtime\n",
      "Fitting model: KNeighborsDist_BAG_L1 ... Training model for up to 594.65s of the 892.3s of remaining time.\n",
      "\t0.6413\t = Validation score   (accuracy)\n",
      "\t0.08s\t = Training   runtime\n",
      "\t0.01s\t = Validation runtime\n",
      "Fitting model: LightGBMXT_BAG_L1 ... Training model for up to 594.45s of the 892.1s of remaining time.\n",
      "\tFitting 8 child models (S1F1 - S1F8) | Fitting with SequentialLocalFoldFittingStrategy\n",
      "\t0.7652\t = Validation score   (accuracy)\n",
      "\t12.99s\t = Training   runtime\n",
      "\t0.54s\t = Validation runtime\n",
      "Fitting model: LightGBM_BAG_L1 ... Training model for up to 580.62s of the 878.26s of remaining time.\n",
      "\tFitting 8 child models (S1F1 - S1F8) | Fitting with SequentialLocalFoldFittingStrategy\n",
      "\t0.7478\t = Validation score   (accuracy)\n",
      "\t22.63s\t = Training   runtime\n",
      "\t0.51s\t = Validation runtime\n",
      "Fitting model: RandomForestGini_BAG_L1 ... Training model for up to 557.12s of the 854.77s of remaining time.\n",
      "\t0.7239\t = Validation score   (accuracy)\n",
      "\t1.1s\t = Training   runtime\n",
      "\t0.19s\t = Validation runtime\n",
      "Fitting model: RandomForestEntr_BAG_L1 ... Training model for up to 555.66s of the 853.31s of remaining time.\n",
      "\t0.7239\t = Validation score   (accuracy)\n",
      "\t1.19s\t = Training   runtime\n",
      "\t0.17s\t = Validation runtime\n",
      "Fitting model: CatBoost_BAG_L1 ... Training model for up to 554.15s of the 851.8s of remaining time.\n",
      "\tFitting 8 child models (S1F1 - S1F8) | Fitting with SequentialLocalFoldFittingStrategy\n",
      "\tRan out of time, early stopping on iteration 309.\n",
      "\tRan out of time, early stopping on iteration 291.\n",
      "\tRan out of time, early stopping on iteration 294.\n",
      "\tRan out of time, early stopping on iteration 314.\n",
      "\tRan out of time, early stopping on iteration 341.\n",
      "\tRan out of time, early stopping on iteration 336.\n",
      "\t0.7565\t = Validation score   (accuracy)\n",
      "\t485.75s\t = Training   runtime\n",
      "\t0.89s\t = Validation runtime\n",
      "Fitting model: ExtraTreesGini_BAG_L1 ... Training model for up to 67.23s of the 364.88s of remaining time.\n",
      "\t0.7174\t = Validation score   (accuracy)\n",
      "\t1.11s\t = Training   runtime\n",
      "\t0.18s\t = Validation runtime\n",
      "Fitting model: ExtraTreesEntr_BAG_L1 ... Training model for up to 65.77s of the 363.41s of remaining time.\n",
      "\t0.7217\t = Validation score   (accuracy)\n",
      "\t0.99s\t = Training   runtime\n",
      "\t0.16s\t = Validation runtime\n",
      "Fitting model: NeuralNetFastAI_BAG_L1 ... Training model for up to 64.43s of the 362.08s of remaining time.\n",
      "\tFitting 8 child models (S1F1 - S1F8) | Fitting with SequentialLocalFoldFittingStrategy\n",
      "No improvement since epoch 4: early stopping\n",
      "No improvement since epoch 4: early stopping\n",
      "No improvement since epoch 1: early stopping\n",
      "No improvement since epoch 8: early stopping\n",
      "\t0.7326\t = Validation score   (accuracy)\n",
      "\t18.64s\t = Training   runtime\n",
      "\t0.52s\t = Validation runtime\n",
      "Fitting model: XGBoost_BAG_L1 ... Training model for up to 44.62s of the 342.27s of remaining time.\n",
      "\tFitting 8 child models (S1F1 - S1F8) | Fitting with SequentialLocalFoldFittingStrategy\n",
      "\t0.7587\t = Validation score   (accuracy)\n",
      "\t42.57s\t = Training   runtime\n",
      "\t0.43s\t = Validation runtime\n",
      "Fitting model: NeuralNetTorch_BAG_L1 ... Training model for up to 1.3s of the 298.94s of remaining time.\n",
      "\tFitting 8 child models (S1F1 - S1F8) | Fitting with SequentialLocalFoldFittingStrategy\n",
      "\tTime limit exceeded... Skipping NeuralNetTorch_BAG_L1.\n",
      "Fitting model: WeightedEnsemble_L2 ... Training model for up to 360.0s of the 296.74s of remaining time.\n",
      "\tEnsemble Weights: {'LightGBMXT_BAG_L1': 1.0}\n",
      "\t0.7652\t = Validation score   (accuracy)\n",
      "\t0.51s\t = Training   runtime\n",
      "\t0.0s\t = Validation runtime\n",
      "Fitting 108 L2 models ...\n",
      "Fitting model: LightGBMXT_BAG_L2 ... Training model for up to 296.22s of the 296.16s of remaining time.\n",
      "\tFitting 8 child models (S1F1 - S1F8) | Fitting with SequentialLocalFoldFittingStrategy\n",
      "\t0.75\t = Validation score   (accuracy)\n",
      "\t10.95s\t = Training   runtime\n",
      "\t0.42s\t = Validation runtime\n",
      "Fitting model: LightGBM_BAG_L2 ... Training model for up to 284.54s of the 284.48s of remaining time.\n",
      "\tFitting 8 child models (S1F1 - S1F8) | Fitting with SequentialLocalFoldFittingStrategy\n",
      "\t0.7717\t = Validation score   (accuracy)\n",
      "\t21.25s\t = Training   runtime\n",
      "\t0.42s\t = Validation runtime\n",
      "Fitting model: RandomForestGini_BAG_L2 ... Training model for up to 262.47s of the 262.41s of remaining time.\n",
      "\t0.7239\t = Validation score   (accuracy)\n",
      "\t1.12s\t = Training   runtime\n",
      "\t0.17s\t = Validation runtime\n",
      "Fitting model: RandomForestEntr_BAG_L2 ... Training model for up to 261.0s of the 260.94s of remaining time.\n",
      "\t0.7326\t = Validation score   (accuracy)\n",
      "\t1.18s\t = Training   runtime\n",
      "\t0.2s\t = Validation runtime\n",
      "Fitting model: CatBoost_BAG_L2 ... Training model for up to 259.41s of the 259.34s of remaining time.\n",
      "\tFitting 8 child models (S1F1 - S1F8) | Fitting with SequentialLocalFoldFittingStrategy\n",
      "\tRan out of time, early stopping on iteration 132.\n",
      "\tRan out of time, early stopping on iteration 133.\n",
      "\tRan out of time, early stopping on iteration 135.\n",
      "\tRan out of time, early stopping on iteration 142.\n",
      "\tRan out of time, early stopping on iteration 141.\n",
      "\tRan out of time, early stopping on iteration 155.\n",
      "\tRan out of time, early stopping on iteration 183.\n",
      "\tRan out of time, early stopping on iteration 208.\n",
      "\t0.7804\t = Validation score   (accuracy)\n",
      "\t247.76s\t = Training   runtime\n",
      "\t1.13s\t = Validation runtime\n",
      "Fitting model: ExtraTreesGini_BAG_L2 ... Training model for up to 10.2s of the 10.13s of remaining time.\n",
      "\t0.7283\t = Validation score   (accuracy)\n",
      "\t1.05s\t = Training   runtime\n",
      "\t0.18s\t = Validation runtime\n",
      "Fitting model: WeightedEnsemble_L3 ... Training model for up to 360.0s of the 5.59s of remaining time.\n",
      "\tEnsemble Weights: {'CatBoost_BAG_L2': 1.0}\n",
      "\t0.7804\t = Validation score   (accuracy)\n",
      "\t0.85s\t = Training   runtime\n",
      "\t0.0s\t = Validation runtime\n",
      "AutoGluon training complete, total runtime = 892.3s ... Best model: \"WeightedEnsemble_L3\"\n",
      "TabularPredictor saved. To load, use: predictor = TabularPredictor.load(\"AutogluonModels/ag-20240113_105649\")\n"
     ]
    }
   ],
   "source": [
    "fit_args = {}\n",
    "fit_args['time_limit'] = 1200\n",
    "predictor = TabularPredictor(label=label).fit(x_train,presets=\"best_quality\", **fit_args)\n",
    "performance = predictor.evaluate(x_test)"
   ]
  },
  {
   "cell_type": "code",
   "execution_count": 67,
   "metadata": {
    "colab": {
     "base_uri": "https://localhost:8080/"
    },
    "executionInfo": {
     "elapsed": 491,
     "status": "ok",
     "timestamp": 1705008476074,
     "user": {
      "displayName": "leila yesufu",
      "userId": "04090599876914949365"
     },
     "user_tz": -60
    },
    "id": "mU6w6jO_TbWx",
    "outputId": "f44963bb-d1b0-441b-9ccd-289c5b25a6ee"
   },
   "outputs": [
    {
     "name": "stdout",
     "output_type": "stream",
     "text": [
      "{'accuracy': 0.6637931034482759, 'balanced_accuracy': 0.6029411764705883, 'mcc': 0.3021954225063791, 'roc_auc': 0.7873774509803921, 'f1': 0.7692307692307693, 'precision': 0.6435643564356436, 'recall': 0.9558823529411765}\n"
     ]
    }
   ],
   "source": [
    "print(performance)"
   ]
  },
  {
   "cell_type": "markdown",
   "metadata": {
    "id": "NyiZrd0FTe7l"
   },
   "source": [
    "# Autogluon with Morgan fingerprints"
   ]
  },
  {
   "cell_type": "code",
   "execution_count": 12,
   "metadata": {
    "executionInfo": {
     "elapsed": 943,
     "status": "ok",
     "timestamp": 1705008493685,
     "user": {
      "displayName": "leila yesufu",
      "userId": "04090599876914949365"
     },
     "user_tz": -60
    },
    "id": "FYfrOwV1Tkvj"
   },
   "outputs": [],
   "source": [
    "from rdkit import Chem\n",
    "from rdkit.Chem import AllChem\n",
    "from sklearn.model_selection import train_test_split"
   ]
  },
  {
   "cell_type": "code",
   "execution_count": 105,
   "metadata": {
    "executionInfo": {
     "elapsed": 1436,
     "status": "ok",
     "timestamp": 1705008545329,
     "user": {
      "displayName": "leila yesufu",
      "userId": "04090599876914949365"
     },
     "user_tz": -60
    },
    "id": "fbzs0_d_ToHO"
   },
   "outputs": [],
   "source": [
    "from rdkit import Chem\n",
    "from rdkit.Chem import AllChem\n",
    "\n",
    "smilescsv = pd.read_csv('../data/dilismiles.csv', names = ['col_smiles'])"
   ]
  },
  {
   "cell_type": "code",
   "execution_count": 109,
   "metadata": {},
   "outputs": [
    {
     "name": "stderr",
     "output_type": "stream",
     "text": [
      "/tmp/ipykernel_1113355/3359931318.py:1: DtypeWarning: Columns (719,720,721,722,723,724,725,726,727,728,729,730,731,732,733,734,735,736,737,738,739,740,741,742,743,744,745,746,747,748,749,750,751,752,753,754,755,756,757,758,759,760,761,762,763,764,765,766,767,768,769,770,771,772,773,774,775,776,777,778,779,780,781,782,783,784,785,786,787,788,789,790,791,792,793,794,795,796,797,798,799,800,801,802,803,804,805,806,807,808,809,817,818,819,820,821,822,823,824,825,826,827,828,829,830,831,832,833,834,835,836,837,838,839,840,841,842,843,844,845,846,847,848,849,850,851,852,853,854,855,856,857,858,859,860,861,862,863,864,865,866,867,868,869,870,871,872,873,874,875,876,877,878,879,880,881,882,883,884,885,886,887,888,889,890,891,892,893,894,895,896,897,898,899,900,901,902,903,904,905,906,907,908,909,910,911,912,1258,1303) have mixed types. Specify dtype option on import or set low_memory=False.\n",
      "  data = pd.read_csv('../data/updated_dili_padel.csv')\n"
     ]
    }
   ],
   "source": [
    "data = pd.read_csv('../data/updated_dili_padel.csv')\n",
    "dataframe = pd.DataFrame(data)\n",
    "desc = pd.DataFrame(dataframe.iloc[:, 3:])"
   ]
  },
  {
   "cell_type": "code",
   "execution_count": 112,
   "metadata": {},
   "outputs": [],
   "source": [
    "import pandas as pd\n",
    "from rdkit.Chem import AllChem, MolFromSmiles\n",
    "\n",
    "# Assuming 'col_smiles' is the column containing SMILES strings\n",
    "data['mol'] = data['smiles'].apply(lambda x: MolFromSmiles(x))\n",
    "# Generate Morgan fingerprints\n",
    "data['morgan_fp'] = data['mol'].apply(lambda x: AllChem.GetMorganFingerprintAsBitVect(x, 2, nBits=1024))\n",
    "# Convert Morgan fingerprints to a binary vector representation\n",
    "data['morgan_vec'] = [list(fp.ToBitString()) for fp in data['morgan_fp']]"
   ]
  },
  {
   "cell_type": "code",
   "execution_count": 114,
   "metadata": {},
   "outputs": [],
   "source": [
    "from sklearn.model_selection import train_test_split\n",
    "\n",
    "# Assuming 'morgan_vec' is the column containing binary vector representations\n",
    "X = data['morgan_vec'].tolist()\n",
    "y = data['Outcome']  # Replace 'your_target_column' with the actual column name for your target variable\n",
    "\n",
    "# Split the data into training and testing sets\n",
    "X_train, X_test, y_train, y_test = train_test_split(X, y, test_size=0.2, random_state=42)"
   ]
  },
  {
   "cell_type": "code",
   "execution_count": 119,
   "metadata": {},
   "outputs": [
    {
     "data": {
      "text/plain": [
       "(576,)"
      ]
     },
     "execution_count": 119,
     "metadata": {},
     "output_type": "execute_result"
    }
   ],
   "source": [
    "y.shape"
   ]
  },
  {
   "cell_type": "code",
   "execution_count": 122,
   "metadata": {},
   "outputs": [
    {
     "name": "stderr",
     "output_type": "stream",
     "text": [
      "No path specified. Models will be saved in: \"AutogluonModels/ag-20240113_125435\"\n",
      "Presets specified: ['best_quality']\n",
      "Stack configuration (auto_stack=True): num_stack_levels=1, num_bag_folds=5, num_bag_sets=1\n",
      "Dynamic stacking is enabled (dynamic_stacking=True). AutoGluon will try to determine whether the input data is affected by stacked overfitting and enable or disable stacking as a consequence.\n",
      "Detecting stacked overfitting by sub-fitting AutoGluon on the input data. That is, copies of AutoGluon will be sub-fit on subset(s) of the data. Then, the holdout validation data is used to detect stacked overfitting.\n",
      "Sub-fit(s) time limit is: 1200 seconds.\n",
      "Starting holdout-based sub-fit for dynamic stacking. Context path is: AutogluonModels/ag-20240113_125435/ds_sub_fit/sub_fit_ho.\n",
      "Beginning AutoGluon training ... Time limit = 300s\n",
      "AutoGluon will save models to \"AutogluonModels/ag-20240113_125435/ds_sub_fit/sub_fit_ho\"\n",
      "=================== System Info ===================\n",
      "AutoGluon Version:  1.0.0\n",
      "Python Version:     3.8.18\n",
      "Operating System:   Linux\n",
      "Platform Machine:   x86_64\n",
      "Platform Version:   #1 SMP Thu Oct 5 21:02:42 UTC 2023\n",
      "CPU Count:          8\n",
      "Memory Avail:       3.35 GB / 7.61 GB (44.0%)\n",
      "Disk Space Avail:   819.61 GB / 1006.85 GB (81.4%)\n",
      "===================================================\n",
      "Train Data Rows:    408\n",
      "Train Data Columns: 1427\n",
      "Label Column:       Outcome\n",
      "Problem Type:       binary\n",
      "Preprocessing data ...\n",
      "Selected class <--> label mapping:  class 1 = 1, class 0 = 0\n",
      "Using Feature Generators to preprocess the data ...\n",
      "Fitting AutoMLPipelineFeatureGenerator...\n",
      "\tAvailable Memory:                    3436.44 MB\n",
      "\tTrain Data (Original)  Memory Usage: 10.17 MB (0.3% of available memory)\n",
      "\tInferring data type of each feature based on column values. Set feature_metadata_in to manually specify special dtypes of the features.\n",
      "\tStage 1 Generators:\n",
      "\t\tFitting AsTypeFeatureGenerator...\n",
      "\t\t\tNote: Converting 53 features to boolean dtype as they only contain 2 unique values.\n",
      "\tStage 2 Generators:\n",
      "\t\tFitting FillNaFeatureGenerator...\n",
      "\tStage 3 Generators:\n",
      "\t\tFitting IdentityFeatureGenerator...\n",
      "\t\tFitting CategoryFeatureGenerator...\n",
      "\t\t\tFitting CategoryMemoryMinimizeFeatureGenerator...\n",
      "\tStage 4 Generators:\n",
      "\t\tFitting DropUniqueFeatureGenerator...\n",
      "\tStage 5 Generators:\n",
      "\t\tFitting DropDuplicatesFeatureGenerator...\n",
      "\tUseless Original Features (Count: 217): ['nB', 'nBondsQ', 'nHsNH3p', 'nHsssNHp', 'nHmisc', 'nsLi', 'nssBe', 'nssssBem', 'nsBH2', 'nssBH', 'nsssB', 'nssssBm', 'nsNH3p', 'nsssNHp', 'nddsN', 'naOm', 'nsSiH3', 'nssSiH2', 'nsssSiH', 'nssssSi', 'nsPH2', 'nssPH', 'nsssP', 'nddsP', 'nsssssP', 'nssssssS', 'nSm', 'nsGeH3', 'nssGeH2', 'nsssGeH', 'nssssGe', 'nsAsH2', 'nssAsH', 'nsssAs', 'ndsssAs', 'nddsAs', 'nsssssAs', 'nsSeH', 'ndSe', 'nssSe', 'naaSe', 'ndssSe', 'nssssssSe', 'nddssSe', 'nsSnH3', 'nssSnH2', 'nsssSnH', 'nssssSn', 'nsPbH3', 'nssPbH2', 'nsssPbH', 'nssssPb', 'SHsssNHp', 'SHmisc', 'SsLi', 'SssBe', 'SssssBem', 'SsBH2', 'SssBH', 'SsssB', 'SssssBm', 'SsssNHp', 'SddsN', 'SaOm', 'SsSiH3', 'SssSiH2', 'SsssSiH', 'SssssSi', 'SsPH2', 'SssPH', 'SsssP', 'SddsP', 'SsssssP', 'SssssssS', 'SSm', 'SsGeH3', 'SssGeH2', 'SsssGeH', 'SssssGe', 'SsAsH2', 'SssAsH', 'SsssAs', 'SdsssAs', 'SddsAs', 'SsssssAs', 'SsSeH', 'SdSe', 'SssSe', 'SaaSe', 'SdssSe', 'SssssssSe', 'SddssSe', 'SsSnH3', 'SssSnH2', 'SsssSnH', 'SssssSn', 'SsPbH3', 'SssPbH2', 'SsssPbH', 'SssssPb', 'minHsssNHp', 'minHmisc', 'minsLi', 'minssBe', 'minssssBem', 'minsBH2', 'minssBH', 'minsssB', 'minssssBm', 'minsssNHp', 'minddsN', 'minaOm', 'minsSiH3', 'minssSiH2', 'minsssSiH', 'minssssSi', 'minsPH2', 'minssPH', 'minsssP', 'minddsP', 'minsssssP', 'minssssssS', 'minSm', 'minsGeH3', 'minssGeH2', 'minsssGeH', 'minssssGe', 'minsAsH2', 'minssAsH', 'minsssAs', 'mindsssAs', 'minddsAs', 'minsssssAs', 'minsSeH', 'mindSe', 'minssSe', 'minaaSe', 'mindssSe', 'minssssssSe', 'minddssSe', 'minsSnH3', 'minssSnH2', 'minsssSnH', 'minssssSn', 'minsPbH3', 'minssPbH2', 'minsssPbH', 'minssssPb', 'maxHsssNHp', 'maxHmisc', 'maxsLi', 'maxssBe', 'maxssssBem', 'maxsBH2', 'maxssBH', 'maxsssB', 'maxssssBm', 'maxsssNHp', 'maxddsN', 'maxaOm', 'maxsSiH3', 'maxssSiH2', 'maxsssSiH', 'maxssssSi', 'maxsPH2', 'maxssPH', 'maxsssP', 'maxdsssP', 'maxddsP', 'maxsssssP', 'maxssS', 'maxaaS', 'maxdssS', 'maxddssS', 'maxssssssS', 'maxSm', 'maxsGeH3', 'maxssGeH2', 'maxsssGeH', 'maxssssGe', 'maxsAsH2', 'maxssAsH', 'maxsssAs', 'maxdsssAs', 'maxddsAs', 'maxsssssAs', 'maxsSeH', 'maxdSe', 'maxssSe', 'maxaaSe', 'maxdssSe', 'maxssssssSe', 'maxddssSe', 'maxsSnH3', 'maxssSnH2', 'maxsssSnH', 'maxssssSn', 'maxsI', 'maxsPbH3', 'maxssPbH2', 'maxsssPbH', 'maxssssPb', 'n10Ring', 'nF4Ring', 'nF5Ring', 'n8HeteroRing', 'n10HeteroRing', 'nFHeteroRing', 'nF4HeteroRing', 'nF5HeteroRing', 'nTHeteroRing', 'SHsNH3p', 'SsNH3p', 'minHsNH3p', 'minsNH3p', 'maxHsNH3p', 'maxsNH3p']\n",
      "\t\tThese features carry no predictive signal and should be manually investigated.\n",
      "\t\tThis is typically a feature which has the same value for all rows.\n",
      "\t\tThese features do not need to be present at inference time.\n",
      "\tUnused Original Features (Count: 168): ['ID', 'CommonName', 'nBondsD2', 'nHCHnX', 'ndCH2', 'ntCH', 'naaCH', 'nsNH2', 'nssNH2p', 'ndNH', 'nssNH', 'naaNH', 'nsOH', 'nsF', 'ndsssP', 'nsSH', 'nsCl', 'nsBr', 'nsI', 'nT4Ring', 'nT5Ring', 'nT10Ring', 'n4HeteroRing', 'n9HeteroRing', 'n11HeteroRing', 'n12HeteroRing', 'nG12HeteroRing', 'nT4HeteroRing', 'nT5HeteroRing', 'nT8HeteroRing', 'nT10HeteroRing', 'SpMax_DzZ', 'SpDiam_DzZ', 'SpAD_DzZ', 'SpMAD_DzZ', 'VR1_DzZ', 'VR2_DzZ', 'VR3_DzZ', 'SpAbs_Dzm', 'SpMax_Dzm', 'SpDiam_Dzm', 'SpAD_Dzm', 'SpMAD_Dzm', 'EE_Dzm', 'VR1_Dzm', 'VR2_Dzm', 'VR3_Dzm', 'SpAbs_Dzv', 'SpMax_Dzv', 'SpDiam_Dzv', 'SpAD_Dzv', 'SpMAD_Dzv', 'EE_Dzv', 'VE2_Dzv', 'VE3_Dzv', 'VR2_Dzv', 'VR3_Dzv', 'SpAbs_Dze', 'SpMax_Dze', 'SpDiam_Dze', 'SpAD_Dze', 'SpMAD_Dze', 'EE_Dze', 'SM1_Dze', 'VR1_Dze', 'VR2_Dze', 'VR3_Dze', 'SpAbs_Dzp', 'SpMax_Dzp', 'SpDiam_Dzp', 'SpAD_Dzp', 'SpMAD_Dzp', 'SM1_Dzp', 'VR1_Dzp', 'VR2_Dzp', 'VR3_Dzp', 'SpAbs_Dzi', 'SpMax_Dzi', 'SpDiam_Dzi', 'SpAD_Dzi', 'SpMAD_Dzi', 'EE_Dzi', 'SM1_Dzi', 'VR1_Dzi', 'VR2_Dzi', 'VR3_Dzi', 'SpAbs_Dzs', 'SpMax_Dzs', 'SpDiam_Dzs', 'SpAD_Dzs', 'SpMAD_Dzs', 'EE_Dzs', 'VR1_Dzs', 'VR2_Dzs', 'VR3_Dzs', 'SpMax1_Bhm', 'SpMax1_Bhv', 'SpMin1_Bhv', 'SpMax1_Bhe', 'SpMax2_Bhe', 'SpMin1_Bhe', 'SpMax1_Bhp', 'SpMin1_Bhp', 'SpMax1_Bhi', 'SpMin1_Bhi', 'SpMin2_Bhi', 'SpMax1_Bhs', 'SpMax2_Bhs', 'SpMin1_Bhs', 'SpMin2_Bhs', 'VPC4', 'ASP2', 'ASP3', 'ASP4', 'ASP5', 'VP2', 'AVP1', 'AVP2', 'AVP3', 'AVP4', 'AVP5', 'AVP6', 'AVP7', 'SHdNH', 'SHssNH2p', 'SHCHnX', 'SddC', 'SssNH2p', 'SdNH', 'minHdNH', 'minHsSH', 'minHaaNH', 'minHssNH2p', 'minHtCH', 'minHdCH2', 'minHCHnX', 'mindCH2', 'mintCH', 'minddC', 'minssNH2p', 'mindNH', 'minaaNH', 'minaaO', 'minsSH', 'minaaS', 'mindssS', 'maxwHBd', 'maxHdNH', 'maxHsSH', 'maxHaaNH', 'maxHssNH2p', 'maxHtCH', 'maxHdCH2', 'maxHCHnX', 'maxHAvin', 'maxdCH2', 'maxtCH', 'maxddC', 'maxssNH2p', 'maxdNH', 'maxaaNH', 'maxtN', 'maxaasN', 'maxssssNp', 'maxaaO', 'maxsSH', 'maxdS', 'SRW3']\n",
      "\t\tThese features were not used to generate any of the output features. Add a feature generator compatible with these features to utilize them.\n",
      "\t\tFeatures can also be unused if they carry very little information, such as being categorical but having almost entirely unique values or being duplicates of other features.\n",
      "\t\tThese features do not need to be present at inference time.\n",
      "\t\t('float', [])  : 45 | ['SHdNH', 'SHssNH2p', 'SHCHnX', 'SddC', 'SssNH2p', ...]\n",
      "\t\t('int', [])    : 29 | ['nBondsD2', 'nHCHnX', 'ndCH2', 'ntCH', 'naaCH', ...]\n",
      "\t\t('object', []) : 94 | ['ID', 'CommonName', 'SpMax_DzZ', 'SpDiam_DzZ', 'SpAD_DzZ', ...]\n",
      "\tTypes of features in original data (raw dtype, special dtypes):\n",
      "\t\t('float', [])  : 731 | ['ALogP', 'ALogp2', 'AMR', 'apol', 'ATS0m', ...]\n",
      "\t\t('int', [])    : 157 | ['nAcid', 'naAromAtom', 'nAromBond', 'nN', 'nO', ...]\n",
      "\t\t('object', []) : 154 | ['SpAbs_DzZ', 'EE_DzZ', 'SM1_DzZ', 'VE1_DzZ', 'VE2_DzZ', ...]\n",
      "\tTypes of features in processed data (raw dtype, special dtypes):\n",
      "\t\t('category', [])  : 154 | ['SpAbs_DzZ', 'EE_DzZ', 'SM1_DzZ', 'VE1_DzZ', 'VE2_DzZ', ...]\n",
      "\t\t('float', [])     : 731 | ['ALogP', 'ALogp2', 'AMR', 'apol', 'ATS0m', ...]\n",
      "\t\t('int', [])       : 133 | ['nAcid', 'naAromAtom', 'nAromBond', 'nN', 'nO', ...]\n",
      "\t\t('int', ['bool']) :  24 | ['nHdNH', 'nHsSH', 'nHaaNH', 'nHssNH2p', 'nHtCH', ...]\n",
      "\t4.1s = Fit runtime\n",
      "\t1042 features in original data used to generate 1042 features in processed data.\n",
      "\tTrain Data (Processed) Memory Usage: 2.83 MB (0.1% of available memory)\n",
      "Data preprocessing and feature engineering runtime = 4.24s ...\n",
      "AutoGluon will gauge predictive performance using evaluation metric: 'accuracy'\n",
      "\tTo change this, specify the eval_metric parameter of Predictor()\n",
      "Large model count detected (112 configs) ... Only displaying the first 3 models of each family. To see all, set `verbosity=3`.\n",
      "User-specified model hyperparameters to be fit:\n",
      "{\n",
      "\t'NN_TORCH': [{}, {'activation': 'elu', 'dropout_prob': 0.10077639529843717, 'hidden_size': 108, 'learning_rate': 0.002735937344002146, 'num_layers': 4, 'use_batchnorm': True, 'weight_decay': 1.356433327634438e-12, 'ag_args': {'name_suffix': '_r79', 'priority': -2}}, {'activation': 'elu', 'dropout_prob': 0.11897478034205347, 'hidden_size': 213, 'learning_rate': 0.0010474382260641949, 'num_layers': 4, 'use_batchnorm': False, 'weight_decay': 5.594471067786272e-10, 'ag_args': {'name_suffix': '_r22', 'priority': -7}}],\n",
      "\t'GBM': [{'extra_trees': True, 'ag_args': {'name_suffix': 'XT'}}, {}, 'GBMLarge'],\n",
      "\t'CAT': [{}, {'depth': 6, 'grow_policy': 'SymmetricTree', 'l2_leaf_reg': 2.1542798306067823, 'learning_rate': 0.06864209415792857, 'max_ctr_complexity': 4, 'one_hot_max_size': 10, 'ag_args': {'name_suffix': '_r177', 'priority': -1}}, {'depth': 8, 'grow_policy': 'Depthwise', 'l2_leaf_reg': 2.7997999596449104, 'learning_rate': 0.031375015734637225, 'max_ctr_complexity': 2, 'one_hot_max_size': 3, 'ag_args': {'name_suffix': '_r9', 'priority': -5}}],\n",
      "\t'XGB': [{}, {'colsample_bytree': 0.6917311125174739, 'enable_categorical': False, 'learning_rate': 0.018063876087523967, 'max_depth': 10, 'min_child_weight': 0.6028633586934382, 'ag_args': {'name_suffix': '_r33', 'priority': -8}}, {'colsample_bytree': 0.6628423832084077, 'enable_categorical': False, 'learning_rate': 0.08775715546881824, 'max_depth': 5, 'min_child_weight': 0.6294123374222513, 'ag_args': {'name_suffix': '_r89', 'priority': -16}}],\n",
      "\t'FASTAI': [{}, {'bs': 256, 'emb_drop': 0.5411770367537934, 'epochs': 43, 'layers': [800, 400], 'lr': 0.01519848858318159, 'ps': 0.23782946566604385, 'ag_args': {'name_suffix': '_r191', 'priority': -4}}, {'bs': 2048, 'emb_drop': 0.05070411322605811, 'epochs': 29, 'layers': [200, 100], 'lr': 0.08974235041576624, 'ps': 0.10393466140748028, 'ag_args': {'name_suffix': '_r102', 'priority': -11}}],\n",
      "\t'RF': [{'criterion': 'gini', 'ag_args': {'name_suffix': 'Gini', 'problem_types': ['binary', 'multiclass']}}, {'criterion': 'entropy', 'ag_args': {'name_suffix': 'Entr', 'problem_types': ['binary', 'multiclass']}}, {'criterion': 'squared_error', 'ag_args': {'name_suffix': 'MSE', 'problem_types': ['regression', 'quantile']}}],\n",
      "\t'XT': [{'criterion': 'gini', 'ag_args': {'name_suffix': 'Gini', 'problem_types': ['binary', 'multiclass']}}, {'criterion': 'entropy', 'ag_args': {'name_suffix': 'Entr', 'problem_types': ['binary', 'multiclass']}}, {'criterion': 'squared_error', 'ag_args': {'name_suffix': 'MSE', 'problem_types': ['regression', 'quantile']}}],\n",
      "\t'KNN': [{'weights': 'uniform', 'ag_args': {'name_suffix': 'Unif'}}, {'weights': 'distance', 'ag_args': {'name_suffix': 'Dist'}}],\n",
      "}\n",
      "AutoGluon will fit 2 stack levels (L1 to L2) ...\n",
      "Fitting 110 L1 models ...\n",
      "Fitting model: KNeighborsUnif_BAG_L1 ... Training model for up to 197.12s of the 295.75s of remaining time.\n",
      "\t0.6618\t = Validation score   (accuracy)\n",
      "\t0.06s\t = Training   runtime\n",
      "\t0.02s\t = Validation runtime\n",
      "Fitting model: KNeighborsDist_BAG_L1 ... Training model for up to 196.93s of the 295.55s of remaining time.\n",
      "\t0.6618\t = Validation score   (accuracy)\n",
      "\t0.06s\t = Training   runtime\n",
      "\t0.01s\t = Validation runtime\n",
      "Fitting model: LightGBMXT_BAG_L1 ... Training model for up to 196.76s of the 295.38s of remaining time.\n",
      "\tFitting 5 child models (S1F1 - S1F5) | Fitting with SequentialLocalFoldFittingStrategy\n",
      "\t0.7402\t = Validation score   (accuracy)\n",
      "\t6.03s\t = Training   runtime\n",
      "\t0.24s\t = Validation runtime\n",
      "Fitting model: LightGBM_BAG_L1 ... Training model for up to 190.26s of the 288.88s of remaining time.\n",
      "\tFitting 5 child models (S1F1 - S1F5) | Fitting with SequentialLocalFoldFittingStrategy\n",
      "\t0.7377\t = Validation score   (accuracy)\n",
      "\t8.31s\t = Training   runtime\n",
      "\t0.22s\t = Validation runtime\n",
      "Fitting model: RandomForestGini_BAG_L1 ... Training model for up to 181.49s of the 280.11s of remaining time.\n",
      "\t0.7279\t = Validation score   (accuracy)\n",
      "\t0.93s\t = Training   runtime\n",
      "\t0.12s\t = Validation runtime\n",
      "Fitting model: RandomForestEntr_BAG_L1 ... Training model for up to 180.3s of the 278.93s of remaining time.\n",
      "\t0.701\t = Validation score   (accuracy)\n",
      "\t0.95s\t = Training   runtime\n",
      "\t0.12s\t = Validation runtime\n",
      "Fitting model: CatBoost_BAG_L1 ... Training model for up to 179.11s of the 277.73s of remaining time.\n",
      "\tFitting 5 child models (S1F1 - S1F5) | Fitting with SequentialLocalFoldFittingStrategy\n",
      "\tRan out of time, early stopping on iteration 160.\n",
      "\tRan out of time, early stopping on iteration 160.\n",
      "\tRan out of time, early stopping on iteration 172.\n",
      "\tRan out of time, early stopping on iteration 216.\n",
      "\tRan out of time, early stopping on iteration 251.\n",
      "\t0.7353\t = Validation score   (accuracy)\n",
      "\t167.95s\t = Training   runtime\n",
      "\t0.72s\t = Validation runtime\n",
      "Fitting model: ExtraTreesGini_BAG_L1 ... Training model for up to 10.2s of the 108.82s of remaining time.\n",
      "\t0.7157\t = Validation score   (accuracy)\n",
      "\t0.97s\t = Training   runtime\n",
      "\t0.15s\t = Validation runtime\n",
      "Fitting model: ExtraTreesEntr_BAG_L1 ... Training model for up to 8.94s of the 107.56s of remaining time.\n",
      "\t0.7206\t = Validation score   (accuracy)\n",
      "\t0.96s\t = Training   runtime\n",
      "\t0.15s\t = Validation runtime\n",
      "Fitting model: NeuralNetFastAI_BAG_L1 ... Training model for up to 7.69s of the 106.31s of remaining time.\n",
      "\tFitting 5 child models (S1F1 - S1F5) | Fitting with SequentialLocalFoldFittingStrategy\n",
      "\tTime limit exceeded... Skipping NeuralNetFastAI_BAG_L1.\n",
      "Fitting model: XGBoost_BAG_L1 ... Training model for up to 6.65s of the 105.27s of remaining time.\n",
      "\tFitting 5 child models (S1F1 - S1F5) | Fitting with SequentialLocalFoldFittingStrategy\n",
      "\tTime limit exceeded... Skipping XGBoost_BAG_L1.\n",
      "Fitting model: NeuralNetTorch_BAG_L1 ... Training model for up to 4.95s of the 103.57s of remaining time.\n",
      "\tFitting 5 child models (S1F1 - S1F5) | Fitting with SequentialLocalFoldFittingStrategy\n",
      "\tTime limit exceeded... Skipping NeuralNetTorch_BAG_L1.\n",
      "Fitting model: LightGBMLarge_BAG_L1 ... Training model for up to 3.53s of the 102.15s of remaining time.\n",
      "\tFitting 5 child models (S1F1 - S1F5) | Fitting with SequentialLocalFoldFittingStrategy\n",
      "\tRan out of time, early stopping on iteration 17. Best iteration is:\n",
      "\t[16]\tvalid_set's binary_error: 0.292683\n",
      "\tTime limit exceeded... Skipping LightGBMLarge_BAG_L1.\n",
      "Fitting model: CatBoost_r177_BAG_L1 ... Training model for up to 2.43s of the 101.05s of remaining time.\n",
      "\tFitting 5 child models (S1F1 - S1F5) | Fitting with SequentialLocalFoldFittingStrategy\n",
      "\tRan out of time, early stopping on iteration 1.\n",
      "\tTime limit exceeded... Skipping CatBoost_r177_BAG_L1.\n",
      "Fitting model: NeuralNetTorch_r79_BAG_L1 ... Training model for up to 1.26s of the 99.88s of remaining time.\n",
      "\tFitting 5 child models (S1F1 - S1F5) | Fitting with SequentialLocalFoldFittingStrategy\n",
      "\tTime limit exceeded... Skipping NeuralNetTorch_r79_BAG_L1.\n",
      "Fitting model: WeightedEnsemble_L2 ... Training model for up to 295.76s of the 97.53s of remaining time.\n",
      "\tEnsemble Weights: {'LightGBMXT_BAG_L1': 1.0}\n",
      "\t0.7402\t = Validation score   (accuracy)\n",
      "\t0.41s\t = Training   runtime\n",
      "\t0.0s\t = Validation runtime\n",
      "Fitting 108 L2 models ...\n",
      "Fitting model: LightGBMXT_BAG_L2 ... Training model for up to 97.1s of the 97.05s of remaining time.\n",
      "\tFitting 5 child models (S1F1 - S1F5) | Fitting with SequentialLocalFoldFittingStrategy\n",
      "\t0.75\t = Validation score   (accuracy)\n",
      "\t6.09s\t = Training   runtime\n",
      "\t0.3s\t = Validation runtime\n",
      "Fitting model: LightGBM_BAG_L2 ... Training model for up to 90.45s of the 90.39s of remaining time.\n",
      "\tFitting 5 child models (S1F1 - S1F5) | Fitting with SequentialLocalFoldFittingStrategy\n",
      "\t0.7426\t = Validation score   (accuracy)\n",
      "\t10.06s\t = Training   runtime\n",
      "\t0.27s\t = Validation runtime\n",
      "Fitting model: RandomForestGini_BAG_L2 ... Training model for up to 79.8s of the 79.74s of remaining time.\n",
      "\t0.7034\t = Validation score   (accuracy)\n",
      "\t1.07s\t = Training   runtime\n",
      "\t0.16s\t = Validation runtime\n",
      "Fitting model: RandomForestEntr_BAG_L2 ... Training model for up to 78.39s of the 78.33s of remaining time.\n",
      "\t0.7206\t = Validation score   (accuracy)\n",
      "\t1.14s\t = Training   runtime\n",
      "\t0.15s\t = Validation runtime\n",
      "Fitting model: CatBoost_BAG_L2 ... Training model for up to 76.91s of the 76.86s of remaining time.\n",
      "\tFitting 5 child models (S1F1 - S1F5) | Fitting with SequentialLocalFoldFittingStrategy\n",
      "\tRan out of time, early stopping on iteration 72.\n",
      "\tRan out of time, early stopping on iteration 75.\n",
      "\tRan out of time, early stopping on iteration 76.\n",
      "\tRan out of time, early stopping on iteration 91.\n",
      "\tRan out of time, early stopping on iteration 107.\n",
      "\t0.7206\t = Validation score   (accuracy)\n",
      "\t71.75s\t = Training   runtime\n",
      "\t0.51s\t = Validation runtime\n",
      "Fitting model: ExtraTreesGini_BAG_L2 ... Training model for up to 4.38s of the 4.32s of remaining time.\n",
      "\t0.7083\t = Validation score   (accuracy)\n",
      "\t1.37s\t = Training   runtime\n",
      "\t0.18s\t = Validation runtime\n",
      "Fitting model: WeightedEnsemble_L3 ... Training model for up to 295.76s of the -0.25s of remaining time.\n",
      "\tEnsemble Weights: {'LightGBMXT_BAG_L2': 1.0}\n",
      "\t0.75\t = Validation score   (accuracy)\n",
      "\t0.91s\t = Training   runtime\n",
      "\t0.0s\t = Validation runtime\n",
      "AutoGluon training complete, total runtime = 301.19s ... Best model: \"WeightedEnsemble_L3\"\n",
      "TabularPredictor saved. To load, use: predictor = TabularPredictor.load(\"AutogluonModels/ag-20240113_125435/ds_sub_fit/sub_fit_ho\")\n",
      "Leaderboard on holdout data from dynamic stacking:\n",
      "                      model  holdout_score  score_val eval_metric  pred_time_test  pred_time_val    fit_time  pred_time_test_marginal  pred_time_val_marginal  fit_time_marginal  stack_level  can_infer  fit_order\n",
      "0   RandomForestEntr_BAG_L1       0.750000   0.700980    accuracy        0.103690       0.124603    0.947013                 0.103690                0.124603           0.947013            1       True          6\n",
      "1         LightGBMXT_BAG_L1       0.750000   0.740196    accuracy        0.320844       0.240808    6.033546                 0.320844                0.240808           6.033546            1       True          3\n",
      "2       WeightedEnsemble_L2       0.750000   0.740196    accuracy        0.323375       0.241970    6.446516                 0.002531                0.001162           0.412970            2       True         10\n",
      "3         LightGBMXT_BAG_L2       0.750000   0.750000    accuracy        1.441188       2.062714  192.309901                 0.207355                0.299690           6.085045            2       True         11\n",
      "4       WeightedEnsemble_L3       0.750000   0.750000    accuracy        1.442969       2.064343  193.216758                 0.001781                0.001629           0.906857            3       True         17\n",
      "5   RandomForestEntr_BAG_L2       0.750000   0.720588    accuracy        1.532412       1.917476  187.365981                 0.298579                0.154452           1.141125            2       True         14\n",
      "6   RandomForestGini_BAG_L1       0.730769   0.727941    accuracy        0.097454       0.122139    0.931652                 0.097454                0.122139           0.931652            1       True          5\n",
      "7           LightGBM_BAG_L1       0.730769   0.737745    accuracy        0.257211       0.219437    8.313276                 0.257211                0.219437           8.313276            1       True          4\n",
      "8     KNeighborsDist_BAG_L1       0.711538   0.661765    accuracy        0.009070       0.008017    0.062280                 0.009070                0.008017           0.062280            1       True          2\n",
      "9     ExtraTreesGini_BAG_L1       0.711538   0.715686    accuracy        0.097546       0.150320    0.965272                 0.097546                0.150320           0.965272            1       True          8\n",
      "10    ExtraTreesGini_BAG_L2       0.711538   0.708333    accuracy        1.328819       1.942167  187.591988                 0.094987                0.179142           1.367132            2       True         16\n",
      "11    KNeighborsUnif_BAG_L1       0.692308   0.661765    accuracy        0.014714       0.019454    0.064278                 0.014714                0.019454           0.064278            1       True          1\n",
      "12    ExtraTreesEntr_BAG_L1       0.692308   0.720588    accuracy        0.097139       0.154023    0.955620                 0.097139                0.154023           0.955620            1       True          9\n",
      "13  RandomForestGini_BAG_L2       0.692308   0.703431    accuracy        1.324615       1.919847  187.297940                 0.090783                0.156822           1.073084            2       True         13\n",
      "14          LightGBM_BAG_L2       0.692308   0.742647    accuracy        1.448952       2.028395  196.283645                 0.215119                0.265370          10.058789            2       True         12\n",
      "15          CatBoost_BAG_L2       0.692308   0.720588    accuracy        1.464457       2.270755  257.978906                 0.230624                0.507730          71.754050            2       True         15\n",
      "16          CatBoost_BAG_L1       0.673077   0.735294    accuracy        0.236164       0.724225  167.951920                 0.236164                0.724225         167.951920            1       True          7\n",
      "Stacked overfitting occurred: True.\n",
      "Spend 303 seconds for the sub-fit(s) during dynamic stacking.\n",
      "Time left for full fit of AutoGluon: 897 seconds.\n",
      "Starting full fit now with num_stack_levels 0.\n",
      "Beginning AutoGluon training ... Time limit = 897s\n",
      "AutoGluon will save models to \"AutogluonModels/ag-20240113_125435\"\n",
      "=================== System Info ===================\n",
      "AutoGluon Version:  1.0.0\n",
      "Python Version:     3.8.18\n",
      "Operating System:   Linux\n",
      "Platform Machine:   x86_64\n",
      "Platform Version:   #1 SMP Thu Oct 5 21:02:42 UTC 2023\n",
      "CPU Count:          8\n",
      "Memory Avail:       3.36 GB / 7.61 GB (44.2%)\n",
      "Disk Space Avail:   819.61 GB / 1006.85 GB (81.4%)\n",
      "===================================================\n",
      "Train Data Rows:    460\n",
      "Train Data Columns: 1427\n",
      "Label Column:       Outcome\n",
      "Problem Type:       binary\n",
      "Preprocessing data ...\n",
      "Selected class <--> label mapping:  class 1 = 1, class 0 = 0\n",
      "Using Feature Generators to preprocess the data ...\n",
      "Fitting AutoMLPipelineFeatureGenerator...\n",
      "\tAvailable Memory:                    3456.74 MB\n",
      "\tTrain Data (Original)  Memory Usage: 11.47 MB (0.3% of available memory)\n",
      "\tInferring data type of each feature based on column values. Set feature_metadata_in to manually specify special dtypes of the features.\n",
      "\tStage 1 Generators:\n",
      "\t\tFitting AsTypeFeatureGenerator...\n",
      "\t\t\tNote: Converting 53 features to boolean dtype as they only contain 2 unique values.\n",
      "\tStage 2 Generators:\n",
      "\t\tFitting FillNaFeatureGenerator...\n",
      "\tStage 3 Generators:\n",
      "\t\tFitting IdentityFeatureGenerator...\n",
      "\t\tFitting CategoryFeatureGenerator...\n",
      "\t\t\tFitting CategoryMemoryMinimizeFeatureGenerator...\n",
      "\tStage 4 Generators:\n",
      "\t\tFitting DropUniqueFeatureGenerator...\n",
      "\tStage 5 Generators:\n",
      "\t\tFitting DropDuplicatesFeatureGenerator...\n",
      "\tUseless Original Features (Count: 217): ['nB', 'nBondsQ', 'nHsNH3p', 'nHsssNHp', 'nHmisc', 'nsLi', 'nssBe', 'nssssBem', 'nsBH2', 'nssBH', 'nsssB', 'nssssBm', 'nsNH3p', 'nsssNHp', 'nddsN', 'naOm', 'nsSiH3', 'nssSiH2', 'nsssSiH', 'nssssSi', 'nsPH2', 'nssPH', 'nsssP', 'nddsP', 'nsssssP', 'nssssssS', 'nSm', 'nsGeH3', 'nssGeH2', 'nsssGeH', 'nssssGe', 'nsAsH2', 'nssAsH', 'nsssAs', 'ndsssAs', 'nddsAs', 'nsssssAs', 'nsSeH', 'ndSe', 'nssSe', 'naaSe', 'ndssSe', 'nssssssSe', 'nddssSe', 'nsSnH3', 'nssSnH2', 'nsssSnH', 'nssssSn', 'nsPbH3', 'nssPbH2', 'nsssPbH', 'nssssPb', 'SHsssNHp', 'SHmisc', 'SsLi', 'SssBe', 'SssssBem', 'SsBH2', 'SssBH', 'SsssB', 'SssssBm', 'SsssNHp', 'SddsN', 'SaOm', 'SsSiH3', 'SssSiH2', 'SsssSiH', 'SssssSi', 'SsPH2', 'SssPH', 'SsssP', 'SddsP', 'SsssssP', 'SssssssS', 'SSm', 'SsGeH3', 'SssGeH2', 'SsssGeH', 'SssssGe', 'SsAsH2', 'SssAsH', 'SsssAs', 'SdsssAs', 'SddsAs', 'SsssssAs', 'SsSeH', 'SdSe', 'SssSe', 'SaaSe', 'SdssSe', 'SssssssSe', 'SddssSe', 'SsSnH3', 'SssSnH2', 'SsssSnH', 'SssssSn', 'SsPbH3', 'SssPbH2', 'SsssPbH', 'SssssPb', 'minHsssNHp', 'minHmisc', 'minsLi', 'minssBe', 'minssssBem', 'minsBH2', 'minssBH', 'minsssB', 'minssssBm', 'minsssNHp', 'minddsN', 'minaOm', 'minsSiH3', 'minssSiH2', 'minsssSiH', 'minssssSi', 'minsPH2', 'minssPH', 'minsssP', 'minddsP', 'minsssssP', 'minssssssS', 'minSm', 'minsGeH3', 'minssGeH2', 'minsssGeH', 'minssssGe', 'minsAsH2', 'minssAsH', 'minsssAs', 'mindsssAs', 'minddsAs', 'minsssssAs', 'minsSeH', 'mindSe', 'minssSe', 'minaaSe', 'mindssSe', 'minssssssSe', 'minddssSe', 'minsSnH3', 'minssSnH2', 'minsssSnH', 'minssssSn', 'minsPbH3', 'minssPbH2', 'minsssPbH', 'minssssPb', 'maxHsssNHp', 'maxHmisc', 'maxsLi', 'maxssBe', 'maxssssBem', 'maxsBH2', 'maxssBH', 'maxsssB', 'maxssssBm', 'maxsssNHp', 'maxddsN', 'maxaOm', 'maxsSiH3', 'maxssSiH2', 'maxsssSiH', 'maxssssSi', 'maxsPH2', 'maxssPH', 'maxsssP', 'maxdsssP', 'maxddsP', 'maxsssssP', 'maxssS', 'maxaaS', 'maxdssS', 'maxddssS', 'maxssssssS', 'maxSm', 'maxsGeH3', 'maxssGeH2', 'maxsssGeH', 'maxssssGe', 'maxsAsH2', 'maxssAsH', 'maxsssAs', 'maxdsssAs', 'maxddsAs', 'maxsssssAs', 'maxsSeH', 'maxdSe', 'maxssSe', 'maxaaSe', 'maxdssSe', 'maxssssssSe', 'maxddssSe', 'maxsSnH3', 'maxssSnH2', 'maxsssSnH', 'maxssssSn', 'maxsI', 'maxsPbH3', 'maxssPbH2', 'maxsssPbH', 'maxssssPb', 'n10Ring', 'nF4Ring', 'nF5Ring', 'n8HeteroRing', 'n10HeteroRing', 'nFHeteroRing', 'nF4HeteroRing', 'nF5HeteroRing', 'nTHeteroRing', 'SHsNH3p', 'SsNH3p', 'minHsNH3p', 'minsNH3p', 'maxHsNH3p', 'maxsNH3p']\n",
      "\t\tThese features carry no predictive signal and should be manually investigated.\n",
      "\t\tThis is typically a feature which has the same value for all rows.\n",
      "\t\tThese features do not need to be present at inference time.\n",
      "\tUnused Original Features (Count: 159): ['ID', 'CommonName', 'nHCHnX', 'ndCH2', 'ntCH', 'naaCH', 'nsNH2', 'nssNH2p', 'ndNH', 'nssNH', 'naaNH', 'nsOH', 'nsF', 'ndsssP', 'nsSH', 'nsCl', 'nsBr', 'nsI', 'nT4Ring', 'nT5Ring', 'nT10Ring', 'n4HeteroRing', 'n9HeteroRing', 'n11HeteroRing', 'n12HeteroRing', 'nG12HeteroRing', 'nT4HeteroRing', 'nT5HeteroRing', 'nT8HeteroRing', 'nT10HeteroRing', 'SpMax_DzZ', 'SpDiam_DzZ', 'SpAD_DzZ', 'SpMAD_DzZ', 'VR1_DzZ', 'VR2_DzZ', 'VR3_DzZ', 'SpAbs_Dzm', 'SpMax_Dzm', 'SpDiam_Dzm', 'SpAD_Dzm', 'SpMAD_Dzm', 'EE_Dzm', 'VR1_Dzm', 'VR2_Dzm', 'VR3_Dzm', 'SpAbs_Dzv', 'SpMax_Dzv', 'SpDiam_Dzv', 'SpAD_Dzv', 'SpMAD_Dzv', 'EE_Dzv', 'VE3_Dzv', 'VR2_Dzv', 'VR3_Dzv', 'SpAbs_Dze', 'SpMax_Dze', 'SpDiam_Dze', 'SpAD_Dze', 'SpMAD_Dze', 'EE_Dze', 'SM1_Dze', 'VR1_Dze', 'VR2_Dze', 'VR3_Dze', 'SpAbs_Dzp', 'SpMax_Dzp', 'SpDiam_Dzp', 'SpAD_Dzp', 'SpMAD_Dzp', 'SM1_Dzp', 'VR1_Dzp', 'VR2_Dzp', 'VR3_Dzp', 'SpAbs_Dzi', 'SpMax_Dzi', 'SpDiam_Dzi', 'SpAD_Dzi', 'SpMAD_Dzi', 'EE_Dzi', 'SM1_Dzi', 'VR1_Dzi', 'VR2_Dzi', 'VR3_Dzi', 'SpMax_Dzs', 'SpDiam_Dzs', 'SpAD_Dzs', 'SpMAD_Dzs', 'VR1_Dzs', 'VR2_Dzs', 'VR3_Dzs', 'SpMax1_Bhv', 'SpMin1_Bhv', 'SpMax1_Bhe', 'SpMax2_Bhe', 'SpMin1_Bhe', 'SpMax1_Bhp', 'SpMin1_Bhp', 'SpMax1_Bhi', 'SpMin1_Bhi', 'SpMax1_Bhs', 'SpMax2_Bhs', 'SpMin1_Bhs', 'VPC4', 'ASP2', 'ASP3', 'VP2', 'AVP1', 'AVP2', 'AVP3', 'AVP4', 'AVP5', 'AVP6', 'AVP7', 'SHdNH', 'SHssNH2p', 'SHCHnX', 'SddC', 'SssNH2p', 'SdNH', 'minHdNH', 'minHsSH', 'minHaaNH', 'minHssNH2p', 'minHtCH', 'minHdCH2', 'minHCHnX', 'mindCH2', 'mintCH', 'minddC', 'minssNH2p', 'mindNH', 'minaaNH', 'minaaO', 'minsSH', 'minaaS', 'mindssS', 'maxwHBd', 'maxHdNH', 'maxHsSH', 'maxHaaNH', 'maxHssNH2p', 'maxHtCH', 'maxHdCH2', 'maxHCHnX', 'maxHAvin', 'maxdCH2', 'maxtCH', 'maxddC', 'maxssNH2p', 'maxdNH', 'maxaaNH', 'maxtN', 'maxaasN', 'maxssssNp', 'maxaaO', 'maxsSH', 'maxdS', 'SRW3']\n",
      "\t\tThese features were not used to generate any of the output features. Add a feature generator compatible with these features to utilize them.\n",
      "\t\tFeatures can also be unused if they carry very little information, such as being categorical but having almost entirely unique values or being duplicates of other features.\n",
      "\t\tThese features do not need to be present at inference time.\n",
      "\t\t('float', [])  : 45 | ['SHdNH', 'SHssNH2p', 'SHCHnX', 'SddC', 'SssNH2p', ...]\n",
      "\t\t('int', [])    : 28 | ['nHCHnX', 'ndCH2', 'ntCH', 'naaCH', 'nsNH2', ...]\n",
      "\t\t('object', []) : 86 | ['ID', 'CommonName', 'SpMax_DzZ', 'SpDiam_DzZ', 'SpAD_DzZ', ...]\n",
      "\tTypes of features in original data (raw dtype, special dtypes):\n",
      "\t\t('float', [])  : 731 | ['ALogP', 'ALogp2', 'AMR', 'apol', 'ATS0m', ...]\n",
      "\t\t('int', [])    : 158 | ['nAcid', 'naAromAtom', 'nAromBond', 'nN', 'nO', ...]\n",
      "\t\t('object', []) : 162 | ['SpAbs_DzZ', 'EE_DzZ', 'SM1_DzZ', 'VE1_DzZ', 'VE2_DzZ', ...]\n",
      "\tTypes of features in processed data (raw dtype, special dtypes):\n",
      "\t\t('category', [])  : 162 | ['SpAbs_DzZ', 'EE_DzZ', 'SM1_DzZ', 'VE1_DzZ', 'VE2_DzZ', ...]\n",
      "\t\t('float', [])     : 731 | ['ALogP', 'ALogp2', 'AMR', 'apol', 'ATS0m', ...]\n",
      "\t\t('int', [])       : 134 | ['nAcid', 'naAromAtom', 'nAromBond', 'nN', 'nO', ...]\n",
      "\t\t('int', ['bool']) :  24 | ['nHdNH', 'nHsSH', 'nHaaNH', 'nHssNH2p', 'nHtCH', ...]\n",
      "\t5.5s = Fit runtime\n",
      "\t1051 features in original data used to generate 1051 features in processed data.\n",
      "\tTrain Data (Processed) Memory Usage: 3.20 MB (0.1% of available memory)\n",
      "Data preprocessing and feature engineering runtime = 5.62s ...\n",
      "AutoGluon will gauge predictive performance using evaluation metric: 'accuracy'\n",
      "\tTo change this, specify the eval_metric parameter of Predictor()\n",
      "Large model count detected (112 configs) ... Only displaying the first 3 models of each family. To see all, set `verbosity=3`.\n",
      "User-specified model hyperparameters to be fit:\n",
      "{\n",
      "\t'NN_TORCH': [{}, {'activation': 'elu', 'dropout_prob': 0.10077639529843717, 'hidden_size': 108, 'learning_rate': 0.002735937344002146, 'num_layers': 4, 'use_batchnorm': True, 'weight_decay': 1.356433327634438e-12, 'ag_args': {'name_suffix': '_r79', 'priority': -2}}, {'activation': 'elu', 'dropout_prob': 0.11897478034205347, 'hidden_size': 213, 'learning_rate': 0.0010474382260641949, 'num_layers': 4, 'use_batchnorm': False, 'weight_decay': 5.594471067786272e-10, 'ag_args': {'name_suffix': '_r22', 'priority': -7}}],\n",
      "\t'GBM': [{'extra_trees': True, 'ag_args': {'name_suffix': 'XT'}}, {}, 'GBMLarge'],\n",
      "\t'CAT': [{}, {'depth': 6, 'grow_policy': 'SymmetricTree', 'l2_leaf_reg': 2.1542798306067823, 'learning_rate': 0.06864209415792857, 'max_ctr_complexity': 4, 'one_hot_max_size': 10, 'ag_args': {'name_suffix': '_r177', 'priority': -1}}, {'depth': 8, 'grow_policy': 'Depthwise', 'l2_leaf_reg': 2.7997999596449104, 'learning_rate': 0.031375015734637225, 'max_ctr_complexity': 2, 'one_hot_max_size': 3, 'ag_args': {'name_suffix': '_r9', 'priority': -5}}],\n",
      "\t'XGB': [{}, {'colsample_bytree': 0.6917311125174739, 'enable_categorical': False, 'learning_rate': 0.018063876087523967, 'max_depth': 10, 'min_child_weight': 0.6028633586934382, 'ag_args': {'name_suffix': '_r33', 'priority': -8}}, {'colsample_bytree': 0.6628423832084077, 'enable_categorical': False, 'learning_rate': 0.08775715546881824, 'max_depth': 5, 'min_child_weight': 0.6294123374222513, 'ag_args': {'name_suffix': '_r89', 'priority': -16}}],\n",
      "\t'FASTAI': [{}, {'bs': 256, 'emb_drop': 0.5411770367537934, 'epochs': 43, 'layers': [800, 400], 'lr': 0.01519848858318159, 'ps': 0.23782946566604385, 'ag_args': {'name_suffix': '_r191', 'priority': -4}}, {'bs': 2048, 'emb_drop': 0.05070411322605811, 'epochs': 29, 'layers': [200, 100], 'lr': 0.08974235041576624, 'ps': 0.10393466140748028, 'ag_args': {'name_suffix': '_r102', 'priority': -11}}],\n",
      "\t'RF': [{'criterion': 'gini', 'ag_args': {'name_suffix': 'Gini', 'problem_types': ['binary', 'multiclass']}}, {'criterion': 'entropy', 'ag_args': {'name_suffix': 'Entr', 'problem_types': ['binary', 'multiclass']}}, {'criterion': 'squared_error', 'ag_args': {'name_suffix': 'MSE', 'problem_types': ['regression', 'quantile']}}],\n",
      "\t'XT': [{'criterion': 'gini', 'ag_args': {'name_suffix': 'Gini', 'problem_types': ['binary', 'multiclass']}}, {'criterion': 'entropy', 'ag_args': {'name_suffix': 'Entr', 'problem_types': ['binary', 'multiclass']}}, {'criterion': 'squared_error', 'ag_args': {'name_suffix': 'MSE', 'problem_types': ['regression', 'quantile']}}],\n",
      "\t'KNN': [{'weights': 'uniform', 'ag_args': {'name_suffix': 'Unif'}}, {'weights': 'distance', 'ag_args': {'name_suffix': 'Dist'}}],\n",
      "}\n",
      "Fitting 110 L1 models ...\n",
      "Fitting model: KNeighborsUnif_BAG_L1 ... Training model for up to 891.38s of the 891.37s of remaining time.\n",
      "\t0.6478\t = Validation score   (accuracy)\n",
      "\t0.08s\t = Training   runtime\n",
      "\t0.01s\t = Validation runtime\n",
      "Fitting model: KNeighborsDist_BAG_L1 ... Training model for up to 891.16s of the 891.14s of remaining time.\n",
      "\t0.6413\t = Validation score   (accuracy)\n",
      "\t0.07s\t = Training   runtime\n",
      "\t0.01s\t = Validation runtime\n",
      "Fitting model: LightGBMXT_BAG_L1 ... Training model for up to 890.96s of the 890.95s of remaining time.\n",
      "\tFitting 5 child models (S1F1 - S1F5) | Fitting with SequentialLocalFoldFittingStrategy\n",
      "\t0.7391\t = Validation score   (accuracy)\n",
      "\t6.14s\t = Training   runtime\n",
      "\t0.26s\t = Validation runtime\n",
      "Fitting model: LightGBM_BAG_L1 ... Training model for up to 884.33s of the 884.3s of remaining time.\n",
      "\tFitting 5 child models (S1F1 - S1F5) | Fitting with SequentialLocalFoldFittingStrategy\n",
      "\t0.737\t = Validation score   (accuracy)\n",
      "\t12.17s\t = Training   runtime\n",
      "\t0.3s\t = Validation runtime\n",
      "Fitting model: RandomForestGini_BAG_L1 ... Training model for up to 871.58s of the 871.56s of remaining time.\n",
      "\t0.7239\t = Validation score   (accuracy)\n",
      "\t0.98s\t = Training   runtime\n",
      "\t0.21s\t = Validation runtime\n",
      "Fitting model: RandomForestEntr_BAG_L1 ... Training model for up to 870.2s of the 870.19s of remaining time.\n",
      "\t0.7239\t = Validation score   (accuracy)\n",
      "\t1.1s\t = Training   runtime\n",
      "\t0.15s\t = Validation runtime\n",
      "Fitting model: CatBoost_BAG_L1 ... Training model for up to 868.79s of the 868.78s of remaining time.\n",
      "\tFitting 5 child models (S1F1 - S1F5) | Fitting with SequentialLocalFoldFittingStrategy\n",
      "\t0.7413\t = Validation score   (accuracy)\n",
      "\t365.56s\t = Training   runtime\n",
      "\t0.75s\t = Validation runtime\n",
      "Fitting model: ExtraTreesGini_BAG_L1 ... Training model for up to 502.17s of the 502.15s of remaining time.\n",
      "\t0.7174\t = Validation score   (accuracy)\n",
      "\t1.07s\t = Training   runtime\n",
      "\t0.15s\t = Validation runtime\n",
      "Fitting model: ExtraTreesEntr_BAG_L1 ... Training model for up to 500.77s of the 500.75s of remaining time.\n",
      "\t0.7217\t = Validation score   (accuracy)\n",
      "\t0.92s\t = Training   runtime\n",
      "\t0.15s\t = Validation runtime\n",
      "Fitting model: NeuralNetFastAI_BAG_L1 ... Training model for up to 499.54s of the 499.52s of remaining time.\n",
      "\tFitting 5 child models (S1F1 - S1F5) | Fitting with SequentialLocalFoldFittingStrategy\n",
      "No improvement since epoch 2: early stopping\n",
      "No improvement since epoch 9: early stopping\n",
      "No improvement since epoch 2: early stopping\n",
      "\t0.7391\t = Validation score   (accuracy)\n",
      "\t11.65s\t = Training   runtime\n",
      "\t0.33s\t = Validation runtime\n",
      "Fitting model: XGBoost_BAG_L1 ... Training model for up to 487.1s of the 487.08s of remaining time.\n",
      "\tFitting 5 child models (S1F1 - S1F5) | Fitting with SequentialLocalFoldFittingStrategy\n",
      "\t0.763\t = Validation score   (accuracy)\n",
      "\t44.55s\t = Training   runtime\n",
      "\t0.3s\t = Validation runtime\n",
      "Fitting model: NeuralNetTorch_BAG_L1 ... Training model for up to 441.92s of the 441.9s of remaining time.\n",
      "\tFitting 5 child models (S1F1 - S1F5) | Fitting with SequentialLocalFoldFittingStrategy\n",
      "\t0.737\t = Validation score   (accuracy)\n",
      "\t45.39s\t = Training   runtime\n",
      "\t1.5s\t = Validation runtime\n",
      "Fitting model: LightGBMLarge_BAG_L1 ... Training model for up to 394.65s of the 394.64s of remaining time.\n",
      "\tFitting 5 child models (S1F1 - S1F5) | Fitting with SequentialLocalFoldFittingStrategy\n",
      "\t0.7196\t = Validation score   (accuracy)\n",
      "\t37.63s\t = Training   runtime\n",
      "\t0.35s\t = Validation runtime\n",
      "Fitting model: CatBoost_r177_BAG_L1 ... Training model for up to 356.33s of the 356.31s of remaining time.\n",
      "\tFitting 5 child models (S1F1 - S1F5) | Fitting with SequentialLocalFoldFittingStrategy\n",
      "\t0.7457\t = Validation score   (accuracy)\n",
      "\t215.66s\t = Training   runtime\n",
      "\t1.01s\t = Validation runtime\n",
      "Fitting model: NeuralNetTorch_r79_BAG_L1 ... Training model for up to 139.32s of the 139.3s of remaining time.\n",
      "\tFitting 5 child models (S1F1 - S1F5) | Fitting with SequentialLocalFoldFittingStrategy\n",
      "\t0.7152\t = Validation score   (accuracy)\n",
      "\t51.01s\t = Training   runtime\n",
      "\t1.6s\t = Validation runtime\n",
      "Fitting model: LightGBM_r131_BAG_L1 ... Training model for up to 86.3s of the 86.29s of remaining time.\n",
      "\tFitting 5 child models (S1F1 - S1F5) | Fitting with SequentialLocalFoldFittingStrategy\n",
      "\t0.7326\t = Validation score   (accuracy)\n",
      "\t15.18s\t = Training   runtime\n",
      "\t0.32s\t = Validation runtime\n",
      "Fitting model: NeuralNetFastAI_r191_BAG_L1 ... Training model for up to 70.51s of the 70.49s of remaining time.\n",
      "\tFitting 5 child models (S1F1 - S1F5) | Fitting with SequentialLocalFoldFittingStrategy\n",
      "No improvement since epoch 1: early stopping\n",
      "No improvement since epoch 14: early stopping\n",
      "No improvement since epoch 6: early stopping\n",
      "No improvement since epoch 2: early stopping\n",
      "No improvement since epoch 16: early stopping\n",
      "\t0.7217\t = Validation score   (accuracy)\n",
      "\t16.69s\t = Training   runtime\n",
      "\t0.39s\t = Validation runtime\n",
      "Fitting model: CatBoost_r9_BAG_L1 ... Training model for up to 52.9s of the 52.88s of remaining time.\n",
      "\tFitting 5 child models (S1F1 - S1F5) | Fitting with SequentialLocalFoldFittingStrategy\n",
      "\tRan out of time, early stopping on iteration 11.\n",
      "\tRan out of time, early stopping on iteration 16.\n",
      "\tWarning: Potentially not enough memory to safely train model. Estimated to require 1.655 GB out of 2.067 GB available memory (80.062%)... (100.000% of avail memory is the max safe size)\n",
      "\tTo avoid this warning, specify the model hyperparameter \"ag.max_memory_usage_ratio\" to a larger value (currently 1.0, set to >=1.12 to avoid the warning)\n",
      "\t\tTo set the same value for all models, do the following when calling predictor.fit: `predictor.fit(..., ag_args_fit={\"ag.max_memory_usage_ratio\": VALUE})`\n",
      "\t\tSetting \"ag.max_memory_usage_ratio\" to values above 1 may result in out-of-memory errors. You may consider using a machine with more memory as a safer alternative.\n",
      "\tRan out of time, early stopping on iteration 19.\n",
      "\tWarning: Potentially not enough memory to safely train model. Estimated to require 1.655 GB out of 1.758 GB available memory (94.169%)... (100.000% of avail memory is the max safe size)\n",
      "\tTo avoid this warning, specify the model hyperparameter \"ag.max_memory_usage_ratio\" to a larger value (currently 1.0, set to >=1.31 to avoid the warning)\n",
      "\t\tTo set the same value for all models, do the following when calling predictor.fit: `predictor.fit(..., ag_args_fit={\"ag.max_memory_usage_ratio\": VALUE})`\n",
      "\t\tSetting \"ag.max_memory_usage_ratio\" to values above 1 may result in out-of-memory errors. You may consider using a machine with more memory as a safer alternative.\n",
      "\tRan out of time, early stopping on iteration 18.\n",
      "\tWarning: Potentially not enough memory to safely train model. Estimated to require 1.655 GB out of 1.685 GB available memory (98.248%)... (100.000% of avail memory is the max safe size)\n",
      "\tTo avoid this warning, specify the model hyperparameter \"ag.max_memory_usage_ratio\" to a larger value (currently 1.0, set to >=1.36 to avoid the warning)\n",
      "\t\tTo set the same value for all models, do the following when calling predictor.fit: `predictor.fit(..., ag_args_fit={\"ag.max_memory_usage_ratio\": VALUE})`\n",
      "\t\tSetting \"ag.max_memory_usage_ratio\" to values above 1 may result in out-of-memory errors. You may consider using a machine with more memory as a safer alternative.\n",
      "\tRan out of time, early stopping on iteration 24.\n",
      "\t0.7348\t = Validation score   (accuracy)\n",
      "\t48.04s\t = Training   runtime\n",
      "\t0.91s\t = Validation runtime\n",
      "Fitting model: WeightedEnsemble_L2 ... Training model for up to 360.0s of the 2.65s of remaining time.\n",
      "\tEnsemble Weights: {'XGBoost_BAG_L1': 1.0}\n",
      "\t0.763\t = Validation score   (accuracy)\n",
      "\t0.84s\t = Training   runtime\n",
      "\t0.0s\t = Validation runtime\n",
      "AutoGluon training complete, total runtime = 895.28s ... Best model: \"WeightedEnsemble_L2\"\n",
      "TabularPredictor saved. To load, use: predictor = TabularPredictor.load(\"AutogluonModels/ag-20240113_125435\")\n"
     ]
    }
   ],
   "source": [
    "from autogluon.tabular import TabularPredictor\n",
    "\n",
    "fit_args = {}\n",
    "fit_args['time_limit'] = 1200\n",
    "label = 'Outcome'  # Replace with the actual target column name\n",
    "\n",
    "# Assuming x_train and x_test are your training and testing datasets\n",
    "# Make sure to replace 'Outcome' with the actual target column name in your dataset\n",
    "predictor = TabularPredictor(label=label)\n",
    "predictor.fit(x_train, presets=\"best_quality\", num_bag_folds=5, **fit_args)\n",
    "\n",
    "# Use the trained predictor to evaluate on the test set\n",
    "performance = predictor.evaluate(x_test)"
   ]
  },
  {
   "cell_type": "code",
   "execution_count": 146,
   "metadata": {},
   "outputs": [
    {
     "name": "stdout",
     "output_type": "stream",
     "text": [
      "{'accuracy': 0.6637931034482759, 'balanced_accuracy': 0.6029411764705883, 'mcc': 0.3021954225063791, 'roc_auc': 0.7469362745098039, 'f1': 0.7692307692307693, 'precision': 0.6435643564356436, 'recall': 0.9558823529411765}\n"
     ]
    }
   ],
   "source": [
    "print(performance)"
   ]
  },
  {
   "cell_type": "code",
   "execution_count": 157,
   "metadata": {
    "scrolled": true
   },
   "outputs": [
    {
     "name": "stdout",
     "output_type": "stream",
     "text": [
      "ROC-AUC: 0.5874101950051318\n"
     ]
    },
    {
     "data": {
      "image/png": "[encoded data removed]",
      "text/plain": [
       "<Figure size 800x600 with 1 Axes>"
      ]
     },
     "metadata": {},
     "output_type": "display_data"
    }
   ],
   "source": [
    "from sklearn.metrics import roc_auc_score\n",
    "import matplotlib.pyplot as plt\n",
    "from sklearn.metrics import roc_curve\n",
    "\n",
    "# Assuming x_test and y_test are your testing data and labels\n",
    "y_true = y_test  # Replace with your actual labels\n",
    "y_pred_proba = predictor.predict_proba(x_test)\n",
    "\n",
    "# Get the probability of the positive class\n",
    "y_pred_proba_pos_class = y_pred_proba.iloc[:, 1]\n",
    "\n",
    "# Calculate ROC-AUC\n",
    "roc_auc = roc_auc_score(y_true, y_pred_proba_pos_class)\n",
    "print(f'ROC-AUC: {roc_auc}')\n",
    "\n",
    "# Plot ROC curve\n",
    "fpr, tpr, _ = roc_curve(y_true, y_pred_proba_pos_class)\n",
    "plt.figure(figsize=(8, 6))\n",
    "plt.plot(fpr, tpr, color='darkorange', lw=2, label='ROC curve')\n",
    "plt.plot([0, 1], [0, 1], color='navy', lw=2, linestyle='--')\n",
    "plt.xlabel('False Positive Rate')\n",
    "plt.ylabel('True Positive Rate')\n",
    "plt.title('ROC Curve')\n",
    "plt.legend(loc='lower right')\n",
    "plt.show()"
   ]
  },
  {
   "cell_type": "markdown",
   "metadata": {
    "id": "Zel30B22dgMq"
   },
   "source": [
    "# Autogluon with Ersilia embeddings"
   ]
  },
  {
   "cell_type": "code",
   "execution_count": 5,
   "metadata": {
    "id": "wMCU2MEcgC_Y",
    "scrolled": true
   },
   "outputs": [
    {
     "name": "stderr",
     "output_type": "stream",
     "text": [
      "/tmp/ipykernel_1655420/2300335342.py:6: DtypeWarning: Columns (2,3,4,5,6,7,8,9,10,11,12,13,14,15,16,17,18,19,20,21,22,23,24,25,26,27,28,29,30,31,32,33,34,35,36,37,38,39,40,41,42,43,44,45,46,47,48,49,50,51,52,53,54,55,56,57,58,59,60,61,62,63,64,65,66,67,68,69,70,71,72,73,74,75,76,77,78,79,80,81,82,83,84,85,86,87,88,89,90,91,92,93,94,95,96,97,98,99,100,101,102,103,104,105,106,107,108,109,110,111,112,113,114,115,116,117,118,119,120,121,122,123,124,125,126,127,128,129,130,131,132,133,134,135,136,137,138,139,140,141,142,143,144,145,146,147,148,149,150,151,152,153,154,155,156,157,158,159,160,161,162,163,164,165,166,167,168,169,170,171,172,173,174,175,176,177,178,179,180,181,182,183,184,185,186,187,188,189,190,191,192,193,194,195,196,197,198,199,200,201,202,203,204,205,206,207,208,209,210,211,212,213,214,215,216,217,218,219,220,221,222,223,224,225,226,227,228,229,230,231,232,233,234,235,236,237,238,239,240,241,242,243,244,245,246,247,248,249,250,251,252,253,254,255,256,257,258,259,260,261,262,263,264,265,266,267,268,269,270,271,272,273,274,275,276,277,278,279,280,281,282,283,284,285,286,287,288,289,290,291,292,293,294,295,296,297,298,299,300,301,302,303,304,305,306,307,308,309,310,311,312,313,314,315,316,317,318,319,320,321,322,323,324,325,326,327,328,329,330,331,332,333,334,335,336,337,338,339,340,341,342,343,344,345,346,347,348,349,350,351,352,353,354,355,356,357,358,359,360,361,362,363,364,365,366,367,368,369,370,371,372,373,374,375,376,377,378,379,380,381,382,383,384,385,386,387,388,389,390,391,392,393,394,395,396,397,398,399,400,401,402,403,404,405,406,407,408,409,410,411,412,413,414,415,416,417,418,419,420,421,422,423,424,425,426,427,428,429,430,431,432,433,434,435,436,437,438,439,440,441,442,443,444,445,446,447,448,449,450,451,452,453,454,455,456,457,458,459,460,461,462,463,464,465,466,467,468,469,470,471,472,473,474,475,476,477,478,479,480,481,482,483,484,485,486,487,488,489,490,491,492,493,494,495,496,497,498,499,500,501,502,503,504,505,506,507,508,509,510,511,512,513,514,515,516,517,518,519,520,521,522,523,524,525,526,527,528,529,530,531,532,533,534,535,536,537,538,539,540,541,542,543,544,545,546,547,548,549,550,551,552,553,554,555,556,557,558,559,560,561,562,563,564,565,566,567,568,569,570,571,572,573,574,575,576,577,578,579,580,581,582,583,584,585,586,587,588,589,590,591,592,593,594,595,596,597,598,599,600,601,602,603,604,605,606,607,608,609,610,611,612,613,614,615,616,617,618,619,620,621,622,623,624,625,626,627,628,629,630,631,632,633,634,635,636,637,638,639,640,641,642,643,644,645,646,647,648,649,650,651,652,653,654,655,656,657,658,659,660,661,662,663,664,665,666,667,668,669,670,671,672,673,674,675,676,677,678,679,680,681,682,683,684,685,686,687,688,689,690,691,692,693,694,695,696,697,698,699,700,701,702,703,704,705,706,707,708,709,710,711,712,713,714,715,716,717,718,810,811,812,813,814,815,816,969,970,971,972,973,974,975,976,977,978,979,980,981,982,983,984,985,986,987,988,989,990,991,992,993,994,995,996,997,998,999,1000,1001,1002,1003,1004,1005,1006,1007,1008,1009,1010,1011,1012,1013,1014,1015,1016,1017,1018,1019,1020,1021,1022,1023,1024,1025,1026,1027,1028,1029,1030,1031,1032,1033,1034,1035,1036,1037,1038,1039,1040,1041,1042,1043,1044,1045,1046,1047,1048,1049,1050,1051,1052,1053,1054,1055,1056,1057,1058,1059,1060,1061,1062,1063,1064,1065,1066,1067,1068,1069,1070,1071,1072,1073,1074,1075,1076,1077,1078,1079,1080,1081,1082,1083,1084,1085,1086,1087,1088,1089,1090,1091,1092,1093,1094,1095,1096,1097,1098,1099,1100,1101,1102,1103,1104,1105,1106,1107,1108,1109,1110,1111,1112,1113,1114,1115,1116,1117,1118,1119,1120,1121,1122,1123,1124,1125,1126,1127,1128,1129,1130,1131,1132,1133,1134,1135,1136,1137,1138,1139,1140,1141,1142,1143,1144,1145,1146,1147,1148,1149,1150,1151,1152,1153,1154,1155,1156,1157,1158,1159,1160,1161,1162,1163,1164,1165,1166,1167,1168,1169,1170,1171,1172,1173,1174,1175,1176,1177,1178,1179,1180,1181,1182,1183,1184,1185,1186,1187,1188,1189,1190,1191,1192,1193,1194,1195,1196,1197,1198,1199,1200,1201,1202,1203,1204,1205,1206,1207,1208,1209,1210,1211,1212,1213,1214,1215,1216,1217,1218,1219,1220,1221,1222,1223,1224,1225,1226,1227,1228,1229,1230,1231,1232,1233,1234,1235,1236,1237,1238,1239,1240,1241,1242,1243,1244,1245,1246,1247,1248,1249,1250,1251,1252,1253,1254,1255,1256,1257,1259,1260,1261,1262,1263,1264,1265,1266,1267,1268,1269,1270,1271,1272,1273,1274,1275,1276,1277,1278,1279,1280,1281,1282,1283,1284,1285,1286,1287,1288,1289,1290,1291,1292,1293,1294,1295,1296,1297,1298,1299,1300,1301,1302,1304,1305,1306,1307,1308,1309,1310,1311,1312,1313,1314,1315,1316,1317,1318,1319,1320,1321,1322,1323,1324,1325,1326,1327,1328,1329,1330,1331,1332,1333,1334,1335,1336,1337,1338,1339,1340,1341,1342,1343,1344,1345,1346,1347,1348,1349,1350,1351,1352,1353,1354,1355,1356,1357,1358,1359,1360,1361,1362,1363,1364,1365,1366,1367,1368,1369,1370,1371,1372,1373,1374,1375,1376,1377,1378,1379,1380,1381,1382,1383,1384,1385,1386,1387,1388,1389,1390,1391,1392,1393,1394,1396,1397,1398,1399,1400,1401,1402,1403,1404,1405,1406,1407,1408,1409,1410,1411,1412,1413,1414,1415,1416,1417,1418,1419,1420,1421,1422,1423,1424,1425,1426,1427) have mixed types. Specify dtype option on import or set low_memory=False.\n",
      "  df = pd.read_csv('../data/updated_dili_padel.csv', names=['smiles', 'Outcome'])\n"
     ]
    }
   ],
   "source": [
    "import pandas as pd\n",
    "from eosce.models import ErsiliaCompoundEmbeddings\n",
    "from sklearn.model_selection import train_test_split\n",
    "\n",
    "# Load your CSV file\n",
    "df = pd.read_csv('../data/updated_dili_padel.csv', names=['smiles', 'Outcome'])\n",
    "\n",
    "# Assuming 'SMILES' is the column containing chemical compounds\n",
    "compounds = df['smiles'].tolist()\n",
    "# Initialize the ErsiliaCompoundEmbeddings model\n",
    "model = ErsiliaCompoundEmbeddings()"
   ]
  },
  {
   "cell_type": "code",
   "execution_count": null,
   "metadata": {},
   "outputs": [],
   "source": [
    "# Create a new column for embeddings\n",
    "df['embeddings'] = df['smiles'].apply(lambda x: model.transform([x])[0])"
   ]
  },
  {
   "cell_type": "code",
   "execution_count": 1,
   "metadata": {},
   "outputs": [
    {
     "ename": "NameError",
     "evalue": "name 'X' is not defined",
     "output_type": "error",
     "traceback": [
      "\u001b[0;31m---------------------------------------------------------------------------\u001b[0m",
      "\u001b[0;31mNameError\u001b[0m                                 Traceback (most recent call last)",
      "Cell \u001b[0;32mIn[1], line 1\u001b[0m\n\u001b[0;32m----> 1\u001b[0m \u001b[38;5;28mprint\u001b[39m(\u001b[43mX\u001b[49m)\n",
      "\u001b[0;31mNameError\u001b[0m: name 'X' is not defined"
     ]
    }
   ],
   "source": [
    "print(X)"
   ]
  },
  {
   "cell_type": "code",
   "execution_count": 2,
   "metadata": {
    "id": "U21Ci5Dtgotq"
   },
   "outputs": [
    {
     "ename": "NameError",
     "evalue": "name 'X' is not defined",
     "output_type": "error",
     "traceback": [
      "\u001b[0;31m---------------------------------------------------------------------------\u001b[0m",
      "\u001b[0;31mNameError\u001b[0m                                 Traceback (most recent call last)",
      "Cell \u001b[0;32mIn[2], line 3\u001b[0m\n\u001b[1;32m      1\u001b[0m \u001b[38;5;28;01mfrom\u001b[39;00m \u001b[38;5;21;01msklearn\u001b[39;00m\u001b[38;5;21;01m.\u001b[39;00m\u001b[38;5;21;01mmodel_selection\u001b[39;00m \u001b[38;5;28;01mimport\u001b[39;00m train_test_split\n\u001b[1;32m      2\u001b[0m \u001b[38;5;66;03m# Split the data into training and testing sets\u001b[39;00m\n\u001b[0;32m----> 3\u001b[0m x_train, x_test, y_train, y_test \u001b[38;5;241m=\u001b[39m train_test_split(\u001b[43mX\u001b[49m, y, test_size\u001b[38;5;241m=\u001b[39m\u001b[38;5;241m0.20\u001b[39m, random_state\u001b[38;5;241m=\u001b[39m\u001b[38;5;241m42\u001b[39m)\n",
      "\u001b[0;31mNameError\u001b[0m: name 'X' is not defined"
     ]
    }
   ],
   "source": [
    "from sklearn.model_selection import train_test_split\n",
    "# Split the data into training and testing sets\n",
    "x_train, x_test, y_train, y_test = train_test_split(X, y, test_size=0.20, random_state=42)"
   ]
  },
  {
   "cell_type": "code",
   "execution_count": 167,
   "metadata": {},
   "outputs": [
    {
     "name": "stdout",
     "output_type": "stream",
     "text": [
      "RangeIndex(start=0, stop=1024, step=1)\n"
     ]
    }
   ],
   "source": [
    "print(x_train.columns)"
   ]
  },
  {
   "cell_type": "code",
   "execution_count": 168,
   "metadata": {},
   "outputs": [
    {
     "name": "stdout",
     "output_type": "stream",
     "text": [
      "         0         1         2         3         4         5         6     \\\n",
      "437  0.127427 -0.004135 -0.212875 -0.026668 -0.222727  0.087154 -0.031249   \n",
      "63   0.082051 -0.033828 -0.053203  0.010774 -0.088249 -0.030702 -0.033679   \n",
      "208  0.143773  0.056004  0.011803 -0.069881  0.003094  0.032696 -0.038485   \n",
      "60   0.055744  0.116630  0.174107 -0.046456 -0.031330  0.026069 -0.087552   \n",
      "15   0.013005 -0.102560  0.015898  0.107086  0.024970  0.114120 -0.042301   \n",
      "\n",
      "         7         8         9     ...      1014      1015      1016  \\\n",
      "437  0.001374  0.002058  0.083939  ...  0.097699  0.007493 -0.075238   \n",
      "63   0.094382  0.030732  0.004939  ... -0.054011  0.035624  0.065145   \n",
      "208  0.077568 -0.034228  0.009425  ...  0.059974  0.050056 -0.134849   \n",
      "60  -0.026358  0.253476  0.137459  ... -0.072057 -0.021769  0.147516   \n",
      "15   0.106681 -0.290475  0.011969  ... -0.078854  0.149491 -0.010071   \n",
      "\n",
      "         1017      1018      1019      1020      1021      1022      1023  \n",
      "437  0.072093  0.018913  0.010880  0.221313  0.213311 -0.166151 -0.092179  \n",
      "63  -0.063173 -0.019831 -0.016690 -0.026605 -0.052767  0.045114  0.036574  \n",
      "208 -0.005842  0.019148 -0.163400 -0.055365  0.007531 -0.186040 -0.012151  \n",
      "60  -0.065280 -0.059181 -0.017388  0.107429 -0.006764  0.036462 -0.035209  \n",
      "15  -0.104437 -0.198323  0.001744 -0.051220  0.000305 -0.063163 -0.109675  \n",
      "\n",
      "[5 rows x 1024 columns]\n"
     ]
    }
   ],
   "source": [
    "print(x_train.head())"
   ]
  },
  {
   "cell_type": "code",
   "execution_count": 166,
   "metadata": {
    "id": "f5ld0clDguht"
   },
   "outputs": [
    {
     "name": "stderr",
     "output_type": "stream",
     "text": [
      "No path specified. Models will be saved in: \"AutogluonModels/ag-20240113_141434\"\n",
      "Presets specified: ['best_quality']\n"
     ]
    },
    {
     "ename": "KeyError",
     "evalue": "'Outcome'",
     "output_type": "error",
     "traceback": [
      "\u001b[0;31m---------------------------------------------------------------------------\u001b[0m",
      "\u001b[0;31mKeyError\u001b[0m                                  Traceback (most recent call last)",
      "Cell \u001b[0;32mIn[166], line 8\u001b[0m\n\u001b[1;32m      4\u001b[0m label \u001b[38;5;241m=\u001b[39m \u001b[38;5;124m'\u001b[39m\u001b[38;5;124mOutcome\u001b[39m\u001b[38;5;124m'\u001b[39m\n\u001b[1;32m      7\u001b[0m predictor \u001b[38;5;241m=\u001b[39m TabularPredictor(label\u001b[38;5;241m=\u001b[39mlabel)\n\u001b[0;32m----> 8\u001b[0m \u001b[43mpredictor\u001b[49m\u001b[38;5;241;43m.\u001b[39;49m\u001b[43mfit\u001b[49m\u001b[43m(\u001b[49m\u001b[43mx_train\u001b[49m\u001b[43m,\u001b[49m\u001b[43m \u001b[49m\u001b[43mpresets\u001b[49m\u001b[38;5;241;43m=\u001b[39;49m\u001b[38;5;124;43m\"\u001b[39;49m\u001b[38;5;124;43mbest_quality\u001b[39;49m\u001b[38;5;124;43m\"\u001b[39;49m\u001b[43m,\u001b[49m\u001b[43m \u001b[49m\u001b[38;5;241;43m*\u001b[39;49m\u001b[38;5;241;43m*\u001b[39;49m\u001b[43mfit_args\u001b[49m\u001b[43m)\u001b[49m\n\u001b[1;32m     10\u001b[0m performance \u001b[38;5;241m=\u001b[39m predictor\u001b[38;5;241m.\u001b[39mevaluate(x_test)\n",
      "File \u001b[0;32m~/miniconda3/envs/chemprop/lib/python3.8/site-packages/autogluon/core/utils/decorators.py:31\u001b[0m, in \u001b[0;36munpack.<locals>._unpack_inner.<locals>._call\u001b[0;34m(*args, **kwargs)\u001b[0m\n\u001b[1;32m     28\u001b[0m \u001b[38;5;129m@functools\u001b[39m\u001b[38;5;241m.\u001b[39mwraps(f)\n\u001b[1;32m     29\u001b[0m \u001b[38;5;28;01mdef\u001b[39;00m \u001b[38;5;21m_call\u001b[39m(\u001b[38;5;241m*\u001b[39margs, \u001b[38;5;241m*\u001b[39m\u001b[38;5;241m*\u001b[39mkwargs):\n\u001b[1;32m     30\u001b[0m     gargs, gkwargs \u001b[38;5;241m=\u001b[39m g(\u001b[38;5;241m*\u001b[39mother_args, \u001b[38;5;241m*\u001b[39margs, \u001b[38;5;241m*\u001b[39m\u001b[38;5;241m*\u001b[39mkwargs)\n\u001b[0;32m---> 31\u001b[0m     \u001b[38;5;28;01mreturn\u001b[39;00m \u001b[43mf\u001b[49m\u001b[43m(\u001b[49m\u001b[38;5;241;43m*\u001b[39;49m\u001b[43mgargs\u001b[49m\u001b[43m,\u001b[49m\u001b[43m \u001b[49m\u001b[38;5;241;43m*\u001b[39;49m\u001b[38;5;241;43m*\u001b[39;49m\u001b[43mgkwargs\u001b[49m\u001b[43m)\u001b[49m\n",
      "File \u001b[0;32m~/miniconda3/envs/chemprop/lib/python3.8/site-packages/autogluon/tabular/predictor/predictor.py:1003\u001b[0m, in \u001b[0;36mTabularPredictor.fit\u001b[0;34m(self, train_data, tuning_data, time_limit, presets, hyperparameters, feature_metadata, infer_limit, infer_limit_batch_size, fit_weighted_ensemble, fit_full_last_level_weighted_ensemble, full_weighted_ensemble_additionally, dynamic_stacking, calibrate_decision_threshold, num_cpus, num_gpus, **kwargs)\u001b[0m\n\u001b[1;32m   1001\u001b[0m     inferred_problem_type \u001b[38;5;241m=\u001b[39m \u001b[38;5;28mself\u001b[39m\u001b[38;5;241m.\u001b[39mproblem_type\n\u001b[1;32m   1002\u001b[0m \u001b[38;5;28;01melse\u001b[39;00m:\n\u001b[0;32m-> 1003\u001b[0m     inferred_problem_type \u001b[38;5;241m=\u001b[39m \u001b[38;5;28mself\u001b[39m\u001b[38;5;241m.\u001b[39m_learner\u001b[38;5;241m.\u001b[39minfer_problem_type(y\u001b[38;5;241m=\u001b[39m\u001b[43mtrain_data\u001b[49m\u001b[43m[\u001b[49m\u001b[38;5;28;43mself\u001b[39;49m\u001b[38;5;241;43m.\u001b[39;49m\u001b[43mlabel\u001b[49m\u001b[43m]\u001b[49m, silent\u001b[38;5;241m=\u001b[39m\u001b[38;5;28;01mTrue\u001b[39;00m)\n\u001b[1;32m   1005\u001b[0m num_bag_folds, num_bag_sets, num_stack_levels, dynamic_stacking \u001b[38;5;241m=\u001b[39m \u001b[38;5;28mself\u001b[39m\u001b[38;5;241m.\u001b[39m_sanitize_stack_args(\n\u001b[1;32m   1006\u001b[0m     num_bag_folds\u001b[38;5;241m=\u001b[39mnum_bag_folds,\n\u001b[1;32m   1007\u001b[0m     num_bag_sets\u001b[38;5;241m=\u001b[39mnum_bag_sets,\n\u001b[0;32m   (...)\u001b[0m\n\u001b[1;32m   1013\u001b[0m     dynamic_stacking\u001b[38;5;241m=\u001b[39mdynamic_stacking,\n\u001b[1;32m   1014\u001b[0m )\n\u001b[1;32m   1015\u001b[0m \u001b[38;5;28;01mif\u001b[39;00m auto_stack:\n",
      "File \u001b[0;32m~/miniconda3/envs/chemprop/lib/python3.8/site-packages/pandas/core/frame.py:3761\u001b[0m, in \u001b[0;36mDataFrame.__getitem__\u001b[0;34m(self, key)\u001b[0m\n\u001b[1;32m   3759\u001b[0m \u001b[38;5;28;01mif\u001b[39;00m \u001b[38;5;28mself\u001b[39m\u001b[38;5;241m.\u001b[39mcolumns\u001b[38;5;241m.\u001b[39mnlevels \u001b[38;5;241m>\u001b[39m \u001b[38;5;241m1\u001b[39m:\n\u001b[1;32m   3760\u001b[0m     \u001b[38;5;28;01mreturn\u001b[39;00m \u001b[38;5;28mself\u001b[39m\u001b[38;5;241m.\u001b[39m_getitem_multilevel(key)\n\u001b[0;32m-> 3761\u001b[0m indexer \u001b[38;5;241m=\u001b[39m \u001b[38;5;28;43mself\u001b[39;49m\u001b[38;5;241;43m.\u001b[39;49m\u001b[43mcolumns\u001b[49m\u001b[38;5;241;43m.\u001b[39;49m\u001b[43mget_loc\u001b[49m\u001b[43m(\u001b[49m\u001b[43mkey\u001b[49m\u001b[43m)\u001b[49m\n\u001b[1;32m   3762\u001b[0m \u001b[38;5;28;01mif\u001b[39;00m is_integer(indexer):\n\u001b[1;32m   3763\u001b[0m     indexer \u001b[38;5;241m=\u001b[39m [indexer]\n",
      "File \u001b[0;32m~/miniconda3/envs/chemprop/lib/python3.8/site-packages/pandas/core/indexes/range.py:349\u001b[0m, in \u001b[0;36mRangeIndex.get_loc\u001b[0;34m(self, key)\u001b[0m\n\u001b[1;32m    347\u001b[0m         \u001b[38;5;28;01mraise\u001b[39;00m \u001b[38;5;167;01mKeyError\u001b[39;00m(key) \u001b[38;5;28;01mfrom\u001b[39;00m \u001b[38;5;21;01merr\u001b[39;00m\n\u001b[1;32m    348\u001b[0m \u001b[38;5;28;01mif\u001b[39;00m \u001b[38;5;28misinstance\u001b[39m(key, Hashable):\n\u001b[0;32m--> 349\u001b[0m     \u001b[38;5;28;01mraise\u001b[39;00m \u001b[38;5;167;01mKeyError\u001b[39;00m(key)\n\u001b[1;32m    350\u001b[0m \u001b[38;5;28mself\u001b[39m\u001b[38;5;241m.\u001b[39m_check_indexing_error(key)\n\u001b[1;32m    351\u001b[0m \u001b[38;5;28;01mraise\u001b[39;00m \u001b[38;5;167;01mKeyError\u001b[39;00m(key)\n",
      "\u001b[0;31mKeyError\u001b[0m: 'Outcome'"
     ]
    }
   ],
   "source": [
    "fit_args = {}\n",
    "# fit_args['excluded_model_types'] = ['NN', 'FASTAI']\n",
    "fit_args['time_limit'] = 1200\n",
    "label = 'Outcome'\n",
    "\n",
    "\n",
    "predictor = TabularPredictor(label=label)\n",
    "predictor.fit(x_train, presets=\"best_quality\", **fit_args)\n",
    "\n",
    "performance = predictor.evaluate(x_test)"
   ]
  },
  {
   "cell_type": "code",
   "execution_count": null,
   "metadata": {
    "id": "pksBlMibgysG"
   },
   "outputs": [],
   "source": []
  }
 ],
 "metadata": {
  "colab": {
   "collapsed_sections": [
    "NSGHAyXwPsQV",
    "XkV_8xajbyRf",
    "5JHPytsO5Jez"
   ],
   "name": "",
   "provenance": [
    {
     "file_id": "1dPTDhgcUS4fZy4yKlGHy-9D2tKwJfaqd",
     "timestamp": 1704348210233
    }
   ],
   "version": ""
  },
  "kernelspec": {
   "display_name": "Python 3 (ipykernel)",
   "language": "python",
   "name": "python3"
  },
  "language_info": {
   "codemirror_mode": {
    "name": "ipython",
    "version": 3
   },
   "file_extension": ".py",
   "mimetype": "text/x-python",
   "name": "python",
   "nbconvert_exporter": "python",
   "pygments_lexer": "ipython3",
   "version": "3.8.18"
  }
 },
 "nbformat": 4,
 "nbformat_minor": 4
}
